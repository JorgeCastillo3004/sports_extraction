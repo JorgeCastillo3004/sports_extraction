{
 "cells": [
  {
   "cell_type": "code",
   "execution_count": 4,
   "id": "f0af7de8",
   "metadata": {},
   "outputs": [
    {
     "name": "stdout",
     "output_type": "stream",
     "text": [
      "The autoreload extension is already loaded. To reload it, use:\n",
      "  %reload_ext autoreload\n"
     ]
    }
   ],
   "source": [
    "from selenium.webdriver.support import expected_conditions as EC\n",
    "from selenium.webdriver.support.ui import WebDriverWait\n",
    "from selenium.webdriver.chrome.options import Options\n",
    "from selenium.webdriver.chrome.service import Service\n",
    "from selenium.webdriver.support.ui import Select\n",
    "from selenium.webdriver.common.keys import Keys\n",
    "from selenium.webdriver.common.by import By\n",
    "import chromedriver_autoinstaller\n",
    "from selenium import webdriver\n",
    "from datetime import datetime\n",
    "import pandas as pd\n",
    "import random\n",
    "import time\n",
    "import json\n",
    "import re\n",
    "import os\n",
    "from selenium.webdriver.support.ui import Select\n",
    "from datetime import date, timedelta\n",
    "import string\n",
    "\n",
    "from common_functions import *\n",
    "from data_base import *\n",
    "from milestone1 import *\n",
    "from milestone2 import *\n",
    "from milestone3 import *\n",
    "from milestone4 import *\n",
    "from milestone6 import *\n",
    "from milestone7 import *\n",
    "# from main import *\n",
    "\n",
    "# Load the autoreload extension\n",
    "%load_ext autoreload\n",
    "\n",
    "\n",
    "# Enable autoreload for all modules\n",
    "%autoreload 2\n",
    "\n",
    "\n",
    "# from flashcore_extraction import *"
   ]
  },
  {
   "cell_type": "code",
   "execution_count": 40,
   "id": "a9fcee15",
   "metadata": {},
   "outputs": [],
   "source": [
    "from IPython.display import display, Image\n",
    "# Server credentials\n",
    "# Usuario: jignacio@jweglobal.com\n",
    "# Contraseña: Caracas5050@\n",
    "# Server OS: Linux - Debian 12\n",
    "# ssh root@104.156.244.145\n",
    "# 3,uM$2M4BnE.R*f*\n",
    "# User: root\n",
    "driver.quit()\n",
    "# docker exec -it sports_container psql -U wohhu -d sports_db\n",
    "\n",
    "SELECT league_id, COUNT(*) \n",
    "FROM league_team \n",
    "GROUP BY league_id;\n",
    "\n",
    "SELECT COUNT(*) FROM match; ##################### USED TO COUNT THE NUMBER OF RESULTS\n"
   ]
  },
  {
   "cell_type": "markdown",
   "id": "75bf0a9b",
   "metadata": {},
   "source": [
    "### Load flashscore website"
   ]
  },
  {
   "cell_type": "code",
   "execution_count": 5,
   "id": "be827c6d",
   "metadata": {},
   "outputs": [
    {
     "name": "stdout",
     "output_type": "stream",
     "text": [
      "Login... \n",
      "\n"
     ]
    }
   ],
   "source": [
    "driver = launch_navigator('https://www.flashscore.com', False)\n",
    "login(driver, email_= \"jignacio@jweglobal.com\", password_ = \"Caracas5050@\\n\")"
   ]
  },
  {
   "cell_type": "code",
   "execution_count": 72,
   "id": "d71cab21",
   "metadata": {
    "scrolled": true
   },
   "outputs": [
    {
     "name": "stdout",
     "output_type": "stream",
     "text": [
      "######################################################################################################\n",
      "#                                                GOLF                                                #\n",
      "######################################################################################################\n",
      "https://www.flashscore.com/news/golf/\n",
      "max_older_news:  31\n",
      "last_news_saved_sport:  ['McIlroy wants golf to go global with fifth major in Australia and more events in Japan', \"Rickie Fowler reveals he has 'zero plans' to join LIV Golf\", 'Tiger Woods announces end of long-time partnership with Nike', 'Late birdie lifts Chris Kirk to PGA victory at Sentry tournament', 'Chris Kirk climbs to register one-shot PGA Tour lead at The Sentry']\n",
      "news_date:  5 h ago # 2024-01-10 07:11:05.621414 # 5:00:00\n",
      "NEWS TIME:  2024-01-10 07:11:05.621414\n",
      "Duplicate news: \n",
      "0\n",
      "################################################## \n",
      "\n",
      "news_date:  Yesterday 09:59 # 2024-01-09 13:59:00.000005 # 22:12:05.621409\n",
      "NEWS TIME:  2024-01-09 13:59:00.000005\n",
      "Duplicate news: \n",
      "0\n",
      "################################################## \n",
      "\n",
      "news_date:  08.01.2024 13:23 # 2024-01-08 17:23:00.000005 # 1 day, 18:48:05.621409\n",
      "NEWS TIME:  2024-01-08 17:23:00.000005\n",
      "Duplicate news: \n",
      "0\n",
      "################################################## \n",
      "\n",
      "news_date:  08.01.2024 02:35 # 2024-01-08 06:35:00.000005 # 2 days, 5:36:05.621409\n",
      "NEWS TIME:  2024-01-08 06:35:00.000005\n",
      "Duplicate news: \n",
      "0\n",
      "################################################## \n",
      "\n",
      "news_date:  07.01.2024 03:45 # 2024-01-07 07:45:00.000005 # 3 days, 4:26:05.621409\n",
      "NEWS TIME:  2024-01-07 07:45:00.000005\n",
      "Duplicate news: \n",
      "0\n",
      "################################################## \n",
      "\n",
      "news_date:  07.01.2024 02:34 # 2024-01-07 06:34:00.000005 # 3 days, 5:37:05.621409\n",
      "NEWS TIME:  2024-01-07 06:34:00.000005\n",
      "Duplicate news: \n",
      "0\n",
      "################################################## \n",
      "\n",
      "news_date:  06.01.2024 04:12 # 2024-01-06 08:12:00.000005 # 4 days, 3:59:05.621409\n",
      "NEWS TIME:  2024-01-06 08:12:00.000005\n",
      "Duplicate news: \n",
      "0\n",
      "################################################## \n",
      "\n",
      "news_date:  05.01.2024 03:28 # 2024-01-05 07:28:00.000005 # 5 days, 4:43:05.621409\n",
      "NEWS TIME:  2024-01-05 07:28:00.000005\n",
      "Duplicate news: \n",
      "0\n",
      "################################################## \n",
      "\n",
      "news_date:  04.01.2024 16:51 # 2024-01-04 20:51:00.000005 # 5 days, 15:20:05.621409\n",
      "NEWS TIME:  2024-01-04 20:51:00.000005\n",
      "Duplicate news: \n",
      "0\n",
      "################################################## \n",
      "\n",
      "news_date:  04.01.2024 15:25 # 2024-01-04 19:25:00.000005 # 5 days, 16:46:05.621409\n",
      "NEWS TIME:  2024-01-04 19:25:00.000005\n",
      "Duplicate news: \n",
      "0\n",
      "################################################## \n",
      "\n",
      "news_date:  04.01.2024 03:52 # 2024-01-04 07:52:00.000005 # 6 days, 4:19:05.621409\n",
      "NEWS TIME:  2024-01-04 07:52:00.000005\n",
      "Duplicate news: \n",
      "0\n",
      "################################################## \n",
      "\n",
      "news_date:  04.01.2024 02:57 # 2024-01-04 06:57:00.000005 # 6 days, 5:14:05.621409\n",
      "NEWS TIME:  2024-01-04 06:57:00.000005\n",
      "Duplicate news: \n",
      "0\n",
      "################################################## \n",
      "\n",
      "news_date:  03.01.2024 18:37 # 2024-01-03 22:37:00.000005 # 6 days, 13:34:05.621409\n",
      "NEWS TIME:  2024-01-03 22:37:00.000005\n",
      "Duplicate news: \n",
      "0\n",
      "################################################## \n",
      "\n",
      "news_date:  03.01.2024 10:18 # 2024-01-03 14:18:00.000005 # 6 days, 21:53:05.621409\n",
      "NEWS TIME:  2024-01-03 14:18:00.000005\n",
      "Duplicate news: \n",
      "0\n",
      "################################################## \n",
      "\n",
      "news_date:  03.01.2024 04:20 # 2024-01-03 08:20:00.000005 # 7 days, 3:51:05.621409\n",
      "NEWS TIME:  2024-01-03 08:20:00.000005\n",
      "Duplicate news: \n",
      "0\n",
      "################################################## \n",
      "\n",
      "news_date:  01.01.2024 05:50 # 2024-01-01 09:50:00.000005 # 9 days, 2:21:05.621409\n",
      "NEWS TIME:  2024-01-01 09:50:00.000005\n",
      "Duplicate news: \n",
      "0\n",
      "################################################## \n",
      "\n",
      "news_date:  01.01.2024 05:00 # 2024-01-01 09:00:00.000005 # 9 days, 3:11:05.621409\n",
      "NEWS TIME:  2024-01-01 09:00:00.000005\n",
      "Duplicate news: \n",
      "0\n",
      "################################################## \n",
      "\n",
      "news_date:  25.12.2023 12:57 # 2023-12-25 16:57:00.000005 # 15 days, 19:14:05.621409\n",
      "NEWS TIME:  2023-12-25 16:57:00.000005\n",
      "Duplicate news: \n",
      "0\n",
      "################################################## \n",
      "\n",
      "news_date:  19.12.2023 09:09 # 2023-12-19 13:09:00.000005 # 21 days, 23:02:05.621409\n",
      "NEWS TIME:  2023-12-19 13:09:00.000005\n",
      "Duplicate news: \n",
      "0\n",
      "################################################## \n",
      "\n",
      "news_date:  19.12.2023 03:59 # 2023-12-19 07:59:00.000005 # 22 days, 4:12:05.621409\n",
      "NEWS TIME:  2023-12-19 07:59:00.000005\n",
      "Duplicate news: \n",
      "0\n",
      "################################################## \n",
      "\n",
      "news_date:  18.12.2023 02:41 # 2023-12-18 06:41:00.000005 # 23 days, 5:30:05.621409\n",
      "NEWS TIME:  2023-12-18 06:41:00.000005\n",
      "Duplicate news: \n",
      "0\n",
      "################################################## \n",
      "\n",
      "news_date:  17.12.2023 09:47 # 2023-12-17 13:47:00.000005 # 23 days, 22:24:05.621409\n",
      "NEWS TIME:  2023-12-17 13:47:00.000005\n",
      "Duplicate news: \n",
      "0\n",
      "################################################## \n",
      "\n",
      "news_date:  17.12.2023 01:58 # 2023-12-17 05:58:00.000005 # 24 days, 6:13:05.621409\n",
      "NEWS TIME:  2023-12-17 05:58:00.000005\n",
      "Duplicate news: \n",
      "0\n",
      "################################################## \n",
      "\n",
      "news_date:  16.12.2023 09:12 # 2023-12-16 13:12:00.000005 # 24 days, 22:59:05.621409\n",
      "NEWS TIME:  2023-12-16 13:12:00.000005\n",
      "Duplicate news: \n",
      "0\n",
      "################################################## \n",
      "\n",
      "news_date:  14.12.2023 12:00 # 2023-12-14 16:00:00.000005 # 26 days, 20:11:05.621409\n",
      "NEWS TIME:  2023-12-14 16:00:00.000005\n",
      "Duplicate news: \n",
      "0\n",
      "################################################## \n",
      "\n",
      "news_date:  14.12.2023 11:49 # 2023-12-14 15:49:00.000005 # 26 days, 20:22:05.621409\n",
      "NEWS TIME:  2023-12-14 15:49:00.000005\n",
      "Duplicate news: \n",
      "0\n",
      "################################################## \n",
      "\n",
      "NEW LIST:  ['McIlroy wants golf to go global with fifth major in Australia and more events in Japan', \"Rickie Fowler reveals he has 'zero plans' to join LIV Golf\", 'Tiger Woods announces end of long-time partnership with Nike', 'Late birdie lifts Chris Kirk to PGA victory at Sentry tournament', 'Chris Kirk climbs to register one-shot PGA Tour lead at The Sentry']\n",
      "list_upate_news:  0\n"
     ]
    }
   ],
   "source": [
    "main_extract_news(driver, ['GOLF'], MAX_OLDER_DATE_ALLOWED = 31)"
   ]
  },
  {
   "cell_type": "code",
   "execution_count": 67,
   "id": "607274df",
   "metadata": {
    "scrolled": true
   },
   "outputs": [
    {
     "ename": "TypeError",
     "evalue": "create_leagues() missing 1 required positional argument: 'list_sports'",
     "output_type": "error",
     "traceback": [
      "\u001b[0;31m---------------------------------------------------------------------------\u001b[0m",
      "\u001b[0;31mTypeError\u001b[0m                                 Traceback (most recent call last)",
      "Cell \u001b[0;32mIn [67], line 1\u001b[0m\n\u001b[0;32m----> 1\u001b[0m create_leagues(driver)\n",
      "\u001b[0;31mTypeError\u001b[0m: create_leagues() missing 1 required positional argument: 'list_sports'"
     ]
    }
   ],
   "source": [
    "create_leagues(driver)"
   ]
  },
  {
   "cell_type": "markdown",
   "id": "088df19c",
   "metadata": {},
   "source": [
    "### M3 TEAMS CREATION."
   ]
  },
  {
   "cell_type": "markdown",
   "id": "e4299478",
   "metadata": {},
   "source": [
    "### M4 Getting complete match data."
   ]
  },
  {
   "cell_type": "markdown",
   "id": "7d5b8207",
   "metadata": {},
   "source": [
    "### Check files generated."
   ]
  },
  {
   "cell_type": "code",
   "execution_count": null,
   "id": "2baad2c1",
   "metadata": {},
   "outputs": [],
   "source": [
    "live_games(driver, list_sports)"
   ]
  },
  {
   "cell_type": "code",
   "execution_count": null,
   "id": "0800ae0c",
   "metadata": {},
   "outputs": [],
   "source": []
  },
  {
   "cell_type": "markdown",
   "id": "60bdcb5e",
   "metadata": {},
   "source": [
    "# Get all news.\n",
    "\n",
    "- It toke the input dict_news_links ='check_points/flashscore_links.json\n",
    "- It navigate through all the sports and news links to extract all the data.\n",
    "- It extract image, title, summary, mentions and save it in the data base."
   ]
  },
  {
   "cell_type": "code",
   "execution_count": 3,
   "id": "4eb708a7",
   "metadata": {
    "scrolled": true
   },
   "outputs": [
    {
     "name": "stdout",
     "output_type": "stream",
     "text": [
      "Initialization\n",
      "dict_check_point:  {'country': '', 'team': ''}\n",
      "--------------------------- SPORT---------------------------\n",
      "--------------------------- COUNTRY-------------------\n",
      "--------------------------- TEAM ------------\n",
      "Premier_League {'url_team': 'https://www.flashscore.com/football/england/premier-league/', 'url_news': 'https://www.flashscore.com/football/england/premier-league/news/'}\n",
      "https://www.flashscore.com/football/england/premier-league/news/ \n",
      "\n",
      "news_content Exceed max len:  16392 / 18916\n",
      "news_id 21--title 76--news_summary 179--news_content 18916--image 32--published 26--news_tags 201--news_id 21--title 84--news_summary 167--news_content 4912--image 32--published 26--news_tags 69--news_id 21--title 71--news_summary 236--news_content 2797--image 32--published 26--news_tags 77--news_id 21--title 72--news_summary 251--news_content 4887--image 32--published 26--news_tags 57--news_id 21--title 66--news_summary 240--news_content 6618--image 32--published 26--news_tags 57--news_id 21--title 70--news_summary 137--news_content 2716--image 32--published 26--news_tags 58--news_id 21--title 81--news_summary 306--news_content 5844--image 32--published 26--news_tags 47--news_id 21--title 72--news_summary 143--news_content 3768--image 32--published 26--news_tags 48--news_id 21--title 68--news_summary 169--news_content 2259--image 32--published 26--news_tags 33--news_id 21--title 73--news_summary 221--news_content 2855--image 32--published 26--news_tags 82----------------------------- TEAM ------------\n",
      "Championship {'url_team': 'https://www.flashscore.com/football/england/championship/', 'url_news': 'https://www.flashscore.com/football/england/championship/news/'}\n",
      "https://www.flashscore.com/football/england/championship/news/ \n",
      "\n",
      "news_id 21--title 74--news_summary 238--news_content 12622--image 32--published 26--news_tags 50--news_id 21--title 81--news_summary 116--news_content 4464--image 32--published 26--news_tags 73--news_id 21--title 80--news_summary 214--news_content 11839--image 32--published 26--news_tags 132--news_id 21--title 66--news_summary 167--news_content 5328--image 32--published 26--news_tags 70--news_id 21--title 72--news_summary 192--news_content 9384--image 32--published 26--news_tags 145--news_id 21--title 77--news_summary 185--news_content 1369--image 32--published 26--news_tags 45--news_id 21--title 78--news_summary 171--news_content 4596--image 32--published 26--news_tags 83--news_id 21--title 76--news_summary 115--news_content 7024--image 32--published 26--news_tags 108--news_id 21--title 83--news_summary 201--news_content 7204--image 32--published 26--news_tags 134--news_id 21--title 79--news_summary 154--news_content 3519--image 32--published 26--news_tags 64----------------------------- TEAM ------------\n",
      "League_One {'url_team': 'https://www.flashscore.com/football/england/league-one/', 'url_news': 'https://www.flashscore.com/football/england/league-one/news/'}\n",
      "https://www.flashscore.com/football/england/league-one/news/ \n",
      "\n",
      "news_id 21--title 63--news_summary 111--news_content 2281--image 32--published 26--news_tags 115--news_tags Exceed max len:  255 / 372\n",
      "news_id 21--title 71--news_summary 191--news_content 4602--image 32--published 26--news_tags 372--news_id 21--title 80--news_summary 111--news_content 1892--image 32--published 26--news_tags 27--news_id 21--title 73--news_summary 175--news_content 2240--image 32--published 26--news_tags 42--news_id 21--title 73--news_summary 244--news_content 1807--image 32--published 26--news_tags 41--news_id 21--title 71--news_summary 189--news_content 2010--image 32--published 26--news_tags 27--news_id 21--title 56--news_summary 209--news_content 2079--image 32--published 26--news_tags 41--news_id 21--title 75--news_summary 170--news_content 4804--image 32--published 26--news_tags 87--news_id 21--title 70--news_summary 219--news_content 2005--image 32--published 26--news_tags 46--news_id 21--title 67--news_summary 242--news_content 4478--image 32--published 26--news_tags 62----------------------------- TEAM ------------\n",
      "League_Two {'url_team': 'https://www.flashscore.com/football/england/league-two/', 'url_news': 'https://www.flashscore.com/football/england/league-two/news/'}\n",
      "https://www.flashscore.com/football/england/league-two/news/ \n",
      "\n",
      "news_id 21--title 72--news_summary 192--news_content 7125--image 32--published 26--news_tags 145--news_id 21--title 58--news_summary 182--news_content 1979--image 32--published 26--news_tags 41--news_id 21--title 74--news_summary 204--news_content 3047--image 32--published 26--news_tags 34--news_id 21--title 75--news_summary 205--news_content 2139--image 32--published 26--news_tags 34--news_tags Exceed max len:  255 / 372\n",
      "news_id 21--title 71--news_summary 191--news_content 4602--image 32--published 26--news_tags 372--news_id 21--title 59--news_summary 246--news_content 1969--image 32--published 26--news_tags 41--news_id 21--title 70--news_summary 219--news_content 2005--image 32--published 26--news_tags 46--news_id 21--title 60--news_summary 251--news_content 3160--image 32--published 26--news_tags 75--news_id 21--title 64--news_summary 187--news_content 2743--image 32--published 26--news_tags 60--news_id 21--title 67--news_summary 242--news_content 4478--image 32--published 26--news_tags 62----------------------------- TEAM ------------\n",
      "National_League {'url_team': 'https://www.flashscore.com/football/england/national-league/', 'url_news': 'https://www.flashscore.com/football/england/national-league/news/'}\n",
      "https://www.flashscore.com/football/england/national-league/news/ \n",
      "\n",
      "news_id 21--title 72--news_summary 192--news_content 7125--image 32--published 26--news_tags 145--news_id 21--title 60--news_summary 251--news_content 3160--image 32--published 26--news_tags 75--news_id 21--title 64--news_summary 187--news_content 2743--image 32--published 26--news_tags 60--news_id 21--title 70--news_summary 221--news_content 6161--image 32--published 26--news_tags 111--news_id 21--title 52--news_summary 199--news_content 4861--image 32--published 26--news_tags 34--news_id 21--title 63--news_summary 216--news_content 2271--image 32--published 26--news_tags 63--news_id 21--title 83--news_summary 191--news_content 1956--image 32--published 26--news_tags 48--news_id 21--title 76--news_summary 213--news_content 2776--image 32--published 26--news_tags 34----------------------------- TEAM ------------\n",
      "National_League_North {'url_team': 'https://www.flashscore.com/football/england/national-league-north/', 'url_news': 'https://www.flashscore.com/football/england/national-league-north/news/'}\n",
      "https://www.flashscore.com/football/england/national-league-north/news/ \n",
      "\n",
      "Case no results\n",
      "--------------------------- TEAM ------------\n",
      "National_League_South {'url_team': 'https://www.flashscore.com/football/england/national-league-south/', 'url_news': 'https://www.flashscore.com/football/england/national-league-south/news/'}\n",
      "https://www.flashscore.com/football/england/national-league-south/news/ \n",
      "\n",
      "Case no results\n",
      "--------------------------- TEAM ------------\n",
      "NPL_Premier_Division {'url_team': 'https://www.flashscore.com/football/england/npl-premier-division/', 'url_news': 'https://www.flashscore.com/football/england/npl-premier-division/news/'}\n",
      "https://www.flashscore.com/football/england/npl-premier-division/news/ \n",
      "\n",
      "Case no results\n",
      "--------------------------- TEAM ------------\n",
      "Southern_League_Central_Division {'url_team': 'https://www.flashscore.com/football/england/southern-league-central-division/', 'url_news': 'https://www.flashscore.com/football/england/southern-league-central-division/news/'}\n",
      "https://www.flashscore.com/football/england/southern-league-central-division/news/ \n",
      "\n",
      "Case no results\n",
      "--------------------------- TEAM ------------\n",
      "Southern_League_South_Division {'url_team': 'https://www.flashscore.com/football/england/southern-league-south-division/', 'url_news': 'https://www.flashscore.com/football/england/southern-league-south-division/news/'}\n",
      "https://www.flashscore.com/football/england/southern-league-south-division/news/ \n",
      "\n",
      "Case no results\n",
      "--------------------------- TEAM ------------\n",
      " {'url_team': 'https://www.flashscore.com/football/england/women-s-fa-community-shield/', 'url_news': 'https://www.flashscore.com/football/england/women-s-fa-community-shield/news/'}\n",
      "https://www.flashscore.com/football/england/women-s-fa-community-shield/news/ \n",
      "\n"
     ]
    },
    {
     "name": "stdout",
     "output_type": "stream",
     "text": [
      "Case no results\n",
      "--------------------------- COUNTRY-------------------\n",
      "--------------------------- TEAM ------------\n",
      "Ligue_1 {'url_team': 'https://www.flashscore.com/football/france/ligue-1/', 'url_news': 'https://www.flashscore.com/football/france/ligue-1/news/'}\n",
      "https://www.flashscore.com/football/france/ligue-1/news/ \n",
      "\n",
      "news_id 21--title 68--news_summary 182--news_content 4228--image 32--published 26--news_tags 44--news_id 21--title 72--news_summary 323--news_content 5393--image 32--published 26--news_tags 30--news_id 21--title 69--news_summary 177--news_content 3519--image 32--published 26--news_tags 33--news_id 21--title 72--news_summary 146--news_content 6225--image 32--published 26--news_tags 63--news_id 21--title 67--news_summary 157--news_content 3646--image 32--published 26--news_tags 37--news_id 21--title 71--news_summary 214--news_content 1477--image 32--published 26--news_tags 94--news_id 21--title 62--news_summary 240--news_content 4340--image 32--published 26--news_tags 34--news_id 21--title 66--news_summary 194--news_content 2006--image 32--published 26--news_tags 34--news_id 21--title 73--news_summary 249--news_content 4503--image 32--published 26--news_tags 32--news_id 21--title 66--news_summary 164--news_content 3033--image 32--published 26--news_tags 31----------------------------- TEAM ------------\n",
      "Ligue_2 {'url_team': 'https://www.flashscore.com/football/france/ligue-2/', 'url_news': 'https://www.flashscore.com/football/france/ligue-2/news/'}\n",
      "https://www.flashscore.com/football/france/ligue-2/news/ \n",
      "\n",
      "news_id 21--title 74--news_summary 214--news_content 4073--image 32--published 26--news_tags 26--news_id 21--title 87--news_summary 182--news_content 3377--image 32--published 26--news_tags 98--"
     ]
    },
    {
     "ename": "KeyboardInterrupt",
     "evalue": "",
     "output_type": "error",
     "traceback": [
      "\u001b[0;31m---------------------------------------------------------------------------\u001b[0m",
      "\u001b[0;31mKeyboardInterrupt\u001b[0m                         Traceback (most recent call last)",
      "Cell \u001b[0;32mIn [3], line 1\u001b[0m\n\u001b[0;32m----> 1\u001b[0m get_all_news(driver)\n",
      "File \u001b[0;32m~/Work_may_2023/Jose_panama/flashcore_extraction.py:441\u001b[0m, in \u001b[0;36mget_all_news\u001b[0;34m(driver, dict_news_links)\u001b[0m\n\u001b[1;32m    439\u001b[0m \u001b[38;5;28mprint\u001b[39m(current_news_link,\u001b[38;5;124m'\u001b[39m\u001b[38;5;130;01m\\n\u001b[39;00m\u001b[38;5;124m'\u001b[39m)\n\u001b[1;32m    440\u001b[0m driver\u001b[38;5;241m.\u001b[39mget(current_news_link)\n\u001b[0;32m--> 441\u001b[0m \u001b[43mprocess_current_news_link\u001b[49m\u001b[43m(\u001b[49m\u001b[43mdriver\u001b[49m\u001b[43m,\u001b[49m\u001b[43m \u001b[49m\u001b[43mcurrent_news_link\u001b[49m\u001b[43m)\u001b[49m\n\u001b[1;32m    442\u001b[0m dict_check_point[\u001b[38;5;124m'\u001b[39m\u001b[38;5;124mteam\u001b[39m\u001b[38;5;124m'\u001b[39m] \u001b[38;5;241m=\u001b[39m team\n\u001b[1;32m    443\u001b[0m save_check_point(\u001b[38;5;124m'\u001b[39m\u001b[38;5;124mcheck_points/check_point.json\u001b[39m\u001b[38;5;124m'\u001b[39m, dict_check_point)\t\t\t\t\n",
      "File \u001b[0;32m~/Work_may_2023/Jose_panama/flashcore_extraction.py:391\u001b[0m, in \u001b[0;36mprocess_current_news_link\u001b[0;34m(driver, current_news_link)\u001b[0m\n\u001b[1;32m    387\u001b[0m flashscore_url_news \u001b[38;5;241m=\u001b[39m get_news_url_date(driver, current_news_link)\n\u001b[1;32m    389\u001b[0m \u001b[38;5;28;01mfor\u001b[39;00m url_date_news \u001b[38;5;129;01min\u001b[39;00m flashscore_url_news:\n\u001b[0;32m--> 391\u001b[0m \t\u001b[43mload_detailed_news\u001b[49m\u001b[43m(\u001b[49m\u001b[43mdriver\u001b[49m\u001b[43m,\u001b[49m\u001b[43m \u001b[49m\u001b[43murl_date_news\u001b[49m\u001b[43m[\u001b[49m\u001b[38;5;124;43m'\u001b[39;49m\u001b[38;5;124;43murl\u001b[39;49m\u001b[38;5;124;43m'\u001b[39;49m\u001b[43m]\u001b[49m\u001b[43m)\u001b[49m\n\u001b[1;32m    392\u001b[0m \tdict_new \u001b[38;5;241m=\u001b[39m get_news_info(driver, url_date_news[\u001b[38;5;124m'\u001b[39m\u001b[38;5;124mdate\u001b[39m\u001b[38;5;124m'\u001b[39m])\n",
      "File \u001b[0;32m~/Work_may_2023/Jose_panama/flashcore_extraction.py:342\u001b[0m, in \u001b[0;36mload_detailed_news\u001b[0;34m(driver, url_news)\u001b[0m\n\u001b[1;32m    340\u001b[0m class_name \u001b[38;5;241m=\u001b[39m \u001b[38;5;124m'\u001b[39m\u001b[38;5;124mfsNewsArticle__title\u001b[39m\u001b[38;5;124m'\u001b[39m\n\u001b[1;32m    341\u001b[0m title \u001b[38;5;241m=\u001b[39m driver\u001b[38;5;241m.\u001b[39mfind_elements(By\u001b[38;5;241m.\u001b[39mCLASS_NAME, class_name)\n\u001b[0;32m--> 342\u001b[0m \u001b[43mdriver\u001b[49m\u001b[38;5;241;43m.\u001b[39;49m\u001b[43mget\u001b[49m\u001b[43m(\u001b[49m\u001b[43murl_news\u001b[49m\u001b[43m)\u001b[49m\n\u001b[1;32m    343\u001b[0m \u001b[38;5;28;01mif\u001b[39;00m \u001b[38;5;28mlen\u001b[39m(title) \u001b[38;5;241m==\u001b[39m \u001b[38;5;241m0\u001b[39m:\n\u001b[1;32m    344\u001b[0m \ttitle \u001b[38;5;241m=\u001b[39m wait\u001b[38;5;241m.\u001b[39muntil(EC\u001b[38;5;241m.\u001b[39mvisibility_of_element_located((By\u001b[38;5;241m.\u001b[39mCLASS_NAME, class_name)))\n",
      "File \u001b[0;32m~/.local/lib/python3.10/site-packages/selenium/webdriver/remote/webdriver.py:355\u001b[0m, in \u001b[0;36mWebDriver.get\u001b[0;34m(self, url)\u001b[0m\n\u001b[1;32m    353\u001b[0m \u001b[38;5;28;01mdef\u001b[39;00m \u001b[38;5;21mget\u001b[39m(\u001b[38;5;28mself\u001b[39m, url: \u001b[38;5;28mstr\u001b[39m) \u001b[38;5;241m-\u001b[39m\u001b[38;5;241m>\u001b[39m \u001b[38;5;28;01mNone\u001b[39;00m:\n\u001b[1;32m    354\u001b[0m     \u001b[38;5;124;03m\"\"\"Loads a web page in the current browser session.\"\"\"\u001b[39;00m\n\u001b[0;32m--> 355\u001b[0m     \u001b[38;5;28;43mself\u001b[39;49m\u001b[38;5;241;43m.\u001b[39;49m\u001b[43mexecute\u001b[49m\u001b[43m(\u001b[49m\u001b[43mCommand\u001b[49m\u001b[38;5;241;43m.\u001b[39;49m\u001b[43mGET\u001b[49m\u001b[43m,\u001b[49m\u001b[43m \u001b[49m\u001b[43m{\u001b[49m\u001b[38;5;124;43m\"\u001b[39;49m\u001b[38;5;124;43murl\u001b[39;49m\u001b[38;5;124;43m\"\u001b[39;49m\u001b[43m:\u001b[49m\u001b[43m \u001b[49m\u001b[43murl\u001b[49m\u001b[43m}\u001b[49m\u001b[43m)\u001b[49m\n",
      "File \u001b[0;32m~/.local/lib/python3.10/site-packages/selenium/webdriver/remote/webdriver.py:344\u001b[0m, in \u001b[0;36mWebDriver.execute\u001b[0;34m(self, driver_command, params)\u001b[0m\n\u001b[1;32m    341\u001b[0m     \u001b[38;5;28;01melif\u001b[39;00m \u001b[38;5;124m\"\u001b[39m\u001b[38;5;124msessionId\u001b[39m\u001b[38;5;124m\"\u001b[39m \u001b[38;5;129;01mnot\u001b[39;00m \u001b[38;5;129;01min\u001b[39;00m params:\n\u001b[1;32m    342\u001b[0m         params[\u001b[38;5;124m\"\u001b[39m\u001b[38;5;124msessionId\u001b[39m\u001b[38;5;124m\"\u001b[39m] \u001b[38;5;241m=\u001b[39m \u001b[38;5;28mself\u001b[39m\u001b[38;5;241m.\u001b[39msession_id\n\u001b[0;32m--> 344\u001b[0m response \u001b[38;5;241m=\u001b[39m \u001b[38;5;28;43mself\u001b[39;49m\u001b[38;5;241;43m.\u001b[39;49m\u001b[43mcommand_executor\u001b[49m\u001b[38;5;241;43m.\u001b[39;49m\u001b[43mexecute\u001b[49m\u001b[43m(\u001b[49m\u001b[43mdriver_command\u001b[49m\u001b[43m,\u001b[49m\u001b[43m \u001b[49m\u001b[43mparams\u001b[49m\u001b[43m)\u001b[49m\n\u001b[1;32m    345\u001b[0m \u001b[38;5;28;01mif\u001b[39;00m response:\n\u001b[1;32m    346\u001b[0m     \u001b[38;5;28mself\u001b[39m\u001b[38;5;241m.\u001b[39merror_handler\u001b[38;5;241m.\u001b[39mcheck_response(response)\n",
      "File \u001b[0;32m~/.local/lib/python3.10/site-packages/selenium/webdriver/remote/remote_connection.py:290\u001b[0m, in \u001b[0;36mRemoteConnection.execute\u001b[0;34m(self, command, params)\u001b[0m\n\u001b[1;32m    288\u001b[0m data \u001b[38;5;241m=\u001b[39m utils\u001b[38;5;241m.\u001b[39mdump_json(params)\n\u001b[1;32m    289\u001b[0m url \u001b[38;5;241m=\u001b[39m \u001b[38;5;124mf\u001b[39m\u001b[38;5;124m\"\u001b[39m\u001b[38;5;132;01m{\u001b[39;00m\u001b[38;5;28mself\u001b[39m\u001b[38;5;241m.\u001b[39m_url\u001b[38;5;132;01m}\u001b[39;00m\u001b[38;5;132;01m{\u001b[39;00mpath\u001b[38;5;132;01m}\u001b[39;00m\u001b[38;5;124m\"\u001b[39m\n\u001b[0;32m--> 290\u001b[0m \u001b[38;5;28;01mreturn\u001b[39;00m \u001b[38;5;28;43mself\u001b[39;49m\u001b[38;5;241;43m.\u001b[39;49m\u001b[43m_request\u001b[49m\u001b[43m(\u001b[49m\u001b[43mcommand_info\u001b[49m\u001b[43m[\u001b[49m\u001b[38;5;241;43m0\u001b[39;49m\u001b[43m]\u001b[49m\u001b[43m,\u001b[49m\u001b[43m \u001b[49m\u001b[43murl\u001b[49m\u001b[43m,\u001b[49m\u001b[43m \u001b[49m\u001b[43mbody\u001b[49m\u001b[38;5;241;43m=\u001b[39;49m\u001b[43mdata\u001b[49m\u001b[43m)\u001b[49m\n",
      "File \u001b[0;32m~/.local/lib/python3.10/site-packages/selenium/webdriver/remote/remote_connection.py:311\u001b[0m, in \u001b[0;36mRemoteConnection._request\u001b[0;34m(self, method, url, body)\u001b[0m\n\u001b[1;32m    308\u001b[0m     body \u001b[38;5;241m=\u001b[39m \u001b[38;5;28;01mNone\u001b[39;00m\n\u001b[1;32m    310\u001b[0m \u001b[38;5;28;01mif\u001b[39;00m \u001b[38;5;28mself\u001b[39m\u001b[38;5;241m.\u001b[39mkeep_alive:\n\u001b[0;32m--> 311\u001b[0m     response \u001b[38;5;241m=\u001b[39m \u001b[38;5;28;43mself\u001b[39;49m\u001b[38;5;241;43m.\u001b[39;49m\u001b[43m_conn\u001b[49m\u001b[38;5;241;43m.\u001b[39;49m\u001b[43mrequest\u001b[49m\u001b[43m(\u001b[49m\u001b[43mmethod\u001b[49m\u001b[43m,\u001b[49m\u001b[43m \u001b[49m\u001b[43murl\u001b[49m\u001b[43m,\u001b[49m\u001b[43m \u001b[49m\u001b[43mbody\u001b[49m\u001b[38;5;241;43m=\u001b[39;49m\u001b[43mbody\u001b[49m\u001b[43m,\u001b[49m\u001b[43m \u001b[49m\u001b[43mheaders\u001b[49m\u001b[38;5;241;43m=\u001b[39;49m\u001b[43mheaders\u001b[49m\u001b[43m)\u001b[49m\n\u001b[1;32m    312\u001b[0m     statuscode \u001b[38;5;241m=\u001b[39m response\u001b[38;5;241m.\u001b[39mstatus\n\u001b[1;32m    313\u001b[0m \u001b[38;5;28;01melse\u001b[39;00m:\n",
      "File \u001b[0;32m~/.local/lib/python3.10/site-packages/urllib3/request.py:78\u001b[0m, in \u001b[0;36mRequestMethods.request\u001b[0;34m(self, method, url, fields, headers, **urlopen_kw)\u001b[0m\n\u001b[1;32m     74\u001b[0m     \u001b[38;5;28;01mreturn\u001b[39;00m \u001b[38;5;28mself\u001b[39m\u001b[38;5;241m.\u001b[39mrequest_encode_url(\n\u001b[1;32m     75\u001b[0m         method, url, fields\u001b[38;5;241m=\u001b[39mfields, headers\u001b[38;5;241m=\u001b[39mheaders, \u001b[38;5;241m*\u001b[39m\u001b[38;5;241m*\u001b[39murlopen_kw\n\u001b[1;32m     76\u001b[0m     )\n\u001b[1;32m     77\u001b[0m \u001b[38;5;28;01melse\u001b[39;00m:\n\u001b[0;32m---> 78\u001b[0m     \u001b[38;5;28;01mreturn\u001b[39;00m \u001b[38;5;28;43mself\u001b[39;49m\u001b[38;5;241;43m.\u001b[39;49m\u001b[43mrequest_encode_body\u001b[49m\u001b[43m(\u001b[49m\n\u001b[1;32m     79\u001b[0m \u001b[43m        \u001b[49m\u001b[43mmethod\u001b[49m\u001b[43m,\u001b[49m\u001b[43m \u001b[49m\u001b[43murl\u001b[49m\u001b[43m,\u001b[49m\u001b[43m \u001b[49m\u001b[43mfields\u001b[49m\u001b[38;5;241;43m=\u001b[39;49m\u001b[43mfields\u001b[49m\u001b[43m,\u001b[49m\u001b[43m \u001b[49m\u001b[43mheaders\u001b[49m\u001b[38;5;241;43m=\u001b[39;49m\u001b[43mheaders\u001b[49m\u001b[43m,\u001b[49m\u001b[43m \u001b[49m\u001b[38;5;241;43m*\u001b[39;49m\u001b[38;5;241;43m*\u001b[39;49m\u001b[43murlopen_kw\u001b[49m\n\u001b[1;32m     80\u001b[0m \u001b[43m    \u001b[49m\u001b[43m)\u001b[49m\n",
      "File \u001b[0;32m~/.local/lib/python3.10/site-packages/urllib3/request.py:170\u001b[0m, in \u001b[0;36mRequestMethods.request_encode_body\u001b[0;34m(self, method, url, fields, headers, encode_multipart, multipart_boundary, **urlopen_kw)\u001b[0m\n\u001b[1;32m    167\u001b[0m extra_kw[\u001b[38;5;124m\"\u001b[39m\u001b[38;5;124mheaders\u001b[39m\u001b[38;5;124m\"\u001b[39m]\u001b[38;5;241m.\u001b[39mupdate(headers)\n\u001b[1;32m    168\u001b[0m extra_kw\u001b[38;5;241m.\u001b[39mupdate(urlopen_kw)\n\u001b[0;32m--> 170\u001b[0m \u001b[38;5;28;01mreturn\u001b[39;00m \u001b[38;5;28;43mself\u001b[39;49m\u001b[38;5;241;43m.\u001b[39;49m\u001b[43murlopen\u001b[49m\u001b[43m(\u001b[49m\u001b[43mmethod\u001b[49m\u001b[43m,\u001b[49m\u001b[43m \u001b[49m\u001b[43murl\u001b[49m\u001b[43m,\u001b[49m\u001b[43m \u001b[49m\u001b[38;5;241;43m*\u001b[39;49m\u001b[38;5;241;43m*\u001b[39;49m\u001b[43mextra_kw\u001b[49m\u001b[43m)\u001b[49m\n",
      "File \u001b[0;32m~/.local/lib/python3.10/site-packages/urllib3/poolmanager.py:376\u001b[0m, in \u001b[0;36mPoolManager.urlopen\u001b[0;34m(self, method, url, redirect, **kw)\u001b[0m\n\u001b[1;32m    374\u001b[0m     response \u001b[38;5;241m=\u001b[39m conn\u001b[38;5;241m.\u001b[39murlopen(method, url, \u001b[38;5;241m*\u001b[39m\u001b[38;5;241m*\u001b[39mkw)\n\u001b[1;32m    375\u001b[0m \u001b[38;5;28;01melse\u001b[39;00m:\n\u001b[0;32m--> 376\u001b[0m     response \u001b[38;5;241m=\u001b[39m \u001b[43mconn\u001b[49m\u001b[38;5;241;43m.\u001b[39;49m\u001b[43murlopen\u001b[49m\u001b[43m(\u001b[49m\u001b[43mmethod\u001b[49m\u001b[43m,\u001b[49m\u001b[43m \u001b[49m\u001b[43mu\u001b[49m\u001b[38;5;241;43m.\u001b[39;49m\u001b[43mrequest_uri\u001b[49m\u001b[43m,\u001b[49m\u001b[43m \u001b[49m\u001b[38;5;241;43m*\u001b[39;49m\u001b[38;5;241;43m*\u001b[39;49m\u001b[43mkw\u001b[49m\u001b[43m)\u001b[49m\n\u001b[1;32m    378\u001b[0m redirect_location \u001b[38;5;241m=\u001b[39m redirect \u001b[38;5;129;01mand\u001b[39;00m response\u001b[38;5;241m.\u001b[39mget_redirect_location()\n\u001b[1;32m    379\u001b[0m \u001b[38;5;28;01mif\u001b[39;00m \u001b[38;5;129;01mnot\u001b[39;00m redirect_location:\n",
      "File \u001b[0;32m~/.local/lib/python3.10/site-packages/urllib3/connectionpool.py:703\u001b[0m, in \u001b[0;36mHTTPConnectionPool.urlopen\u001b[0;34m(self, method, url, body, headers, retries, redirect, assert_same_host, timeout, pool_timeout, release_conn, chunked, body_pos, **response_kw)\u001b[0m\n\u001b[1;32m    700\u001b[0m     \u001b[38;5;28mself\u001b[39m\u001b[38;5;241m.\u001b[39m_prepare_proxy(conn)\n\u001b[1;32m    702\u001b[0m \u001b[38;5;66;03m# Make the request on the httplib connection object.\u001b[39;00m\n\u001b[0;32m--> 703\u001b[0m httplib_response \u001b[38;5;241m=\u001b[39m \u001b[38;5;28;43mself\u001b[39;49m\u001b[38;5;241;43m.\u001b[39;49m\u001b[43m_make_request\u001b[49m\u001b[43m(\u001b[49m\n\u001b[1;32m    704\u001b[0m \u001b[43m    \u001b[49m\u001b[43mconn\u001b[49m\u001b[43m,\u001b[49m\n\u001b[1;32m    705\u001b[0m \u001b[43m    \u001b[49m\u001b[43mmethod\u001b[49m\u001b[43m,\u001b[49m\n\u001b[1;32m    706\u001b[0m \u001b[43m    \u001b[49m\u001b[43murl\u001b[49m\u001b[43m,\u001b[49m\n\u001b[1;32m    707\u001b[0m \u001b[43m    \u001b[49m\u001b[43mtimeout\u001b[49m\u001b[38;5;241;43m=\u001b[39;49m\u001b[43mtimeout_obj\u001b[49m\u001b[43m,\u001b[49m\n\u001b[1;32m    708\u001b[0m \u001b[43m    \u001b[49m\u001b[43mbody\u001b[49m\u001b[38;5;241;43m=\u001b[39;49m\u001b[43mbody\u001b[49m\u001b[43m,\u001b[49m\n\u001b[1;32m    709\u001b[0m \u001b[43m    \u001b[49m\u001b[43mheaders\u001b[49m\u001b[38;5;241;43m=\u001b[39;49m\u001b[43mheaders\u001b[49m\u001b[43m,\u001b[49m\n\u001b[1;32m    710\u001b[0m \u001b[43m    \u001b[49m\u001b[43mchunked\u001b[49m\u001b[38;5;241;43m=\u001b[39;49m\u001b[43mchunked\u001b[49m\u001b[43m,\u001b[49m\n\u001b[1;32m    711\u001b[0m \u001b[43m\u001b[49m\u001b[43m)\u001b[49m\n\u001b[1;32m    713\u001b[0m \u001b[38;5;66;03m# If we're going to release the connection in ``finally:``, then\u001b[39;00m\n\u001b[1;32m    714\u001b[0m \u001b[38;5;66;03m# the response doesn't need to know about the connection. Otherwise\u001b[39;00m\n\u001b[1;32m    715\u001b[0m \u001b[38;5;66;03m# it will also try to release it and we'll have a double-release\u001b[39;00m\n\u001b[1;32m    716\u001b[0m \u001b[38;5;66;03m# mess.\u001b[39;00m\n\u001b[1;32m    717\u001b[0m response_conn \u001b[38;5;241m=\u001b[39m conn \u001b[38;5;28;01mif\u001b[39;00m \u001b[38;5;129;01mnot\u001b[39;00m release_conn \u001b[38;5;28;01melse\u001b[39;00m \u001b[38;5;28;01mNone\u001b[39;00m\n",
      "File \u001b[0;32m~/.local/lib/python3.10/site-packages/urllib3/connectionpool.py:449\u001b[0m, in \u001b[0;36mHTTPConnectionPool._make_request\u001b[0;34m(self, conn, method, url, timeout, chunked, **httplib_request_kw)\u001b[0m\n\u001b[1;32m    444\u001b[0m             httplib_response \u001b[38;5;241m=\u001b[39m conn\u001b[38;5;241m.\u001b[39mgetresponse()\n\u001b[1;32m    445\u001b[0m         \u001b[38;5;28;01mexcept\u001b[39;00m \u001b[38;5;167;01mBaseException\u001b[39;00m \u001b[38;5;28;01mas\u001b[39;00m e:\n\u001b[1;32m    446\u001b[0m             \u001b[38;5;66;03m# Remove the TypeError from the exception chain in\u001b[39;00m\n\u001b[1;32m    447\u001b[0m             \u001b[38;5;66;03m# Python 3 (including for exceptions like SystemExit).\u001b[39;00m\n\u001b[1;32m    448\u001b[0m             \u001b[38;5;66;03m# Otherwise it looks like a bug in the code.\u001b[39;00m\n\u001b[0;32m--> 449\u001b[0m             \u001b[43msix\u001b[49m\u001b[38;5;241;43m.\u001b[39;49m\u001b[43mraise_from\u001b[49m\u001b[43m(\u001b[49m\u001b[43me\u001b[49m\u001b[43m,\u001b[49m\u001b[43m \u001b[49m\u001b[38;5;28;43;01mNone\u001b[39;49;00m\u001b[43m)\u001b[49m\n\u001b[1;32m    450\u001b[0m \u001b[38;5;28;01mexcept\u001b[39;00m (SocketTimeout, BaseSSLError, SocketError) \u001b[38;5;28;01mas\u001b[39;00m e:\n\u001b[1;32m    451\u001b[0m     \u001b[38;5;28mself\u001b[39m\u001b[38;5;241m.\u001b[39m_raise_timeout(err\u001b[38;5;241m=\u001b[39me, url\u001b[38;5;241m=\u001b[39murl, timeout_value\u001b[38;5;241m=\u001b[39mread_timeout)\n",
      "File \u001b[0;32m<string>:3\u001b[0m, in \u001b[0;36mraise_from\u001b[0;34m(value, from_value)\u001b[0m\n",
      "File \u001b[0;32m~/.local/lib/python3.10/site-packages/urllib3/connectionpool.py:444\u001b[0m, in \u001b[0;36mHTTPConnectionPool._make_request\u001b[0;34m(self, conn, method, url, timeout, chunked, **httplib_request_kw)\u001b[0m\n\u001b[1;32m    441\u001b[0m \u001b[38;5;28;01mexcept\u001b[39;00m \u001b[38;5;167;01mTypeError\u001b[39;00m:\n\u001b[1;32m    442\u001b[0m     \u001b[38;5;66;03m# Python 3\u001b[39;00m\n\u001b[1;32m    443\u001b[0m     \u001b[38;5;28;01mtry\u001b[39;00m:\n\u001b[0;32m--> 444\u001b[0m         httplib_response \u001b[38;5;241m=\u001b[39m \u001b[43mconn\u001b[49m\u001b[38;5;241;43m.\u001b[39;49m\u001b[43mgetresponse\u001b[49m\u001b[43m(\u001b[49m\u001b[43m)\u001b[49m\n\u001b[1;32m    445\u001b[0m     \u001b[38;5;28;01mexcept\u001b[39;00m \u001b[38;5;167;01mBaseException\u001b[39;00m \u001b[38;5;28;01mas\u001b[39;00m e:\n\u001b[1;32m    446\u001b[0m         \u001b[38;5;66;03m# Remove the TypeError from the exception chain in\u001b[39;00m\n\u001b[1;32m    447\u001b[0m         \u001b[38;5;66;03m# Python 3 (including for exceptions like SystemExit).\u001b[39;00m\n\u001b[1;32m    448\u001b[0m         \u001b[38;5;66;03m# Otherwise it looks like a bug in the code.\u001b[39;00m\n\u001b[1;32m    449\u001b[0m         six\u001b[38;5;241m.\u001b[39mraise_from(e, \u001b[38;5;28;01mNone\u001b[39;00m)\n",
      "File \u001b[0;32m/usr/lib/python3.10/http/client.py:1375\u001b[0m, in \u001b[0;36mHTTPConnection.getresponse\u001b[0;34m(self)\u001b[0m\n\u001b[1;32m   1373\u001b[0m \u001b[38;5;28;01mtry\u001b[39;00m:\n\u001b[1;32m   1374\u001b[0m     \u001b[38;5;28;01mtry\u001b[39;00m:\n\u001b[0;32m-> 1375\u001b[0m         \u001b[43mresponse\u001b[49m\u001b[38;5;241;43m.\u001b[39;49m\u001b[43mbegin\u001b[49m\u001b[43m(\u001b[49m\u001b[43m)\u001b[49m\n\u001b[1;32m   1376\u001b[0m     \u001b[38;5;28;01mexcept\u001b[39;00m \u001b[38;5;167;01mConnectionError\u001b[39;00m:\n\u001b[1;32m   1377\u001b[0m         \u001b[38;5;28mself\u001b[39m\u001b[38;5;241m.\u001b[39mclose()\n",
      "File \u001b[0;32m/usr/lib/python3.10/http/client.py:318\u001b[0m, in \u001b[0;36mHTTPResponse.begin\u001b[0;34m(self)\u001b[0m\n\u001b[1;32m    316\u001b[0m \u001b[38;5;66;03m# read until we get a non-100 response\u001b[39;00m\n\u001b[1;32m    317\u001b[0m \u001b[38;5;28;01mwhile\u001b[39;00m \u001b[38;5;28;01mTrue\u001b[39;00m:\n\u001b[0;32m--> 318\u001b[0m     version, status, reason \u001b[38;5;241m=\u001b[39m \u001b[38;5;28;43mself\u001b[39;49m\u001b[38;5;241;43m.\u001b[39;49m\u001b[43m_read_status\u001b[49m\u001b[43m(\u001b[49m\u001b[43m)\u001b[49m\n\u001b[1;32m    319\u001b[0m     \u001b[38;5;28;01mif\u001b[39;00m status \u001b[38;5;241m!=\u001b[39m CONTINUE:\n\u001b[1;32m    320\u001b[0m         \u001b[38;5;28;01mbreak\u001b[39;00m\n",
      "File \u001b[0;32m/usr/lib/python3.10/http/client.py:279\u001b[0m, in \u001b[0;36mHTTPResponse._read_status\u001b[0;34m(self)\u001b[0m\n\u001b[1;32m    278\u001b[0m \u001b[38;5;28;01mdef\u001b[39;00m \u001b[38;5;21m_read_status\u001b[39m(\u001b[38;5;28mself\u001b[39m):\n\u001b[0;32m--> 279\u001b[0m     line \u001b[38;5;241m=\u001b[39m \u001b[38;5;28mstr\u001b[39m(\u001b[38;5;28;43mself\u001b[39;49m\u001b[38;5;241;43m.\u001b[39;49m\u001b[43mfp\u001b[49m\u001b[38;5;241;43m.\u001b[39;49m\u001b[43mreadline\u001b[49m\u001b[43m(\u001b[49m\u001b[43m_MAXLINE\u001b[49m\u001b[43m \u001b[49m\u001b[38;5;241;43m+\u001b[39;49m\u001b[43m \u001b[49m\u001b[38;5;241;43m1\u001b[39;49m\u001b[43m)\u001b[49m, \u001b[38;5;124m\"\u001b[39m\u001b[38;5;124miso-8859-1\u001b[39m\u001b[38;5;124m\"\u001b[39m)\n\u001b[1;32m    280\u001b[0m     \u001b[38;5;28;01mif\u001b[39;00m \u001b[38;5;28mlen\u001b[39m(line) \u001b[38;5;241m>\u001b[39m _MAXLINE:\n\u001b[1;32m    281\u001b[0m         \u001b[38;5;28;01mraise\u001b[39;00m LineTooLong(\u001b[38;5;124m\"\u001b[39m\u001b[38;5;124mstatus line\u001b[39m\u001b[38;5;124m\"\u001b[39m)\n",
      "File \u001b[0;32m/usr/lib/python3.10/socket.py:705\u001b[0m, in \u001b[0;36mSocketIO.readinto\u001b[0;34m(self, b)\u001b[0m\n\u001b[1;32m    703\u001b[0m \u001b[38;5;28;01mwhile\u001b[39;00m \u001b[38;5;28;01mTrue\u001b[39;00m:\n\u001b[1;32m    704\u001b[0m     \u001b[38;5;28;01mtry\u001b[39;00m:\n\u001b[0;32m--> 705\u001b[0m         \u001b[38;5;28;01mreturn\u001b[39;00m \u001b[38;5;28;43mself\u001b[39;49m\u001b[38;5;241;43m.\u001b[39;49m\u001b[43m_sock\u001b[49m\u001b[38;5;241;43m.\u001b[39;49m\u001b[43mrecv_into\u001b[49m\u001b[43m(\u001b[49m\u001b[43mb\u001b[49m\u001b[43m)\u001b[49m\n\u001b[1;32m    706\u001b[0m     \u001b[38;5;28;01mexcept\u001b[39;00m timeout:\n\u001b[1;32m    707\u001b[0m         \u001b[38;5;28mself\u001b[39m\u001b[38;5;241m.\u001b[39m_timeout_occurred \u001b[38;5;241m=\u001b[39m \u001b[38;5;28;01mTrue\u001b[39;00m\n",
      "\u001b[0;31mKeyboardInterrupt\u001b[0m: "
     ]
    }
   ],
   "source": [
    "get_all_news(driver)"
   ]
  },
  {
   "cell_type": "code",
   "execution_count": 14,
   "id": "7363d588",
   "metadata": {
    "scrolled": true
   },
   "outputs": [
    {
     "name": "stdout",
     "output_type": "stream",
     "text": [
      "Current_date:  2024-01-11\n",
      "0\n",
      "0\n",
      "3\n",
      "{'match_id': 'bokp95273', 'match_date': '', 'start_time': '', 'end_time': '', 'name': 'Olimpia Milano-Crvena zvezda', 'home': 'Olimpia Milano', 'visitor': 'Crvena zvezda', 'home_result': '58', 'visitor_result': '66', 'place': '', 'league_name': 'Euroleague', 'league_country': 'EUROPE'}\n",
      "Type y to continue s to stop: a\n",
      "{'match_id': 'ziqz05937', 'match_date': '', 'start_time': '', 'end_time': '', 'name': 'Real Madrid-Valencia', 'home': 'Real Madrid', 'visitor': 'Valencia', 'home_result': '57', 'visitor_result': '53', 'place': '', 'league_name': 'Euroleague', 'league_country': 'EUROPE'}\n",
      "Type y to continue s to stop: a\n",
      "{'match_id': 'rdsr94887', 'match_date': '', 'start_time': '', 'end_time': '', 'name': 'Cleveland Cavaliers-Brooklyn Nets', 'home': 'Cleveland Cavaliers', 'visitor': 'Brooklyn Nets', 'home_result': '98', 'visitor_result': '87', 'place': '', 'league_name': 'NBA', 'league_country': 'USA'}\n",
      "Type y to continue s to stop: a\n"
     ]
    }
   ],
   "source": [
    "live_games(driver, [\"FOOTBALL\", \"HOCKEY\", \"BASKETBALL\"])"
   ]
  },
  {
   "cell_type": "code",
   "execution_count": 18,
   "id": "3f496a40",
   "metadata": {},
   "outputs": [
    {
     "name": "stdout",
     "output_type": "stream",
     "text": [
      "Continue process: FOOTBALL\n",
      "Continue process: HOCKEY\n",
      "Continue process: BASKETBALL\n"
     ]
    }
   ],
   "source": [
    "list_sports = [\"FOOTBALL\", \"HOCKEY\", \"BASKETBALL\"]\n",
    "\n",
    "sport_point = 'HOCKEY'\n",
    "\n",
    "for sport_name in list_sports:\n",
    "    \n",
    "    if sport_name != sport_point:\n",
    "        pass;\n",
    "    print(\"Continue process:\", sport_name)"
   ]
  },
  {
   "cell_type": "markdown",
   "id": "0e78fcd4",
   "metadata": {},
   "source": [
    "# Navegar en todos los resultados encontrados y completar informacion."
   ]
  },
  {
   "cell_type": "code",
   "execution_count": null,
   "id": "e5649962",
   "metadata": {},
   "outputs": [],
   "source": [
    "# wait until element staleness\n",
    "wait.until(EC.staleness_of(initial_element))\n",
    "\n",
    "\n",
    "# ZOOM ADJUSTMENTS\n",
    "driver.execute_script(\"document.body.style.zoom='50%'\")\n",
    "\n",
    "# find option and get not empty option\n",
    "options = driver.find_elements(By.XPATH, '//li[label[text()=\"LIS : LIS PENDENS\"] ]')\n",
    "# filter options\n",
    "option = [option for option in options if option.text.strip() != ''][0] \n",
    "# send escape key\n",
    "webdriver.ActionChains(driver).send_keys(Keys.ESCAPE).perform()\n",
    "\n",
    "\n",
    "################################################ WAIT DRIVER COMMAND #####################################################\n",
    "wait = WebDriverWait(driver, 10)\n",
    "row = wait.until(EC.presence_of_all_elements_located((By.XPATH, xpath_expression)))\n",
    "\n",
    "# way to find a form with specid div text, only get one element.\n",
    "form = driver.find_elements(By.XPATH, '//form[.//div/div[text()=\"Document Type\"]]')\n",
    "\n",
    "##################### wait until block ####################################\n",
    "###################### diferencia usando contains ##########################################\n",
    "xpath_expression = '//button[@id=\"acceptDataDisclaimer\" and text()=\"Agree\"]' # \n",
    "xpath_expression = '//button[contains(@id,\"acceptDataDisclaimer\") and contains(text(),\"Agree\")]' # \n",
    "############################################################################################\n",
    "# block with combinations of conditions\n",
    "xpath_expression = \"//table[contains(., 'Owner(s)')]\"\n",
    "xpath_expression = '//fieldset[legend[contains(text(), \"Return Address\")]]'  # expression with condition about inside tag\n",
    "xpath_expression = f\"//*[contains(@class, 'input-group') and .//*[@id='OwnerName']]\"\n",
    "search_block = driver.find_element(By.XPATH, xpath_expression)\n",
    "\n",
    "CLASS_SEARCH =  \"//input[contains(@class, 'ui-autocomplete-input') and contains(., '{}')]\".format(option)\n",
    "wait = WebDriverWait(driver, 10)\n",
    "element = wait.until(EC.element_to_be_clickable((By.XPATH, CLASS_SEARCH)))\n",
    "element = wait.until(EC.visibility_of_element_located((By.CLASS_NAME, \"my-element\")))\n",
    "options = wait.until(EC.presence_of_all_elements_located((By.XPATH, xpath_expression)))\n",
    "wait.until(EC.title_contains(\"New Page Title\"))\n",
    "wait.until(EC.alert_is_present())\n",
    "element = wait.until(EC.text_to_be_present_in_element((By.ID, \"myElement\"), \"Expected Text\"))\n",
    "\n",
    "# Send key delete \n",
    "box_text.send_keys(Keys.BACKSPACE*len(box_text.text))\n",
    "# command line to send ESCAPE KEY\n",
    "webdriver.ActionChains(driver).send_keys(Keys.ESCAPE).perform()\n",
    "\n",
    "# Page down pag up\n",
    "webdriver.ActionChains(driver).send_keys(Keys.PAGE_DOWN).perform()\n",
    "webdriver.ActionChains(driver).send_keys(Keys.PAGE_UP).perform()\n",
    "\n",
    "# not working\n",
    "webdriver.ActionChains(driver).send_keys(Keys.CONTROL + Keys.SUBTRACT).perform()\n",
    "\n"
   ]
  },
  {
   "cell_type": "code",
   "execution_count": null,
   "id": "88d98387",
   "metadata": {},
   "outputs": [],
   "source": [
    "\n",
    "\t{\"EXTRAC_NEWS\": \"weekly|dia_semana|15:30:00\",\n",
    "\t    \"CREATE_LEAGUES\": \"daily|10:30:30\",\n",
    "\t    \"CREATE_TEAMS\": \"monthly|dia_del_mes_1-31|09:00:15\",\n",
    "\t    \"GET_RESULTS\": \"time|3, o fraccion\", \"# correr cada 3 minutos\",\n",
    "\t    \"GET_FIXTURES\": \"time|3, o fraccion\", \"# correr cada 3 minutos\",\n",
    "\t    \"GET_RESULTS\": \"time|3, o fraccion\", \"# correr cada 3 minutos\"\n",
    "\t    // \"section5\": \"seconds|15|09:00:15\"}"
   ]
  }
 ],
 "metadata": {
  "kernelspec": {
   "display_name": "whatsappbot",
   "language": "python",
   "name": "whatsappbot"
  },
  "language_info": {
   "codemirror_mode": {
    "name": "ipython",
    "version": 3
   },
   "file_extension": ".py",
   "mimetype": "text/x-python",
   "name": "python",
   "nbconvert_exporter": "python",
   "pygments_lexer": "ipython3",
   "version": "3.10.12"
  }
 },
 "nbformat": 4,
 "nbformat_minor": 5
}
