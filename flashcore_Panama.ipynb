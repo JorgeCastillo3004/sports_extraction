{
 "cells": [
  {
   "cell_type": "code",
   "execution_count": 23,
   "id": "f0af7de8",
   "metadata": {},
   "outputs": [
    {
     "name": "stdout",
     "output_type": "stream",
     "text": [
      "The autoreload extension is already loaded. To reload it, use:\n",
      "  %reload_ext autoreload\n"
     ]
    }
   ],
   "source": [
    "from selenium.webdriver.support import expected_conditions as EC\n",
    "from selenium.webdriver.support.ui import WebDriverWait\n",
    "from selenium.webdriver.chrome.options import Options\n",
    "from selenium.webdriver.chrome.service import Service\n",
    "from selenium.webdriver.support.ui import Select\n",
    "from selenium.webdriver.common.keys import Keys\n",
    "from selenium.webdriver.common.by import By\n",
    "import chromedriver_autoinstaller\n",
    "from selenium import webdriver\n",
    "from datetime import datetime\n",
    "import pandas as pd\n",
    "import random\n",
    "import time\n",
    "import json\n",
    "import re\n",
    "import os\n",
    "from selenium.webdriver.support.ui import Select\n",
    "from datetime import date, timedelta\n",
    "import string\n",
    "\n",
    "from common_functions import *\n",
    "from data_base import *\n",
    "from milestone1 import *\n",
    "from milestone2 import *\n",
    "from milestone3 import *\n",
    "from milestone4 import *\n",
    "from milestone6 import *\n",
    "from milestone7 import *\n",
    "# from main import *\n",
    "\n",
    "# Load the autoreload extension\n",
    "%load_ext autoreload\n",
    "\n",
    "\n",
    "# Enable autoreload for all modules\n",
    "%autoreload 2\n",
    "\n",
    "\n",
    "# from flashcore_extraction import *"
   ]
  },
  {
   "cell_type": "code",
   "execution_count": 40,
   "id": "a9fcee15",
   "metadata": {},
   "outputs": [],
   "source": [
    "from IPython.display import display, Image\n",
    "# Server credentials\n",
    "# Usuario: jignacio@jweglobal.com\n",
    "# Contraseña: Caracas5050@\n",
    "# Server OS: Linux - Debian 12\n",
    "# ssh root@104.156.244.145\n",
    "# 3,uM$2M4BnE.R*f*\n",
    "# User: root\n",
    "driver.quit()\n",
    "# docker exec -it sports_container psql -U wohhu -d sports_db\n",
    "\n",
    "SELECT league_id, COUNT(*) \n",
    "FROM league_team \n",
    "GROUP BY league_id;\n",
    "\n",
    "SELECT COUNT(*) FROM match; ##################### USED TO COUNT THE NUMBER OF RESULTS\n"
   ]
  },
  {
   "cell_type": "markdown",
   "id": "75bf0a9b",
   "metadata": {},
   "source": [
    "### Load flashscore website"
   ]
  },
  {
   "cell_type": "code",
   "execution_count": 2,
   "id": "be827c6d",
   "metadata": {},
   "outputs": [
    {
     "name": "stdout",
     "output_type": "stream",
     "text": [
      "Login...\n"
     ]
    }
   ],
   "source": [
    "driver = launch_navigator('https://www.flashscore.com', False)\n",
    "login(driver, email_= \"jignacio@jweglobal.com\", password_ = \"Caracas5050@\\n\")"
   ]
  },
  {
   "cell_type": "code",
   "execution_count": 17,
   "id": "26c17f89",
   "metadata": {},
   "outputs": [],
   "source": [
    "# CLICK ON LIVE BUTTON\n",
    "livebutton = driver.find_element(By.XPATH, '//div[@class=\"filters__tab\" and contains(.,\"LIVE Games\")]')\n",
    "livebutton.click()\n",
    "\n",
    "# CLICK ON LIVE BUTTON\n"
   ]
  },
  {
   "cell_type": "code",
   "execution_count": 43,
   "id": "b7595374",
   "metadata": {
    "scrolled": true
   },
   "outputs": [
    {
     "name": "stdout",
     "output_type": "stream",
     "text": [
      "dict_keys([])\n"
     ]
    },
    {
     "ename": "KeyError",
     "evalue": "'BASKETBALL'",
     "output_type": "error",
     "traceback": [
      "\u001b[0;31m---------------------------------------------------------------------------\u001b[0m",
      "\u001b[0;31mKeyError\u001b[0m                                  Traceback (most recent call last)",
      "Cell \u001b[0;32mIn [43], line 1\u001b[0m\n\u001b[0;32m----> 1\u001b[0m game_results \u001b[38;5;241m=\u001b[39m players(driver, [\u001b[38;5;124m\"\u001b[39m\u001b[38;5;124mBASKETBALL\u001b[39m\u001b[38;5;124m\"\u001b[39m])\n\u001b[1;32m      2\u001b[0m game_results\n",
      "File \u001b[0;32m~/Work_may_2023/sports_extraction/milestone6.py:189\u001b[0m, in \u001b[0;36mplayers\u001b[0;34m(driver, list_sports)\u001b[0m\n\u001b[1;32m    187\u001b[0m \u001b[38;5;28;01mif\u001b[39;00m enable_sport:\n\u001b[1;32m    188\u001b[0m \t\u001b[38;5;28mprint\u001b[39m(leagues_info_json\u001b[38;5;241m.\u001b[39mkeys())\n\u001b[0;32m--> 189\u001b[0m \t\u001b[38;5;28;01mfor\u001b[39;00m country_league, legue_info \u001b[38;5;129;01min\u001b[39;00m \u001b[43mleagues_info_json\u001b[49m\u001b[43m[\u001b[49m\u001b[43msport_name\u001b[49m\u001b[43m]\u001b[49m\u001b[38;5;241m.\u001b[39mitems():\n\u001b[1;32m    190\u001b[0m \t\t\u001b[38;5;66;03m##########  ENABLE CHECK POINT LEAGUE #############\u001b[39;00m\n\u001b[1;32m    191\u001b[0m \t\t\u001b[38;5;28;01mif\u001b[39;00m league_point \u001b[38;5;241m!=\u001b[39m \u001b[38;5;124m'\u001b[39m\u001b[38;5;124m'\u001b[39m:\n\u001b[1;32m    192\u001b[0m \t\t\t\u001b[38;5;28;01mif\u001b[39;00m league_point \u001b[38;5;241m==\u001b[39m country_league:\n",
      "\u001b[0;31mKeyError\u001b[0m: 'BASKETBALL'"
     ]
    }
   ],
   "source": [
    "game_results = players(driver, [\"BASKETBALL\"])\n",
    "game_results"
   ]
  },
  {
   "cell_type": "code",
   "execution_count": 64,
   "id": "fadecde7",
   "metadata": {
    "scrolled": true
   },
   "outputs": [
    {
     "name": "stdout",
     "output_type": "stream",
     "text": [
      "tennis\n",
      "25\n",
      "####################################################################################################\n",
      "13\n"
     ]
    },
    {
     "data": {
      "text/plain": [
       "[{'match_id': 'romf01674',\n",
       "  'match_date': '',\n",
       "  'start_time': '',\n",
       "  'end_time': '',\n",
       "  'name': 'Goffin D.-Harris B.',\n",
       "  'home': 'Goffin D.',\n",
       "  'visitor': 'Harris B.',\n",
       "  'home_result': '1',\n",
       "  'visitor_result': '1',\n",
       "  'place': '',\n",
       "  'league_name': 'Australian Open (Australia) - Qualification, hard',\n",
       "  'league_country': 'ATP - SINGLES'},\n",
       " {'match_id': 'vnko90089',\n",
       "  'match_date': '',\n",
       "  'start_time': '',\n",
       "  'end_time': '',\n",
       "  'name': 'Atmane T.-Fatic N.',\n",
       "  'home': 'Atmane T.',\n",
       "  'visitor': 'Fatic N.',\n",
       "  'home_result': '1',\n",
       "  'visitor_result': '1',\n",
       "  'place': '',\n",
       "  'league_name': 'Australian Open (Australia) - Qualification, hard',\n",
       "  'league_country': 'ATP - SINGLES'},\n",
       " {'match_id': 'khyo09754',\n",
       "  'match_date': '',\n",
       "  'start_time': '',\n",
       "  'end_time': '',\n",
       "  'name': 'Herbert P.-Diallo G.',\n",
       "  'home': 'Herbert P.',\n",
       "  'visitor': 'Diallo G.',\n",
       "  'home_result': '1',\n",
       "  'visitor_result': '1',\n",
       "  'place': '',\n",
       "  'league_name': 'Australian Open (Australia) - Qualification, hard',\n",
       "  'league_country': 'ATP - SINGLES'},\n",
       " {'match_id': 'zalh90650',\n",
       "  'match_date': '',\n",
       "  'start_time': '',\n",
       "  'end_time': '',\n",
       "  'name': 'Marie J.-Ritschard A.',\n",
       "  'home': 'Marie J.',\n",
       "  'visitor': 'Ritschard A.',\n",
       "  'home_result': '1',\n",
       "  'visitor_result': '0',\n",
       "  'place': '',\n",
       "  'league_name': 'Australian Open (Australia) - Qualification, hard',\n",
       "  'league_country': 'ATP - SINGLES'},\n",
       " {'match_id': 'fnex94730',\n",
       "  'match_date': '',\n",
       "  'start_time': '',\n",
       "  'end_time': '',\n",
       "  'name': 'Nardi L.-Sweeny D.',\n",
       "  'home': 'Nardi L.',\n",
       "  'visitor': 'Sweeny D.',\n",
       "  'home_result': '0',\n",
       "  'visitor_result': '1',\n",
       "  'place': '',\n",
       "  'league_name': 'Australian Open (Australia) - Qualification, hard',\n",
       "  'league_country': 'ATP - SINGLES'},\n",
       " {'match_id': 'iwfq96596',\n",
       "  'match_date': '',\n",
       "  'start_time': '',\n",
       "  'end_time': '',\n",
       "  'name': 'Valkusz M.-Comesana F.',\n",
       "  'home': 'Valkusz M.',\n",
       "  'visitor': 'Comesana F.',\n",
       "  'home_result': '1',\n",
       "  'visitor_result': '1',\n",
       "  'place': '',\n",
       "  'league_name': 'Australian Open (Australia) - Qualification, hard',\n",
       "  'league_country': 'ATP - SINGLES'},\n",
       " {'match_id': 'urph00688',\n",
       "  'match_date': '',\n",
       "  'start_time': '',\n",
       "  'end_time': '',\n",
       "  'name': 'Sebov K.-Bonaventure Y.',\n",
       "  'home': 'Sebov K.',\n",
       "  'visitor': 'Bonaventure Y.',\n",
       "  'home_result': '0',\n",
       "  'visitor_result': '1',\n",
       "  'place': '',\n",
       "  'league_name': 'Australian Open (Australia) - Qualification, hard',\n",
       "  'league_country': 'WTA - SINGLES'},\n",
       " {'match_id': 'ncip96514',\n",
       "  'match_date': '',\n",
       "  'start_time': '',\n",
       "  'end_time': '',\n",
       "  'name': 'Bondar A.-Popovic I.',\n",
       "  'home': 'Bondar A.',\n",
       "  'visitor': 'Popovic I.',\n",
       "  'home_result': '1',\n",
       "  'visitor_result': '0',\n",
       "  'place': '',\n",
       "  'league_name': 'Australian Open (Australia) - Qualification, hard',\n",
       "  'league_country': 'WTA - SINGLES'},\n",
       " {'match_id': 'bcoy98760',\n",
       "  'match_date': '',\n",
       "  'start_time': '',\n",
       "  'end_time': '',\n",
       "  'name': 'Ma Y.-Korneeva A.',\n",
       "  'home': 'Ma Y.',\n",
       "  'visitor': 'Korneeva A.',\n",
       "  'home_result': '1',\n",
       "  'visitor_result': '1',\n",
       "  'place': '',\n",
       "  'league_name': 'Australian Open (Australia) - Qualification, hard',\n",
       "  'league_country': 'WTA - SINGLES'},\n",
       " {'match_id': 'zseq03526',\n",
       "  'match_date': '',\n",
       "  'start_time': '',\n",
       "  'end_time': '',\n",
       "  'name': 'Marino R.-Ponchet J.',\n",
       "  'home': 'Marino R.',\n",
       "  'visitor': 'Ponchet J.',\n",
       "  'home_result': '1',\n",
       "  'visitor_result': '1',\n",
       "  'place': '',\n",
       "  'league_name': 'Australian Open (Australia) - Qualification, hard',\n",
       "  'league_country': 'WTA - SINGLES'},\n",
       " {'match_id': 'mydf95618',\n",
       "  'match_date': '',\n",
       "  'start_time': '',\n",
       "  'end_time': '',\n",
       "  'name': 'Andreeva E.-Kudermetova P.',\n",
       "  'home': 'Andreeva E.',\n",
       "  'visitor': 'Kudermetova P.',\n",
       "  'home_result': '0',\n",
       "  'visitor_result': '0',\n",
       "  'place': '',\n",
       "  'league_name': 'Australian Open (Australia) - Qualification, hard',\n",
       "  'league_country': 'WTA - SINGLES'},\n",
       " {'match_id': 'jmri99574',\n",
       "  'match_date': '',\n",
       "  'start_time': '',\n",
       "  'end_time': '',\n",
       "  'name': 'Bara I.-Lys E.',\n",
       "  'home': 'Bara I.',\n",
       "  'visitor': 'Lys E.',\n",
       "  'home_result': '0',\n",
       "  'visitor_result': '0',\n",
       "  'place': '',\n",
       "  'league_name': 'Australian Open (Australia) - Qualification, hard',\n",
       "  'league_country': 'WTA - SINGLES'},\n",
       " {'match_id': 'rfbu06119',\n",
       "  'match_date': '',\n",
       "  'start_time': '',\n",
       "  'end_time': '',\n",
       "  'name': 'Jeanjean L.-Monnet C.',\n",
       "  'home': 'Jeanjean L.',\n",
       "  'visitor': 'Monnet C.',\n",
       "  'home_result': '0',\n",
       "  'visitor_result': '0',\n",
       "  'place': '',\n",
       "  'league_name': 'Australian Open (Australia) - Qualification, hard',\n",
       "  'league_country': 'WTA - SINGLES'}]"
      ]
     },
     "execution_count": 64,
     "metadata": {},
     "output_type": "execute_result"
    }
   ],
   "source": [
    "# test(driver, sport_name='BASKETBALL')\n",
    "# test(driver, sport_name='HOCKEY')\n",
    "list_match = test(driver, sport_name='TENNIS')\n",
    "print(len(list_match))\n",
    "list_match"
   ]
  },
  {
   "cell_type": "code",
   "execution_count": 56,
   "id": "20c31e00",
   "metadata": {},
   "outputs": [
    {
     "name": "stdout",
     "output_type": "stream",
     "text": [
      "20\n"
     ]
    }
   ],
   "source": [
    "sport_name='HOCKEY'.lower()\n",
    "# sportName hockey\n",
    "rows = driver.find_elements(By.XPATH, '//div[@class=\"sportName {}\"]/div'.format(sport_name))\n",
    "print(len(rows))"
   ]
  },
  {
   "cell_type": "code",
   "execution_count": null,
   "id": "7c51c1ae",
   "metadata": {},
   "outputs": [],
   "source": []
  },
  {
   "cell_type": "code",
   "execution_count": null,
   "id": "2af82268",
   "metadata": {},
   "outputs": [],
   "source": [
    "event__match event__match--live event__match--last event__match--twoLine\n",
    "event__match event__match--live event__match--twoLine\"\n",
    "eventSubscriber eventSubscriber__star eventSubscriber__star--event\n",
    "star-ico eventStar\n"
   ]
  },
  {
   "cell_type": "code",
   "execution_count": null,
   "id": "ae299bb3",
   "metadata": {},
   "outputs": [],
   "source": [
    "## SECTION 1\n",
    "|\"FOOTBALL\"| \"TENNIS\"| \"BASKETBALL\"| \"FEATURES\"| \"AMERICAN_SPORTS\"| \n",
    "    \"CRICKET\"| \"GOLF\"| \"MOTORSPORT\"| \"HOCKEY\"| \"RUGBY_UNION\"| \"WINTER_SPORTS\"| \n",
    "    \"COMBAT_SPORTS\"| \"ROAD_CYCLING\"| \"ATHLETICS\"| \"AFRICAN_FOOTBALL\"| \"GHANA\"]\n",
    "\"MAX_OLDER_DATE_ALLOWED\": 31\n",
    "\n",
    "\n",
    "## SECTION 2\n",
    "|\"FOOTBALL\"| \"TENNIS\"| \"BASKETBALL\"| \"FEATURES\"| \"AMERICAN_SPORTS\"| \n",
    "    \"CRICKET\"| \"GOLF\"| \"MOTORSPORT\"| \"HOCKEY\"| \"RUGBY_UNION\"| \"WINTER_SPORTS\"| \n",
    "    \"COMBAT_SPORTS\"| \"ROAD_CYCLING\"| \"ATHLETICS\"| \"AFRICAN_FOOTBALL\"| \"GHANA\"]\n",
    "\"MAX_OLDER_DATE_ALLOWED\": 31\n"
   ]
  },
  {
   "cell_type": "code",
   "execution_count": 72,
   "id": "d71cab21",
   "metadata": {
    "scrolled": true
   },
   "outputs": [
    {
     "name": "stdout",
     "output_type": "stream",
     "text": [
      "######################################################################################################\n",
      "#                                                GOLF                                                #\n",
      "######################################################################################################\n",
      "https://www.flashscore.com/news/golf/\n",
      "max_older_news:  31\n",
      "last_news_saved_sport:  ['McIlroy wants golf to go global with fifth major in Australia and more events in Japan', \"Rickie Fowler reveals he has 'zero plans' to join LIV Golf\", 'Tiger Woods announces end of long-time partnership with Nike', 'Late birdie lifts Chris Kirk to PGA victory at Sentry tournament', 'Chris Kirk climbs to register one-shot PGA Tour lead at The Sentry']\n",
      "news_date:  5 h ago # 2024-01-10 07:11:05.621414 # 5:00:00\n",
      "NEWS TIME:  2024-01-10 07:11:05.621414\n",
      "Duplicate news: \n",
      "0\n",
      "################################################## \n",
      "\n",
      "news_date:  Yesterday 09:59 # 2024-01-09 13:59:00.000005 # 22:12:05.621409\n",
      "NEWS TIME:  2024-01-09 13:59:00.000005\n",
      "Duplicate news: \n",
      "0\n",
      "################################################## \n",
      "\n",
      "news_date:  08.01.2024 13:23 # 2024-01-08 17:23:00.000005 # 1 day, 18:48:05.621409\n",
      "NEWS TIME:  2024-01-08 17:23:00.000005\n",
      "Duplicate news: \n",
      "0\n",
      "################################################## \n",
      "\n",
      "news_date:  08.01.2024 02:35 # 2024-01-08 06:35:00.000005 # 2 days, 5:36:05.621409\n",
      "NEWS TIME:  2024-01-08 06:35:00.000005\n",
      "Duplicate news: \n",
      "0\n",
      "################################################## \n",
      "\n",
      "news_date:  07.01.2024 03:45 # 2024-01-07 07:45:00.000005 # 3 days, 4:26:05.621409\n",
      "NEWS TIME:  2024-01-07 07:45:00.000005\n",
      "Duplicate news: \n",
      "0\n",
      "################################################## \n",
      "\n",
      "news_date:  07.01.2024 02:34 # 2024-01-07 06:34:00.000005 # 3 days, 5:37:05.621409\n",
      "NEWS TIME:  2024-01-07 06:34:00.000005\n",
      "Duplicate news: \n",
      "0\n",
      "################################################## \n",
      "\n",
      "news_date:  06.01.2024 04:12 # 2024-01-06 08:12:00.000005 # 4 days, 3:59:05.621409\n",
      "NEWS TIME:  2024-01-06 08:12:00.000005\n",
      "Duplicate news: \n",
      "0\n",
      "################################################## \n",
      "\n",
      "news_date:  05.01.2024 03:28 # 2024-01-05 07:28:00.000005 # 5 days, 4:43:05.621409\n",
      "NEWS TIME:  2024-01-05 07:28:00.000005\n",
      "Duplicate news: \n",
      "0\n",
      "################################################## \n",
      "\n",
      "news_date:  04.01.2024 16:51 # 2024-01-04 20:51:00.000005 # 5 days, 15:20:05.621409\n",
      "NEWS TIME:  2024-01-04 20:51:00.000005\n",
      "Duplicate news: \n",
      "0\n",
      "################################################## \n",
      "\n",
      "news_date:  04.01.2024 15:25 # 2024-01-04 19:25:00.000005 # 5 days, 16:46:05.621409\n",
      "NEWS TIME:  2024-01-04 19:25:00.000005\n",
      "Duplicate news: \n",
      "0\n",
      "################################################## \n",
      "\n",
      "news_date:  04.01.2024 03:52 # 2024-01-04 07:52:00.000005 # 6 days, 4:19:05.621409\n",
      "NEWS TIME:  2024-01-04 07:52:00.000005\n",
      "Duplicate news: \n",
      "0\n",
      "################################################## \n",
      "\n",
      "news_date:  04.01.2024 02:57 # 2024-01-04 06:57:00.000005 # 6 days, 5:14:05.621409\n",
      "NEWS TIME:  2024-01-04 06:57:00.000005\n",
      "Duplicate news: \n",
      "0\n",
      "################################################## \n",
      "\n",
      "news_date:  03.01.2024 18:37 # 2024-01-03 22:37:00.000005 # 6 days, 13:34:05.621409\n",
      "NEWS TIME:  2024-01-03 22:37:00.000005\n",
      "Duplicate news: \n",
      "0\n",
      "################################################## \n",
      "\n",
      "news_date:  03.01.2024 10:18 # 2024-01-03 14:18:00.000005 # 6 days, 21:53:05.621409\n",
      "NEWS TIME:  2024-01-03 14:18:00.000005\n",
      "Duplicate news: \n",
      "0\n",
      "################################################## \n",
      "\n",
      "news_date:  03.01.2024 04:20 # 2024-01-03 08:20:00.000005 # 7 days, 3:51:05.621409\n",
      "NEWS TIME:  2024-01-03 08:20:00.000005\n",
      "Duplicate news: \n",
      "0\n",
      "################################################## \n",
      "\n",
      "news_date:  01.01.2024 05:50 # 2024-01-01 09:50:00.000005 # 9 days, 2:21:05.621409\n",
      "NEWS TIME:  2024-01-01 09:50:00.000005\n",
      "Duplicate news: \n",
      "0\n",
      "################################################## \n",
      "\n",
      "news_date:  01.01.2024 05:00 # 2024-01-01 09:00:00.000005 # 9 days, 3:11:05.621409\n",
      "NEWS TIME:  2024-01-01 09:00:00.000005\n",
      "Duplicate news: \n",
      "0\n",
      "################################################## \n",
      "\n",
      "news_date:  25.12.2023 12:57 # 2023-12-25 16:57:00.000005 # 15 days, 19:14:05.621409\n",
      "NEWS TIME:  2023-12-25 16:57:00.000005\n",
      "Duplicate news: \n",
      "0\n",
      "################################################## \n",
      "\n",
      "news_date:  19.12.2023 09:09 # 2023-12-19 13:09:00.000005 # 21 days, 23:02:05.621409\n",
      "NEWS TIME:  2023-12-19 13:09:00.000005\n",
      "Duplicate news: \n",
      "0\n",
      "################################################## \n",
      "\n",
      "news_date:  19.12.2023 03:59 # 2023-12-19 07:59:00.000005 # 22 days, 4:12:05.621409\n",
      "NEWS TIME:  2023-12-19 07:59:00.000005\n",
      "Duplicate news: \n",
      "0\n",
      "################################################## \n",
      "\n",
      "news_date:  18.12.2023 02:41 # 2023-12-18 06:41:00.000005 # 23 days, 5:30:05.621409\n",
      "NEWS TIME:  2023-12-18 06:41:00.000005\n",
      "Duplicate news: \n",
      "0\n",
      "################################################## \n",
      "\n",
      "news_date:  17.12.2023 09:47 # 2023-12-17 13:47:00.000005 # 23 days, 22:24:05.621409\n",
      "NEWS TIME:  2023-12-17 13:47:00.000005\n",
      "Duplicate news: \n",
      "0\n",
      "################################################## \n",
      "\n",
      "news_date:  17.12.2023 01:58 # 2023-12-17 05:58:00.000005 # 24 days, 6:13:05.621409\n",
      "NEWS TIME:  2023-12-17 05:58:00.000005\n",
      "Duplicate news: \n",
      "0\n",
      "################################################## \n",
      "\n",
      "news_date:  16.12.2023 09:12 # 2023-12-16 13:12:00.000005 # 24 days, 22:59:05.621409\n",
      "NEWS TIME:  2023-12-16 13:12:00.000005\n",
      "Duplicate news: \n",
      "0\n",
      "################################################## \n",
      "\n",
      "news_date:  14.12.2023 12:00 # 2023-12-14 16:00:00.000005 # 26 days, 20:11:05.621409\n",
      "NEWS TIME:  2023-12-14 16:00:00.000005\n",
      "Duplicate news: \n",
      "0\n",
      "################################################## \n",
      "\n",
      "news_date:  14.12.2023 11:49 # 2023-12-14 15:49:00.000005 # 26 days, 20:22:05.621409\n",
      "NEWS TIME:  2023-12-14 15:49:00.000005\n",
      "Duplicate news: \n",
      "0\n",
      "################################################## \n",
      "\n",
      "NEW LIST:  ['McIlroy wants golf to go global with fifth major in Australia and more events in Japan', \"Rickie Fowler reveals he has 'zero plans' to join LIV Golf\", 'Tiger Woods announces end of long-time partnership with Nike', 'Late birdie lifts Chris Kirk to PGA victory at Sentry tournament', 'Chris Kirk climbs to register one-shot PGA Tour lead at The Sentry']\n",
      "list_upate_news:  0\n"
     ]
    }
   ],
   "source": [
    "main_extract_news(driver, ['GOLF'], MAX_OLDER_DATE_ALLOWED = 31)"
   ]
  },
  {
   "cell_type": "code",
   "execution_count": 67,
   "id": "607274df",
   "metadata": {
    "scrolled": true
   },
   "outputs": [
    {
     "ename": "TypeError",
     "evalue": "create_leagues() missing 1 required positional argument: 'list_sports'",
     "output_type": "error",
     "traceback": [
      "\u001b[0;31m---------------------------------------------------------------------------\u001b[0m",
      "\u001b[0;31mTypeError\u001b[0m                                 Traceback (most recent call last)",
      "Cell \u001b[0;32mIn [67], line 1\u001b[0m\n\u001b[0;32m----> 1\u001b[0m create_leagues(driver)\n",
      "\u001b[0;31mTypeError\u001b[0m: create_leagues() missing 1 required positional argument: 'list_sports'"
     ]
    }
   ],
   "source": [
    "create_leagues(driver)"
   ]
  },
  {
   "cell_type": "markdown",
   "id": "088df19c",
   "metadata": {},
   "source": [
    "### M3 TEAMS CREATION."
   ]
  },
  {
   "cell_type": "code",
   "execution_count": 11,
   "id": "5633b312",
   "metadata": {
    "scrolled": true
   },
   "outputs": [
    {
     "ename": "NameError",
     "evalue": "name 'con' is not defined",
     "output_type": "error",
     "traceback": [
      "\u001b[0;31m---------------------------------------------------------------------------\u001b[0m",
      "\u001b[0;31mNameError\u001b[0m                                 Traceback (most recent call last)",
      "Cell \u001b[0;32mIn [11], line 1\u001b[0m\n\u001b[0;32m----> 1\u001b[0m teams_creation(driver)\n",
      "File \u001b[0;32m~/Work_may_2023/sports_extraction/milestone3.py:116\u001b[0m, in \u001b[0;36mteams_creation\u001b[0;34m(driver)\u001b[0m\n\u001b[1;32m    114\u001b[0m conf_enable_sport \u001b[38;5;241m=\u001b[39m check_previous_execution(file_path \u001b[38;5;241m=\u001b[39m \u001b[38;5;124m'\u001b[39m\u001b[38;5;124mcheck_points/CONFIG_M2.json\u001b[39m\u001b[38;5;124m'\u001b[39m)\t\n\u001b[1;32m    115\u001b[0m sports_dict \u001b[38;5;241m=\u001b[39m load_check_point(\u001b[38;5;124m'\u001b[39m\u001b[38;5;124mcheck_points/leagues_info.json\u001b[39m\u001b[38;5;124m'\u001b[39m)\n\u001b[0;32m--> 116\u001b[0m dict_sport_id \u001b[38;5;241m=\u001b[39m \u001b[43mget_dict_sport_id\u001b[49m\u001b[43m(\u001b[49m\u001b[43m)\u001b[49m\n\u001b[1;32m    117\u001b[0m \u001b[38;5;66;03m# dict_sport_id = load_json('check_points/sports_id.json')\u001b[39;00m\n\u001b[1;32m    119\u001b[0m \u001b[38;5;28;01mfor\u001b[39;00m sport_name, sport_dict \u001b[38;5;129;01min\u001b[39;00m sports_dict\u001b[38;5;241m.\u001b[39mitems():\n\u001b[1;32m    120\u001b[0m \t\u001b[38;5;66;03m# sport_id = dict_sport_id[sport_id]\u001b[39;00m\n\u001b[1;32m    121\u001b[0m \t\u001b[38;5;66;03m# dict_teams_db = get_dict_teams(sport_id = 'FOOTBALL') # add return stadium result\u001b[39;00m\n\u001b[0;32m   (...)\u001b[0m\n\u001b[1;32m    130\u001b[0m \t\u001b[38;5;66;03m#\t\t\t\tget_dict_league_ready \t\t\t\t\t\t\t\t#\u001b[39;00m\n\u001b[1;32m    131\u001b[0m \t\u001b[38;5;66;03m#####################################################################\u001b[39;00m\n",
      "File \u001b[0;32m~/Work_may_2023/sports_extraction/data_base.py:36\u001b[0m, in \u001b[0;36mget_dict_sport_id\u001b[0;34m()\u001b[0m\n\u001b[1;32m     33\u001b[0m query \u001b[38;5;241m=\u001b[39m \u001b[38;5;124m\"\u001b[39m\u001b[38;5;124mSELECT sport.name, sport.sport_id FROM sport\u001b[39m\u001b[38;5;124m\"\u001b[39m\n\u001b[1;32m     34\u001b[0m \u001b[38;5;66;03m# \u001b[39;00m\n\u001b[1;32m     35\u001b[0m \u001b[38;5;66;03m# -- WHERE team.sport_id = '{}'\u001b[39;00m\n\u001b[0;32m---> 36\u001b[0m cur \u001b[38;5;241m=\u001b[39m \u001b[43mcon\u001b[49m\u001b[38;5;241m.\u001b[39mcursor()\n\u001b[1;32m     37\u001b[0m cur\u001b[38;5;241m.\u001b[39mexecute(query)\t\n\u001b[1;32m     38\u001b[0m dict_results \u001b[38;5;241m=\u001b[39m {row[\u001b[38;5;241m0\u001b[39m] : row[\u001b[38;5;241m1\u001b[39m] \u001b[38;5;28;01mfor\u001b[39;00m row \u001b[38;5;129;01min\u001b[39;00m cur\u001b[38;5;241m.\u001b[39mfetchall()}\n",
      "\u001b[0;31mNameError\u001b[0m: name 'con' is not defined"
     ]
    }
   ],
   "source": [
    "teams_creation(driver)"
   ]
  },
  {
   "cell_type": "markdown",
   "id": "e4299478",
   "metadata": {},
   "source": [
    "### M4 Getting complete match data."
   ]
  },
  {
   "cell_type": "code",
   "execution_count": 10,
   "id": "0f611742",
   "metadata": {
    "scrolled": true
   },
   "outputs": [
    {
     "name": "stdout",
     "output_type": "stream",
     "text": [
      "check_point:  {'sport_id': 'TENNIS', 'country_league': 'skia5514_ATP - SINGLES_ATP Barcelona'}\n"
     ]
    }
   ],
   "source": [
    "results_fixtures_extraction(driver, name_section = 'results')"
   ]
  },
  {
   "cell_type": "markdown",
   "id": "7d5b8207",
   "metadata": {},
   "source": [
    "### Check files generated."
   ]
  },
  {
   "cell_type": "code",
   "execution_count": 5,
   "id": "de100209",
   "metadata": {},
   "outputs": [
    {
     "name": "stdout",
     "output_type": "stream",
     "text": [
      "dict_keys([])\n"
     ]
    },
    {
     "ename": "KeyError",
     "evalue": "'BASKETBALL'",
     "output_type": "error",
     "traceback": [
      "\u001b[0;31m---------------------------------------------------------------------------\u001b[0m",
      "\u001b[0;31mKeyError\u001b[0m                                  Traceback (most recent call last)",
      "Cell \u001b[0;32mIn [5], line 1\u001b[0m\n\u001b[0;32m----> 1\u001b[0m players(driver,[\u001b[38;5;124m\"\u001b[39m\u001b[38;5;124mBASKETBALL\u001b[39m\u001b[38;5;124m\"\u001b[39m])\n",
      "File \u001b[0;32m~/Work_may_2023/sports_extraction/milestone6.py:189\u001b[0m, in \u001b[0;36mplayers\u001b[0;34m(driver, list_sports)\u001b[0m\n\u001b[1;32m    187\u001b[0m \u001b[38;5;28;01mif\u001b[39;00m enable_sport:\n\u001b[1;32m    188\u001b[0m \t\u001b[38;5;28mprint\u001b[39m(leagues_info_json\u001b[38;5;241m.\u001b[39mkeys())\n\u001b[0;32m--> 189\u001b[0m \t\u001b[38;5;28;01mfor\u001b[39;00m country_league, legue_info \u001b[38;5;129;01min\u001b[39;00m \u001b[43mleagues_info_json\u001b[49m\u001b[43m[\u001b[49m\u001b[43msport_name\u001b[49m\u001b[43m]\u001b[49m\u001b[38;5;241m.\u001b[39mitems():\n\u001b[1;32m    190\u001b[0m \t\t\u001b[38;5;66;03m##########  ENABLE CHECK POINT LEAGUE #############\u001b[39;00m\n\u001b[1;32m    191\u001b[0m \t\t\u001b[38;5;28;01mif\u001b[39;00m league_point \u001b[38;5;241m!=\u001b[39m \u001b[38;5;124m'\u001b[39m\u001b[38;5;124m'\u001b[39m:\n\u001b[1;32m    192\u001b[0m \t\t\t\u001b[38;5;28;01mif\u001b[39;00m league_point \u001b[38;5;241m==\u001b[39m country_league:\n",
      "\u001b[0;31mKeyError\u001b[0m: 'BASKETBALL'"
     ]
    }
   ],
   "source": [
    "players(driver,[\"BASKETBALL\"])"
   ]
  },
  {
   "cell_type": "code",
   "execution_count": null,
   "id": "2baad2c1",
   "metadata": {},
   "outputs": [],
   "source": []
  },
  {
   "cell_type": "code",
   "execution_count": 59,
   "id": "2e59e28e",
   "metadata": {},
   "outputs": [
    {
     "ename": "ScheduleValueError",
     "evalue": "Invalid time format for a minutely job (valid format is :SS)",
     "output_type": "error",
     "traceback": [
      "\u001b[0;31m---------------------------------------------------------------------------\u001b[0m",
      "\u001b[0;31mScheduleValueError\u001b[0m                        Traceback (most recent call last)",
      "Cell \u001b[0;32mIn [59], line 48\u001b[0m\n\u001b[1;32m     45\u001b[0m driver \u001b[38;5;241m=\u001b[39m \u001b[38;5;241m1\u001b[39m\n\u001b[1;32m     46\u001b[0m \u001b[38;5;66;03m# for section_name, frequency_time in data.items():\u001b[39;00m\n\u001b[1;32m     47\u001b[0m \u001b[38;5;66;03m# frequency_time = 'minutes|23:49:00'\u001b[39;00m\n\u001b[0;32m---> 48\u001b[0m schedule\u001b[38;5;241m.\u001b[39mevery(\u001b[38;5;241m1\u001b[39m)\u001b[38;5;241m.\u001b[39mminutes\u001b[38;5;241m.\u001b[39mat(\u001b[38;5;124m\"\u001b[39m\u001b[38;5;124m23:53:00\u001b[39m\u001b[38;5;124m\"\u001b[39m)\u001b[38;5;241m.\u001b[39mdo(function_prueba)\n\u001b[1;32m     49\u001b[0m \u001b[38;5;66;03m# schedule.every(1).minutes.do(function_name)\u001b[39;00m\n\u001b[1;32m     50\u001b[0m \u001b[38;5;66;03m# set_time_execution(function_prueba, frequency_time)\u001b[39;00m\n\u001b[1;32m     53\u001b[0m \u001b[38;5;28;01mwhile\u001b[39;00m \u001b[38;5;28;01mTrue\u001b[39;00m:\n",
      "File \u001b[0;32m~/.local/lib/python3.10/site-packages/schedule/__init__.py:527\u001b[0m, in \u001b[0;36mJob.at\u001b[0;34m(self, time_str, tz)\u001b[0m\n\u001b[1;32m    525\u001b[0m \u001b[38;5;28;01mif\u001b[39;00m \u001b[38;5;28mself\u001b[39m\u001b[38;5;241m.\u001b[39munit \u001b[38;5;241m==\u001b[39m \u001b[38;5;124m\"\u001b[39m\u001b[38;5;124mminutes\u001b[39m\u001b[38;5;124m\"\u001b[39m:\n\u001b[1;32m    526\u001b[0m     \u001b[38;5;28;01mif\u001b[39;00m \u001b[38;5;129;01mnot\u001b[39;00m re\u001b[38;5;241m.\u001b[39mmatch(\u001b[38;5;124mr\u001b[39m\u001b[38;5;124m\"\u001b[39m\u001b[38;5;124m^:[0-5]\u001b[39m\u001b[38;5;124m\\\u001b[39m\u001b[38;5;124md$\u001b[39m\u001b[38;5;124m\"\u001b[39m, time_str):\n\u001b[0;32m--> 527\u001b[0m         \u001b[38;5;28;01mraise\u001b[39;00m ScheduleValueError(\n\u001b[1;32m    528\u001b[0m             \u001b[38;5;124m\"\u001b[39m\u001b[38;5;124mInvalid time format for a minutely job (valid format is :SS)\u001b[39m\u001b[38;5;124m\"\u001b[39m\n\u001b[1;32m    529\u001b[0m         )\n\u001b[1;32m    530\u001b[0m time_values \u001b[38;5;241m=\u001b[39m time_str\u001b[38;5;241m.\u001b[39msplit(\u001b[38;5;124m\"\u001b[39m\u001b[38;5;124m:\u001b[39m\u001b[38;5;124m\"\u001b[39m)\n\u001b[1;32m    531\u001b[0m hour: Union[\u001b[38;5;28mstr\u001b[39m, \u001b[38;5;28mint\u001b[39m]\n",
      "\u001b[0;31mScheduleValueError\u001b[0m: Invalid time format for a minutely job (valid format is :SS)"
     ]
    }
   ],
   "source": [
    "import schedule\n",
    "\n",
    "def set_time_execution(function_name, frequency_time):\t\n",
    "    frequency, time_config = frequency_time.split('|')\n",
    "    hour, minute, second = map(int, time_config.split(':'))\n",
    "    if frequency == \"weekly\":\n",
    "        schedule.every(7).days.at(f\"{hour:02d}:{minute:02d}:{second:02d}\").do(function_name, section)\n",
    "    elif frequency == \"daily\":\n",
    "        schedule.every(1).days.at(f\"{hour:02d}:{minute:02d}:{second:02d}\").do(function_name, section)\n",
    "    elif frequency == \"monthly\":\n",
    "        # Aproximación: usar días múltiplos del intervalo como una aproximación al mes\n",
    "        schedule.every(30).days.at(f\"{hour:02d}:{minute:02d}:{second:02d}\").do(function_name, section)\n",
    "    elif frequency == \"minutes\":\n",
    "#         schedule.every().day.at(f\"{hour:02d}:{minute:02d}:{second:02d}\").do(function_name, section)\n",
    "        schedule.every(1).minutes.do(function_name)\n",
    "\n",
    "    elif frequency == \"seconds\":\n",
    "        schedule.every().day.at(f\"{hour:02d}:{minute:02d}:{second:02d}\").do(function_name, section)\n",
    "        schedule.every(15).seconds.do(execute_function, section).tag('interval_task')\n",
    "\n",
    "def main_extract_news():\n",
    "\tprint(\"Extract news\")\n",
    "\t\n",
    "def create_leagues(driver):\n",
    "    print(\"Milestone 2\")\n",
    "\n",
    "def teams_creation(driver):\n",
    "    print(\"Milestone 3\")\n",
    "\n",
    "def results_fixtures_extraction(driver, name_section = 'results'):\n",
    "    print(\"Milestone 4\")\n",
    "\t\n",
    "def results_fixtures_extraction(driver, name_section = 'fixtures'):\n",
    "    print(\"Milestone 5\")\n",
    "\n",
    "def players(driver):\n",
    "    print(\"Milestone 2\")\n",
    "\n",
    "def function_prueba():\n",
    "    print(\"Milestone 2\")\n",
    "\n",
    "with open('input.json', 'r') as file:\n",
    "    data = json.load(file)\n",
    "\n",
    "driver = 1\n",
    "# for section_name, frequency_time in data.items():\n",
    "# frequency_time = 'minutes|23:49:00'\n",
    "schedule.every(1).minutes.at(\"23:53:00\").do(function_prueba)\n",
    "# schedule.every(1).minutes.do(function_name)\n",
    "# set_time_execution(function_prueba, frequency_time)\n",
    "    \n",
    "\n",
    "while True:\n",
    "    schedule.run_pending()\n",
    "    time.sleep(1)\n"
   ]
  },
  {
   "cell_type": "code",
   "execution_count": null,
   "id": "0800ae0c",
   "metadata": {},
   "outputs": [],
   "source": []
  },
  {
   "cell_type": "markdown",
   "id": "60bdcb5e",
   "metadata": {},
   "source": [
    "# Get all news.\n",
    "\n",
    "- It toke the input dict_news_links ='check_points/flashscore_links.json\n",
    "- It navigate through all the sports and news links to extract all the data.\n",
    "- It extract image, title, summary, mentions and save it in the data base."
   ]
  },
  {
   "cell_type": "code",
   "execution_count": 3,
   "id": "4eb708a7",
   "metadata": {
    "scrolled": true
   },
   "outputs": [
    {
     "name": "stdout",
     "output_type": "stream",
     "text": [
      "Initialization\n",
      "dict_check_point:  {'country': '', 'team': ''}\n",
      "--------------------------- SPORT---------------------------\n",
      "--------------------------- COUNTRY-------------------\n",
      "--------------------------- TEAM ------------\n",
      "Premier_League {'url_team': 'https://www.flashscore.com/football/england/premier-league/', 'url_news': 'https://www.flashscore.com/football/england/premier-league/news/'}\n",
      "https://www.flashscore.com/football/england/premier-league/news/ \n",
      "\n",
      "news_content Exceed max len:  16392 / 18916\n",
      "news_id 21--title 76--news_summary 179--news_content 18916--image 32--published 26--news_tags 201--news_id 21--title 84--news_summary 167--news_content 4912--image 32--published 26--news_tags 69--news_id 21--title 71--news_summary 236--news_content 2797--image 32--published 26--news_tags 77--news_id 21--title 72--news_summary 251--news_content 4887--image 32--published 26--news_tags 57--news_id 21--title 66--news_summary 240--news_content 6618--image 32--published 26--news_tags 57--news_id 21--title 70--news_summary 137--news_content 2716--image 32--published 26--news_tags 58--news_id 21--title 81--news_summary 306--news_content 5844--image 32--published 26--news_tags 47--news_id 21--title 72--news_summary 143--news_content 3768--image 32--published 26--news_tags 48--news_id 21--title 68--news_summary 169--news_content 2259--image 32--published 26--news_tags 33--news_id 21--title 73--news_summary 221--news_content 2855--image 32--published 26--news_tags 82----------------------------- TEAM ------------\n",
      "Championship {'url_team': 'https://www.flashscore.com/football/england/championship/', 'url_news': 'https://www.flashscore.com/football/england/championship/news/'}\n",
      "https://www.flashscore.com/football/england/championship/news/ \n",
      "\n",
      "news_id 21--title 74--news_summary 238--news_content 12622--image 32--published 26--news_tags 50--news_id 21--title 81--news_summary 116--news_content 4464--image 32--published 26--news_tags 73--news_id 21--title 80--news_summary 214--news_content 11839--image 32--published 26--news_tags 132--news_id 21--title 66--news_summary 167--news_content 5328--image 32--published 26--news_tags 70--news_id 21--title 72--news_summary 192--news_content 9384--image 32--published 26--news_tags 145--news_id 21--title 77--news_summary 185--news_content 1369--image 32--published 26--news_tags 45--news_id 21--title 78--news_summary 171--news_content 4596--image 32--published 26--news_tags 83--news_id 21--title 76--news_summary 115--news_content 7024--image 32--published 26--news_tags 108--news_id 21--title 83--news_summary 201--news_content 7204--image 32--published 26--news_tags 134--news_id 21--title 79--news_summary 154--news_content 3519--image 32--published 26--news_tags 64----------------------------- TEAM ------------\n",
      "League_One {'url_team': 'https://www.flashscore.com/football/england/league-one/', 'url_news': 'https://www.flashscore.com/football/england/league-one/news/'}\n",
      "https://www.flashscore.com/football/england/league-one/news/ \n",
      "\n",
      "news_id 21--title 63--news_summary 111--news_content 2281--image 32--published 26--news_tags 115--news_tags Exceed max len:  255 / 372\n",
      "news_id 21--title 71--news_summary 191--news_content 4602--image 32--published 26--news_tags 372--news_id 21--title 80--news_summary 111--news_content 1892--image 32--published 26--news_tags 27--news_id 21--title 73--news_summary 175--news_content 2240--image 32--published 26--news_tags 42--news_id 21--title 73--news_summary 244--news_content 1807--image 32--published 26--news_tags 41--news_id 21--title 71--news_summary 189--news_content 2010--image 32--published 26--news_tags 27--news_id 21--title 56--news_summary 209--news_content 2079--image 32--published 26--news_tags 41--news_id 21--title 75--news_summary 170--news_content 4804--image 32--published 26--news_tags 87--news_id 21--title 70--news_summary 219--news_content 2005--image 32--published 26--news_tags 46--news_id 21--title 67--news_summary 242--news_content 4478--image 32--published 26--news_tags 62----------------------------- TEAM ------------\n",
      "League_Two {'url_team': 'https://www.flashscore.com/football/england/league-two/', 'url_news': 'https://www.flashscore.com/football/england/league-two/news/'}\n",
      "https://www.flashscore.com/football/england/league-two/news/ \n",
      "\n",
      "news_id 21--title 72--news_summary 192--news_content 7125--image 32--published 26--news_tags 145--news_id 21--title 58--news_summary 182--news_content 1979--image 32--published 26--news_tags 41--news_id 21--title 74--news_summary 204--news_content 3047--image 32--published 26--news_tags 34--news_id 21--title 75--news_summary 205--news_content 2139--image 32--published 26--news_tags 34--news_tags Exceed max len:  255 / 372\n",
      "news_id 21--title 71--news_summary 191--news_content 4602--image 32--published 26--news_tags 372--news_id 21--title 59--news_summary 246--news_content 1969--image 32--published 26--news_tags 41--news_id 21--title 70--news_summary 219--news_content 2005--image 32--published 26--news_tags 46--news_id 21--title 60--news_summary 251--news_content 3160--image 32--published 26--news_tags 75--news_id 21--title 64--news_summary 187--news_content 2743--image 32--published 26--news_tags 60--news_id 21--title 67--news_summary 242--news_content 4478--image 32--published 26--news_tags 62----------------------------- TEAM ------------\n",
      "National_League {'url_team': 'https://www.flashscore.com/football/england/national-league/', 'url_news': 'https://www.flashscore.com/football/england/national-league/news/'}\n",
      "https://www.flashscore.com/football/england/national-league/news/ \n",
      "\n",
      "news_id 21--title 72--news_summary 192--news_content 7125--image 32--published 26--news_tags 145--news_id 21--title 60--news_summary 251--news_content 3160--image 32--published 26--news_tags 75--news_id 21--title 64--news_summary 187--news_content 2743--image 32--published 26--news_tags 60--news_id 21--title 70--news_summary 221--news_content 6161--image 32--published 26--news_tags 111--news_id 21--title 52--news_summary 199--news_content 4861--image 32--published 26--news_tags 34--news_id 21--title 63--news_summary 216--news_content 2271--image 32--published 26--news_tags 63--news_id 21--title 83--news_summary 191--news_content 1956--image 32--published 26--news_tags 48--news_id 21--title 76--news_summary 213--news_content 2776--image 32--published 26--news_tags 34----------------------------- TEAM ------------\n",
      "National_League_North {'url_team': 'https://www.flashscore.com/football/england/national-league-north/', 'url_news': 'https://www.flashscore.com/football/england/national-league-north/news/'}\n",
      "https://www.flashscore.com/football/england/national-league-north/news/ \n",
      "\n",
      "Case no results\n",
      "--------------------------- TEAM ------------\n",
      "National_League_South {'url_team': 'https://www.flashscore.com/football/england/national-league-south/', 'url_news': 'https://www.flashscore.com/football/england/national-league-south/news/'}\n",
      "https://www.flashscore.com/football/england/national-league-south/news/ \n",
      "\n",
      "Case no results\n",
      "--------------------------- TEAM ------------\n",
      "NPL_Premier_Division {'url_team': 'https://www.flashscore.com/football/england/npl-premier-division/', 'url_news': 'https://www.flashscore.com/football/england/npl-premier-division/news/'}\n",
      "https://www.flashscore.com/football/england/npl-premier-division/news/ \n",
      "\n",
      "Case no results\n",
      "--------------------------- TEAM ------------\n",
      "Southern_League_Central_Division {'url_team': 'https://www.flashscore.com/football/england/southern-league-central-division/', 'url_news': 'https://www.flashscore.com/football/england/southern-league-central-division/news/'}\n",
      "https://www.flashscore.com/football/england/southern-league-central-division/news/ \n",
      "\n",
      "Case no results\n",
      "--------------------------- TEAM ------------\n",
      "Southern_League_South_Division {'url_team': 'https://www.flashscore.com/football/england/southern-league-south-division/', 'url_news': 'https://www.flashscore.com/football/england/southern-league-south-division/news/'}\n",
      "https://www.flashscore.com/football/england/southern-league-south-division/news/ \n",
      "\n",
      "Case no results\n",
      "--------------------------- TEAM ------------\n",
      " {'url_team': 'https://www.flashscore.com/football/england/women-s-fa-community-shield/', 'url_news': 'https://www.flashscore.com/football/england/women-s-fa-community-shield/news/'}\n",
      "https://www.flashscore.com/football/england/women-s-fa-community-shield/news/ \n",
      "\n"
     ]
    },
    {
     "name": "stdout",
     "output_type": "stream",
     "text": [
      "Case no results\n",
      "--------------------------- COUNTRY-------------------\n",
      "--------------------------- TEAM ------------\n",
      "Ligue_1 {'url_team': 'https://www.flashscore.com/football/france/ligue-1/', 'url_news': 'https://www.flashscore.com/football/france/ligue-1/news/'}\n",
      "https://www.flashscore.com/football/france/ligue-1/news/ \n",
      "\n",
      "news_id 21--title 68--news_summary 182--news_content 4228--image 32--published 26--news_tags 44--news_id 21--title 72--news_summary 323--news_content 5393--image 32--published 26--news_tags 30--news_id 21--title 69--news_summary 177--news_content 3519--image 32--published 26--news_tags 33--news_id 21--title 72--news_summary 146--news_content 6225--image 32--published 26--news_tags 63--news_id 21--title 67--news_summary 157--news_content 3646--image 32--published 26--news_tags 37--news_id 21--title 71--news_summary 214--news_content 1477--image 32--published 26--news_tags 94--news_id 21--title 62--news_summary 240--news_content 4340--image 32--published 26--news_tags 34--news_id 21--title 66--news_summary 194--news_content 2006--image 32--published 26--news_tags 34--news_id 21--title 73--news_summary 249--news_content 4503--image 32--published 26--news_tags 32--news_id 21--title 66--news_summary 164--news_content 3033--image 32--published 26--news_tags 31----------------------------- TEAM ------------\n",
      "Ligue_2 {'url_team': 'https://www.flashscore.com/football/france/ligue-2/', 'url_news': 'https://www.flashscore.com/football/france/ligue-2/news/'}\n",
      "https://www.flashscore.com/football/france/ligue-2/news/ \n",
      "\n",
      "news_id 21--title 74--news_summary 214--news_content 4073--image 32--published 26--news_tags 26--news_id 21--title 87--news_summary 182--news_content 3377--image 32--published 26--news_tags 98--"
     ]
    },
    {
     "ename": "KeyboardInterrupt",
     "evalue": "",
     "output_type": "error",
     "traceback": [
      "\u001b[0;31m---------------------------------------------------------------------------\u001b[0m",
      "\u001b[0;31mKeyboardInterrupt\u001b[0m                         Traceback (most recent call last)",
      "Cell \u001b[0;32mIn [3], line 1\u001b[0m\n\u001b[0;32m----> 1\u001b[0m get_all_news(driver)\n",
      "File \u001b[0;32m~/Work_may_2023/Jose_panama/flashcore_extraction.py:441\u001b[0m, in \u001b[0;36mget_all_news\u001b[0;34m(driver, dict_news_links)\u001b[0m\n\u001b[1;32m    439\u001b[0m \u001b[38;5;28mprint\u001b[39m(current_news_link,\u001b[38;5;124m'\u001b[39m\u001b[38;5;130;01m\\n\u001b[39;00m\u001b[38;5;124m'\u001b[39m)\n\u001b[1;32m    440\u001b[0m driver\u001b[38;5;241m.\u001b[39mget(current_news_link)\n\u001b[0;32m--> 441\u001b[0m \u001b[43mprocess_current_news_link\u001b[49m\u001b[43m(\u001b[49m\u001b[43mdriver\u001b[49m\u001b[43m,\u001b[49m\u001b[43m \u001b[49m\u001b[43mcurrent_news_link\u001b[49m\u001b[43m)\u001b[49m\n\u001b[1;32m    442\u001b[0m dict_check_point[\u001b[38;5;124m'\u001b[39m\u001b[38;5;124mteam\u001b[39m\u001b[38;5;124m'\u001b[39m] \u001b[38;5;241m=\u001b[39m team\n\u001b[1;32m    443\u001b[0m save_check_point(\u001b[38;5;124m'\u001b[39m\u001b[38;5;124mcheck_points/check_point.json\u001b[39m\u001b[38;5;124m'\u001b[39m, dict_check_point)\t\t\t\t\n",
      "File \u001b[0;32m~/Work_may_2023/Jose_panama/flashcore_extraction.py:391\u001b[0m, in \u001b[0;36mprocess_current_news_link\u001b[0;34m(driver, current_news_link)\u001b[0m\n\u001b[1;32m    387\u001b[0m flashscore_url_news \u001b[38;5;241m=\u001b[39m get_news_url_date(driver, current_news_link)\n\u001b[1;32m    389\u001b[0m \u001b[38;5;28;01mfor\u001b[39;00m url_date_news \u001b[38;5;129;01min\u001b[39;00m flashscore_url_news:\n\u001b[0;32m--> 391\u001b[0m \t\u001b[43mload_detailed_news\u001b[49m\u001b[43m(\u001b[49m\u001b[43mdriver\u001b[49m\u001b[43m,\u001b[49m\u001b[43m \u001b[49m\u001b[43murl_date_news\u001b[49m\u001b[43m[\u001b[49m\u001b[38;5;124;43m'\u001b[39;49m\u001b[38;5;124;43murl\u001b[39;49m\u001b[38;5;124;43m'\u001b[39;49m\u001b[43m]\u001b[49m\u001b[43m)\u001b[49m\n\u001b[1;32m    392\u001b[0m \tdict_new \u001b[38;5;241m=\u001b[39m get_news_info(driver, url_date_news[\u001b[38;5;124m'\u001b[39m\u001b[38;5;124mdate\u001b[39m\u001b[38;5;124m'\u001b[39m])\n",
      "File \u001b[0;32m~/Work_may_2023/Jose_panama/flashcore_extraction.py:342\u001b[0m, in \u001b[0;36mload_detailed_news\u001b[0;34m(driver, url_news)\u001b[0m\n\u001b[1;32m    340\u001b[0m class_name \u001b[38;5;241m=\u001b[39m \u001b[38;5;124m'\u001b[39m\u001b[38;5;124mfsNewsArticle__title\u001b[39m\u001b[38;5;124m'\u001b[39m\n\u001b[1;32m    341\u001b[0m title \u001b[38;5;241m=\u001b[39m driver\u001b[38;5;241m.\u001b[39mfind_elements(By\u001b[38;5;241m.\u001b[39mCLASS_NAME, class_name)\n\u001b[0;32m--> 342\u001b[0m \u001b[43mdriver\u001b[49m\u001b[38;5;241;43m.\u001b[39;49m\u001b[43mget\u001b[49m\u001b[43m(\u001b[49m\u001b[43murl_news\u001b[49m\u001b[43m)\u001b[49m\n\u001b[1;32m    343\u001b[0m \u001b[38;5;28;01mif\u001b[39;00m \u001b[38;5;28mlen\u001b[39m(title) \u001b[38;5;241m==\u001b[39m \u001b[38;5;241m0\u001b[39m:\n\u001b[1;32m    344\u001b[0m \ttitle \u001b[38;5;241m=\u001b[39m wait\u001b[38;5;241m.\u001b[39muntil(EC\u001b[38;5;241m.\u001b[39mvisibility_of_element_located((By\u001b[38;5;241m.\u001b[39mCLASS_NAME, class_name)))\n",
      "File \u001b[0;32m~/.local/lib/python3.10/site-packages/selenium/webdriver/remote/webdriver.py:355\u001b[0m, in \u001b[0;36mWebDriver.get\u001b[0;34m(self, url)\u001b[0m\n\u001b[1;32m    353\u001b[0m \u001b[38;5;28;01mdef\u001b[39;00m \u001b[38;5;21mget\u001b[39m(\u001b[38;5;28mself\u001b[39m, url: \u001b[38;5;28mstr\u001b[39m) \u001b[38;5;241m-\u001b[39m\u001b[38;5;241m>\u001b[39m \u001b[38;5;28;01mNone\u001b[39;00m:\n\u001b[1;32m    354\u001b[0m     \u001b[38;5;124;03m\"\"\"Loads a web page in the current browser session.\"\"\"\u001b[39;00m\n\u001b[0;32m--> 355\u001b[0m     \u001b[38;5;28;43mself\u001b[39;49m\u001b[38;5;241;43m.\u001b[39;49m\u001b[43mexecute\u001b[49m\u001b[43m(\u001b[49m\u001b[43mCommand\u001b[49m\u001b[38;5;241;43m.\u001b[39;49m\u001b[43mGET\u001b[49m\u001b[43m,\u001b[49m\u001b[43m \u001b[49m\u001b[43m{\u001b[49m\u001b[38;5;124;43m\"\u001b[39;49m\u001b[38;5;124;43murl\u001b[39;49m\u001b[38;5;124;43m\"\u001b[39;49m\u001b[43m:\u001b[49m\u001b[43m \u001b[49m\u001b[43murl\u001b[49m\u001b[43m}\u001b[49m\u001b[43m)\u001b[49m\n",
      "File \u001b[0;32m~/.local/lib/python3.10/site-packages/selenium/webdriver/remote/webdriver.py:344\u001b[0m, in \u001b[0;36mWebDriver.execute\u001b[0;34m(self, driver_command, params)\u001b[0m\n\u001b[1;32m    341\u001b[0m     \u001b[38;5;28;01melif\u001b[39;00m \u001b[38;5;124m\"\u001b[39m\u001b[38;5;124msessionId\u001b[39m\u001b[38;5;124m\"\u001b[39m \u001b[38;5;129;01mnot\u001b[39;00m \u001b[38;5;129;01min\u001b[39;00m params:\n\u001b[1;32m    342\u001b[0m         params[\u001b[38;5;124m\"\u001b[39m\u001b[38;5;124msessionId\u001b[39m\u001b[38;5;124m\"\u001b[39m] \u001b[38;5;241m=\u001b[39m \u001b[38;5;28mself\u001b[39m\u001b[38;5;241m.\u001b[39msession_id\n\u001b[0;32m--> 344\u001b[0m response \u001b[38;5;241m=\u001b[39m \u001b[38;5;28;43mself\u001b[39;49m\u001b[38;5;241;43m.\u001b[39;49m\u001b[43mcommand_executor\u001b[49m\u001b[38;5;241;43m.\u001b[39;49m\u001b[43mexecute\u001b[49m\u001b[43m(\u001b[49m\u001b[43mdriver_command\u001b[49m\u001b[43m,\u001b[49m\u001b[43m \u001b[49m\u001b[43mparams\u001b[49m\u001b[43m)\u001b[49m\n\u001b[1;32m    345\u001b[0m \u001b[38;5;28;01mif\u001b[39;00m response:\n\u001b[1;32m    346\u001b[0m     \u001b[38;5;28mself\u001b[39m\u001b[38;5;241m.\u001b[39merror_handler\u001b[38;5;241m.\u001b[39mcheck_response(response)\n",
      "File \u001b[0;32m~/.local/lib/python3.10/site-packages/selenium/webdriver/remote/remote_connection.py:290\u001b[0m, in \u001b[0;36mRemoteConnection.execute\u001b[0;34m(self, command, params)\u001b[0m\n\u001b[1;32m    288\u001b[0m data \u001b[38;5;241m=\u001b[39m utils\u001b[38;5;241m.\u001b[39mdump_json(params)\n\u001b[1;32m    289\u001b[0m url \u001b[38;5;241m=\u001b[39m \u001b[38;5;124mf\u001b[39m\u001b[38;5;124m\"\u001b[39m\u001b[38;5;132;01m{\u001b[39;00m\u001b[38;5;28mself\u001b[39m\u001b[38;5;241m.\u001b[39m_url\u001b[38;5;132;01m}\u001b[39;00m\u001b[38;5;132;01m{\u001b[39;00mpath\u001b[38;5;132;01m}\u001b[39;00m\u001b[38;5;124m\"\u001b[39m\n\u001b[0;32m--> 290\u001b[0m \u001b[38;5;28;01mreturn\u001b[39;00m \u001b[38;5;28;43mself\u001b[39;49m\u001b[38;5;241;43m.\u001b[39;49m\u001b[43m_request\u001b[49m\u001b[43m(\u001b[49m\u001b[43mcommand_info\u001b[49m\u001b[43m[\u001b[49m\u001b[38;5;241;43m0\u001b[39;49m\u001b[43m]\u001b[49m\u001b[43m,\u001b[49m\u001b[43m \u001b[49m\u001b[43murl\u001b[49m\u001b[43m,\u001b[49m\u001b[43m \u001b[49m\u001b[43mbody\u001b[49m\u001b[38;5;241;43m=\u001b[39;49m\u001b[43mdata\u001b[49m\u001b[43m)\u001b[49m\n",
      "File \u001b[0;32m~/.local/lib/python3.10/site-packages/selenium/webdriver/remote/remote_connection.py:311\u001b[0m, in \u001b[0;36mRemoteConnection._request\u001b[0;34m(self, method, url, body)\u001b[0m\n\u001b[1;32m    308\u001b[0m     body \u001b[38;5;241m=\u001b[39m \u001b[38;5;28;01mNone\u001b[39;00m\n\u001b[1;32m    310\u001b[0m \u001b[38;5;28;01mif\u001b[39;00m \u001b[38;5;28mself\u001b[39m\u001b[38;5;241m.\u001b[39mkeep_alive:\n\u001b[0;32m--> 311\u001b[0m     response \u001b[38;5;241m=\u001b[39m \u001b[38;5;28;43mself\u001b[39;49m\u001b[38;5;241;43m.\u001b[39;49m\u001b[43m_conn\u001b[49m\u001b[38;5;241;43m.\u001b[39;49m\u001b[43mrequest\u001b[49m\u001b[43m(\u001b[49m\u001b[43mmethod\u001b[49m\u001b[43m,\u001b[49m\u001b[43m \u001b[49m\u001b[43murl\u001b[49m\u001b[43m,\u001b[49m\u001b[43m \u001b[49m\u001b[43mbody\u001b[49m\u001b[38;5;241;43m=\u001b[39;49m\u001b[43mbody\u001b[49m\u001b[43m,\u001b[49m\u001b[43m \u001b[49m\u001b[43mheaders\u001b[49m\u001b[38;5;241;43m=\u001b[39;49m\u001b[43mheaders\u001b[49m\u001b[43m)\u001b[49m\n\u001b[1;32m    312\u001b[0m     statuscode \u001b[38;5;241m=\u001b[39m response\u001b[38;5;241m.\u001b[39mstatus\n\u001b[1;32m    313\u001b[0m \u001b[38;5;28;01melse\u001b[39;00m:\n",
      "File \u001b[0;32m~/.local/lib/python3.10/site-packages/urllib3/request.py:78\u001b[0m, in \u001b[0;36mRequestMethods.request\u001b[0;34m(self, method, url, fields, headers, **urlopen_kw)\u001b[0m\n\u001b[1;32m     74\u001b[0m     \u001b[38;5;28;01mreturn\u001b[39;00m \u001b[38;5;28mself\u001b[39m\u001b[38;5;241m.\u001b[39mrequest_encode_url(\n\u001b[1;32m     75\u001b[0m         method, url, fields\u001b[38;5;241m=\u001b[39mfields, headers\u001b[38;5;241m=\u001b[39mheaders, \u001b[38;5;241m*\u001b[39m\u001b[38;5;241m*\u001b[39murlopen_kw\n\u001b[1;32m     76\u001b[0m     )\n\u001b[1;32m     77\u001b[0m \u001b[38;5;28;01melse\u001b[39;00m:\n\u001b[0;32m---> 78\u001b[0m     \u001b[38;5;28;01mreturn\u001b[39;00m \u001b[38;5;28;43mself\u001b[39;49m\u001b[38;5;241;43m.\u001b[39;49m\u001b[43mrequest_encode_body\u001b[49m\u001b[43m(\u001b[49m\n\u001b[1;32m     79\u001b[0m \u001b[43m        \u001b[49m\u001b[43mmethod\u001b[49m\u001b[43m,\u001b[49m\u001b[43m \u001b[49m\u001b[43murl\u001b[49m\u001b[43m,\u001b[49m\u001b[43m \u001b[49m\u001b[43mfields\u001b[49m\u001b[38;5;241;43m=\u001b[39;49m\u001b[43mfields\u001b[49m\u001b[43m,\u001b[49m\u001b[43m \u001b[49m\u001b[43mheaders\u001b[49m\u001b[38;5;241;43m=\u001b[39;49m\u001b[43mheaders\u001b[49m\u001b[43m,\u001b[49m\u001b[43m \u001b[49m\u001b[38;5;241;43m*\u001b[39;49m\u001b[38;5;241;43m*\u001b[39;49m\u001b[43murlopen_kw\u001b[49m\n\u001b[1;32m     80\u001b[0m \u001b[43m    \u001b[49m\u001b[43m)\u001b[49m\n",
      "File \u001b[0;32m~/.local/lib/python3.10/site-packages/urllib3/request.py:170\u001b[0m, in \u001b[0;36mRequestMethods.request_encode_body\u001b[0;34m(self, method, url, fields, headers, encode_multipart, multipart_boundary, **urlopen_kw)\u001b[0m\n\u001b[1;32m    167\u001b[0m extra_kw[\u001b[38;5;124m\"\u001b[39m\u001b[38;5;124mheaders\u001b[39m\u001b[38;5;124m\"\u001b[39m]\u001b[38;5;241m.\u001b[39mupdate(headers)\n\u001b[1;32m    168\u001b[0m extra_kw\u001b[38;5;241m.\u001b[39mupdate(urlopen_kw)\n\u001b[0;32m--> 170\u001b[0m \u001b[38;5;28;01mreturn\u001b[39;00m \u001b[38;5;28;43mself\u001b[39;49m\u001b[38;5;241;43m.\u001b[39;49m\u001b[43murlopen\u001b[49m\u001b[43m(\u001b[49m\u001b[43mmethod\u001b[49m\u001b[43m,\u001b[49m\u001b[43m \u001b[49m\u001b[43murl\u001b[49m\u001b[43m,\u001b[49m\u001b[43m \u001b[49m\u001b[38;5;241;43m*\u001b[39;49m\u001b[38;5;241;43m*\u001b[39;49m\u001b[43mextra_kw\u001b[49m\u001b[43m)\u001b[49m\n",
      "File \u001b[0;32m~/.local/lib/python3.10/site-packages/urllib3/poolmanager.py:376\u001b[0m, in \u001b[0;36mPoolManager.urlopen\u001b[0;34m(self, method, url, redirect, **kw)\u001b[0m\n\u001b[1;32m    374\u001b[0m     response \u001b[38;5;241m=\u001b[39m conn\u001b[38;5;241m.\u001b[39murlopen(method, url, \u001b[38;5;241m*\u001b[39m\u001b[38;5;241m*\u001b[39mkw)\n\u001b[1;32m    375\u001b[0m \u001b[38;5;28;01melse\u001b[39;00m:\n\u001b[0;32m--> 376\u001b[0m     response \u001b[38;5;241m=\u001b[39m \u001b[43mconn\u001b[49m\u001b[38;5;241;43m.\u001b[39;49m\u001b[43murlopen\u001b[49m\u001b[43m(\u001b[49m\u001b[43mmethod\u001b[49m\u001b[43m,\u001b[49m\u001b[43m \u001b[49m\u001b[43mu\u001b[49m\u001b[38;5;241;43m.\u001b[39;49m\u001b[43mrequest_uri\u001b[49m\u001b[43m,\u001b[49m\u001b[43m \u001b[49m\u001b[38;5;241;43m*\u001b[39;49m\u001b[38;5;241;43m*\u001b[39;49m\u001b[43mkw\u001b[49m\u001b[43m)\u001b[49m\n\u001b[1;32m    378\u001b[0m redirect_location \u001b[38;5;241m=\u001b[39m redirect \u001b[38;5;129;01mand\u001b[39;00m response\u001b[38;5;241m.\u001b[39mget_redirect_location()\n\u001b[1;32m    379\u001b[0m \u001b[38;5;28;01mif\u001b[39;00m \u001b[38;5;129;01mnot\u001b[39;00m redirect_location:\n",
      "File \u001b[0;32m~/.local/lib/python3.10/site-packages/urllib3/connectionpool.py:703\u001b[0m, in \u001b[0;36mHTTPConnectionPool.urlopen\u001b[0;34m(self, method, url, body, headers, retries, redirect, assert_same_host, timeout, pool_timeout, release_conn, chunked, body_pos, **response_kw)\u001b[0m\n\u001b[1;32m    700\u001b[0m     \u001b[38;5;28mself\u001b[39m\u001b[38;5;241m.\u001b[39m_prepare_proxy(conn)\n\u001b[1;32m    702\u001b[0m \u001b[38;5;66;03m# Make the request on the httplib connection object.\u001b[39;00m\n\u001b[0;32m--> 703\u001b[0m httplib_response \u001b[38;5;241m=\u001b[39m \u001b[38;5;28;43mself\u001b[39;49m\u001b[38;5;241;43m.\u001b[39;49m\u001b[43m_make_request\u001b[49m\u001b[43m(\u001b[49m\n\u001b[1;32m    704\u001b[0m \u001b[43m    \u001b[49m\u001b[43mconn\u001b[49m\u001b[43m,\u001b[49m\n\u001b[1;32m    705\u001b[0m \u001b[43m    \u001b[49m\u001b[43mmethod\u001b[49m\u001b[43m,\u001b[49m\n\u001b[1;32m    706\u001b[0m \u001b[43m    \u001b[49m\u001b[43murl\u001b[49m\u001b[43m,\u001b[49m\n\u001b[1;32m    707\u001b[0m \u001b[43m    \u001b[49m\u001b[43mtimeout\u001b[49m\u001b[38;5;241;43m=\u001b[39;49m\u001b[43mtimeout_obj\u001b[49m\u001b[43m,\u001b[49m\n\u001b[1;32m    708\u001b[0m \u001b[43m    \u001b[49m\u001b[43mbody\u001b[49m\u001b[38;5;241;43m=\u001b[39;49m\u001b[43mbody\u001b[49m\u001b[43m,\u001b[49m\n\u001b[1;32m    709\u001b[0m \u001b[43m    \u001b[49m\u001b[43mheaders\u001b[49m\u001b[38;5;241;43m=\u001b[39;49m\u001b[43mheaders\u001b[49m\u001b[43m,\u001b[49m\n\u001b[1;32m    710\u001b[0m \u001b[43m    \u001b[49m\u001b[43mchunked\u001b[49m\u001b[38;5;241;43m=\u001b[39;49m\u001b[43mchunked\u001b[49m\u001b[43m,\u001b[49m\n\u001b[1;32m    711\u001b[0m \u001b[43m\u001b[49m\u001b[43m)\u001b[49m\n\u001b[1;32m    713\u001b[0m \u001b[38;5;66;03m# If we're going to release the connection in ``finally:``, then\u001b[39;00m\n\u001b[1;32m    714\u001b[0m \u001b[38;5;66;03m# the response doesn't need to know about the connection. Otherwise\u001b[39;00m\n\u001b[1;32m    715\u001b[0m \u001b[38;5;66;03m# it will also try to release it and we'll have a double-release\u001b[39;00m\n\u001b[1;32m    716\u001b[0m \u001b[38;5;66;03m# mess.\u001b[39;00m\n\u001b[1;32m    717\u001b[0m response_conn \u001b[38;5;241m=\u001b[39m conn \u001b[38;5;28;01mif\u001b[39;00m \u001b[38;5;129;01mnot\u001b[39;00m release_conn \u001b[38;5;28;01melse\u001b[39;00m \u001b[38;5;28;01mNone\u001b[39;00m\n",
      "File \u001b[0;32m~/.local/lib/python3.10/site-packages/urllib3/connectionpool.py:449\u001b[0m, in \u001b[0;36mHTTPConnectionPool._make_request\u001b[0;34m(self, conn, method, url, timeout, chunked, **httplib_request_kw)\u001b[0m\n\u001b[1;32m    444\u001b[0m             httplib_response \u001b[38;5;241m=\u001b[39m conn\u001b[38;5;241m.\u001b[39mgetresponse()\n\u001b[1;32m    445\u001b[0m         \u001b[38;5;28;01mexcept\u001b[39;00m \u001b[38;5;167;01mBaseException\u001b[39;00m \u001b[38;5;28;01mas\u001b[39;00m e:\n\u001b[1;32m    446\u001b[0m             \u001b[38;5;66;03m# Remove the TypeError from the exception chain in\u001b[39;00m\n\u001b[1;32m    447\u001b[0m             \u001b[38;5;66;03m# Python 3 (including for exceptions like SystemExit).\u001b[39;00m\n\u001b[1;32m    448\u001b[0m             \u001b[38;5;66;03m# Otherwise it looks like a bug in the code.\u001b[39;00m\n\u001b[0;32m--> 449\u001b[0m             \u001b[43msix\u001b[49m\u001b[38;5;241;43m.\u001b[39;49m\u001b[43mraise_from\u001b[49m\u001b[43m(\u001b[49m\u001b[43me\u001b[49m\u001b[43m,\u001b[49m\u001b[43m \u001b[49m\u001b[38;5;28;43;01mNone\u001b[39;49;00m\u001b[43m)\u001b[49m\n\u001b[1;32m    450\u001b[0m \u001b[38;5;28;01mexcept\u001b[39;00m (SocketTimeout, BaseSSLError, SocketError) \u001b[38;5;28;01mas\u001b[39;00m e:\n\u001b[1;32m    451\u001b[0m     \u001b[38;5;28mself\u001b[39m\u001b[38;5;241m.\u001b[39m_raise_timeout(err\u001b[38;5;241m=\u001b[39me, url\u001b[38;5;241m=\u001b[39murl, timeout_value\u001b[38;5;241m=\u001b[39mread_timeout)\n",
      "File \u001b[0;32m<string>:3\u001b[0m, in \u001b[0;36mraise_from\u001b[0;34m(value, from_value)\u001b[0m\n",
      "File \u001b[0;32m~/.local/lib/python3.10/site-packages/urllib3/connectionpool.py:444\u001b[0m, in \u001b[0;36mHTTPConnectionPool._make_request\u001b[0;34m(self, conn, method, url, timeout, chunked, **httplib_request_kw)\u001b[0m\n\u001b[1;32m    441\u001b[0m \u001b[38;5;28;01mexcept\u001b[39;00m \u001b[38;5;167;01mTypeError\u001b[39;00m:\n\u001b[1;32m    442\u001b[0m     \u001b[38;5;66;03m# Python 3\u001b[39;00m\n\u001b[1;32m    443\u001b[0m     \u001b[38;5;28;01mtry\u001b[39;00m:\n\u001b[0;32m--> 444\u001b[0m         httplib_response \u001b[38;5;241m=\u001b[39m \u001b[43mconn\u001b[49m\u001b[38;5;241;43m.\u001b[39;49m\u001b[43mgetresponse\u001b[49m\u001b[43m(\u001b[49m\u001b[43m)\u001b[49m\n\u001b[1;32m    445\u001b[0m     \u001b[38;5;28;01mexcept\u001b[39;00m \u001b[38;5;167;01mBaseException\u001b[39;00m \u001b[38;5;28;01mas\u001b[39;00m e:\n\u001b[1;32m    446\u001b[0m         \u001b[38;5;66;03m# Remove the TypeError from the exception chain in\u001b[39;00m\n\u001b[1;32m    447\u001b[0m         \u001b[38;5;66;03m# Python 3 (including for exceptions like SystemExit).\u001b[39;00m\n\u001b[1;32m    448\u001b[0m         \u001b[38;5;66;03m# Otherwise it looks like a bug in the code.\u001b[39;00m\n\u001b[1;32m    449\u001b[0m         six\u001b[38;5;241m.\u001b[39mraise_from(e, \u001b[38;5;28;01mNone\u001b[39;00m)\n",
      "File \u001b[0;32m/usr/lib/python3.10/http/client.py:1375\u001b[0m, in \u001b[0;36mHTTPConnection.getresponse\u001b[0;34m(self)\u001b[0m\n\u001b[1;32m   1373\u001b[0m \u001b[38;5;28;01mtry\u001b[39;00m:\n\u001b[1;32m   1374\u001b[0m     \u001b[38;5;28;01mtry\u001b[39;00m:\n\u001b[0;32m-> 1375\u001b[0m         \u001b[43mresponse\u001b[49m\u001b[38;5;241;43m.\u001b[39;49m\u001b[43mbegin\u001b[49m\u001b[43m(\u001b[49m\u001b[43m)\u001b[49m\n\u001b[1;32m   1376\u001b[0m     \u001b[38;5;28;01mexcept\u001b[39;00m \u001b[38;5;167;01mConnectionError\u001b[39;00m:\n\u001b[1;32m   1377\u001b[0m         \u001b[38;5;28mself\u001b[39m\u001b[38;5;241m.\u001b[39mclose()\n",
      "File \u001b[0;32m/usr/lib/python3.10/http/client.py:318\u001b[0m, in \u001b[0;36mHTTPResponse.begin\u001b[0;34m(self)\u001b[0m\n\u001b[1;32m    316\u001b[0m \u001b[38;5;66;03m# read until we get a non-100 response\u001b[39;00m\n\u001b[1;32m    317\u001b[0m \u001b[38;5;28;01mwhile\u001b[39;00m \u001b[38;5;28;01mTrue\u001b[39;00m:\n\u001b[0;32m--> 318\u001b[0m     version, status, reason \u001b[38;5;241m=\u001b[39m \u001b[38;5;28;43mself\u001b[39;49m\u001b[38;5;241;43m.\u001b[39;49m\u001b[43m_read_status\u001b[49m\u001b[43m(\u001b[49m\u001b[43m)\u001b[49m\n\u001b[1;32m    319\u001b[0m     \u001b[38;5;28;01mif\u001b[39;00m status \u001b[38;5;241m!=\u001b[39m CONTINUE:\n\u001b[1;32m    320\u001b[0m         \u001b[38;5;28;01mbreak\u001b[39;00m\n",
      "File \u001b[0;32m/usr/lib/python3.10/http/client.py:279\u001b[0m, in \u001b[0;36mHTTPResponse._read_status\u001b[0;34m(self)\u001b[0m\n\u001b[1;32m    278\u001b[0m \u001b[38;5;28;01mdef\u001b[39;00m \u001b[38;5;21m_read_status\u001b[39m(\u001b[38;5;28mself\u001b[39m):\n\u001b[0;32m--> 279\u001b[0m     line \u001b[38;5;241m=\u001b[39m \u001b[38;5;28mstr\u001b[39m(\u001b[38;5;28;43mself\u001b[39;49m\u001b[38;5;241;43m.\u001b[39;49m\u001b[43mfp\u001b[49m\u001b[38;5;241;43m.\u001b[39;49m\u001b[43mreadline\u001b[49m\u001b[43m(\u001b[49m\u001b[43m_MAXLINE\u001b[49m\u001b[43m \u001b[49m\u001b[38;5;241;43m+\u001b[39;49m\u001b[43m \u001b[49m\u001b[38;5;241;43m1\u001b[39;49m\u001b[43m)\u001b[49m, \u001b[38;5;124m\"\u001b[39m\u001b[38;5;124miso-8859-1\u001b[39m\u001b[38;5;124m\"\u001b[39m)\n\u001b[1;32m    280\u001b[0m     \u001b[38;5;28;01mif\u001b[39;00m \u001b[38;5;28mlen\u001b[39m(line) \u001b[38;5;241m>\u001b[39m _MAXLINE:\n\u001b[1;32m    281\u001b[0m         \u001b[38;5;28;01mraise\u001b[39;00m LineTooLong(\u001b[38;5;124m\"\u001b[39m\u001b[38;5;124mstatus line\u001b[39m\u001b[38;5;124m\"\u001b[39m)\n",
      "File \u001b[0;32m/usr/lib/python3.10/socket.py:705\u001b[0m, in \u001b[0;36mSocketIO.readinto\u001b[0;34m(self, b)\u001b[0m\n\u001b[1;32m    703\u001b[0m \u001b[38;5;28;01mwhile\u001b[39;00m \u001b[38;5;28;01mTrue\u001b[39;00m:\n\u001b[1;32m    704\u001b[0m     \u001b[38;5;28;01mtry\u001b[39;00m:\n\u001b[0;32m--> 705\u001b[0m         \u001b[38;5;28;01mreturn\u001b[39;00m \u001b[38;5;28;43mself\u001b[39;49m\u001b[38;5;241;43m.\u001b[39;49m\u001b[43m_sock\u001b[49m\u001b[38;5;241;43m.\u001b[39;49m\u001b[43mrecv_into\u001b[49m\u001b[43m(\u001b[49m\u001b[43mb\u001b[49m\u001b[43m)\u001b[49m\n\u001b[1;32m    706\u001b[0m     \u001b[38;5;28;01mexcept\u001b[39;00m timeout:\n\u001b[1;32m    707\u001b[0m         \u001b[38;5;28mself\u001b[39m\u001b[38;5;241m.\u001b[39m_timeout_occurred \u001b[38;5;241m=\u001b[39m \u001b[38;5;28;01mTrue\u001b[39;00m\n",
      "\u001b[0;31mKeyboardInterrupt\u001b[0m: "
     ]
    }
   ],
   "source": [
    "get_all_news(driver)"
   ]
  },
  {
   "cell_type": "code",
   "execution_count": null,
   "id": "7363d588",
   "metadata": {
    "scrolled": true
   },
   "outputs": [],
   "source": []
  },
  {
   "cell_type": "markdown",
   "id": "0e78fcd4",
   "metadata": {},
   "source": [
    "# Navegar en todos los resultados encontrados y completar informacion."
   ]
  },
  {
   "cell_type": "code",
   "execution_count": 63,
   "id": "9666edd3",
   "metadata": {},
   "outputs": [
    {
     "ename": "KeyboardInterrupt",
     "evalue": "",
     "output_type": "error",
     "traceback": [
      "\u001b[0;31m---------------------------------------------------------------------------\u001b[0m",
      "\u001b[0;31mKeyboardInterrupt\u001b[0m                         Traceback (most recent call last)",
      "Cell \u001b[0;32mIn [63], line 1\u001b[0m\n\u001b[0;32m----> 1\u001b[0m driver \u001b[38;5;241m=\u001b[39m webdriver\u001b[38;5;241m.\u001b[39mFirefox()\n\u001b[1;32m      3\u001b[0m \u001b[38;5;66;03m# Navigate to a website\u001b[39;00m\n\u001b[1;32m      4\u001b[0m driver\u001b[38;5;241m.\u001b[39mget(\u001b[38;5;124m\"\u001b[39m\u001b[38;5;124mhttps://www.flashscore.com/golf/pga-tour/wgc-dell-technologies-match-play/standings/#/GzSXhozK/table\u001b[39m\u001b[38;5;124m\"\u001b[39m)\n",
      "File \u001b[0;32m~/.local/lib/python3.10/site-packages/selenium/webdriver/firefox/webdriver.py:68\u001b[0m, in \u001b[0;36mWebDriver.__init__\u001b[0;34m(self, options, service, keep_alive)\u001b[0m\n\u001b[1;32m     61\u001b[0m \u001b[38;5;28mself\u001b[39m\u001b[38;5;241m.\u001b[39mservice\u001b[38;5;241m.\u001b[39mstart()\n\u001b[1;32m     63\u001b[0m executor \u001b[38;5;241m=\u001b[39m FirefoxRemoteConnection(\n\u001b[1;32m     64\u001b[0m     remote_server_addr\u001b[38;5;241m=\u001b[39m\u001b[38;5;28mself\u001b[39m\u001b[38;5;241m.\u001b[39mservice\u001b[38;5;241m.\u001b[39mservice_url,\n\u001b[1;32m     65\u001b[0m     ignore_proxy\u001b[38;5;241m=\u001b[39m\u001b[38;5;28mself\u001b[39m\u001b[38;5;241m.\u001b[39moptions\u001b[38;5;241m.\u001b[39m_ignore_local_proxy,\n\u001b[1;32m     66\u001b[0m     keep_alive\u001b[38;5;241m=\u001b[39m\u001b[38;5;28mself\u001b[39m\u001b[38;5;241m.\u001b[39mkeep_alive,\n\u001b[1;32m     67\u001b[0m )\n\u001b[0;32m---> 68\u001b[0m \u001b[38;5;28;43msuper\u001b[39;49m\u001b[43m(\u001b[49m\u001b[43m)\u001b[49m\u001b[38;5;241;43m.\u001b[39;49m\u001b[38;5;21;43m__init__\u001b[39;49m\u001b[43m(\u001b[49m\u001b[43mcommand_executor\u001b[49m\u001b[38;5;241;43m=\u001b[39;49m\u001b[43mexecutor\u001b[49m\u001b[43m,\u001b[49m\u001b[43m \u001b[49m\u001b[43moptions\u001b[49m\u001b[38;5;241;43m=\u001b[39;49m\u001b[38;5;28;43mself\u001b[39;49m\u001b[38;5;241;43m.\u001b[39;49m\u001b[43moptions\u001b[49m\u001b[43m)\u001b[49m\n\u001b[1;32m     70\u001b[0m \u001b[38;5;28mself\u001b[39m\u001b[38;5;241m.\u001b[39m_is_remote \u001b[38;5;241m=\u001b[39m \u001b[38;5;28;01mFalse\u001b[39;00m\n",
      "File \u001b[0;32m~/.local/lib/python3.10/site-packages/selenium/webdriver/remote/webdriver.py:206\u001b[0m, in \u001b[0;36mWebDriver.__init__\u001b[0;34m(self, command_executor, keep_alive, file_detector, options)\u001b[0m\n\u001b[1;32m    204\u001b[0m \u001b[38;5;28mself\u001b[39m\u001b[38;5;241m.\u001b[39m_authenticator_id \u001b[38;5;241m=\u001b[39m \u001b[38;5;28;01mNone\u001b[39;00m\n\u001b[1;32m    205\u001b[0m \u001b[38;5;28mself\u001b[39m\u001b[38;5;241m.\u001b[39mstart_client()\n\u001b[0;32m--> 206\u001b[0m \u001b[38;5;28;43mself\u001b[39;49m\u001b[38;5;241;43m.\u001b[39;49m\u001b[43mstart_session\u001b[49m\u001b[43m(\u001b[49m\u001b[43mcapabilities\u001b[49m\u001b[43m)\u001b[49m\n",
      "File \u001b[0;32m~/.local/lib/python3.10/site-packages/selenium/webdriver/remote/webdriver.py:291\u001b[0m, in \u001b[0;36mWebDriver.start_session\u001b[0;34m(self, capabilities)\u001b[0m\n\u001b[1;32m    283\u001b[0m \u001b[38;5;124;03m\"\"\"Creates a new session with the desired capabilities.\u001b[39;00m\n\u001b[1;32m    284\u001b[0m \n\u001b[1;32m    285\u001b[0m \u001b[38;5;124;03m:Args:\u001b[39;00m\n\u001b[1;32m    286\u001b[0m \u001b[38;5;124;03m - capabilities - a capabilities dict to start the session with.\u001b[39;00m\n\u001b[1;32m    287\u001b[0m \u001b[38;5;124;03m - browser_profile - A selenium.webdriver.firefox.firefox_profile.FirefoxProfile object. Only used if Firefox is requested.\u001b[39;00m\n\u001b[1;32m    288\u001b[0m \u001b[38;5;124;03m\"\"\"\u001b[39;00m\n\u001b[1;32m    290\u001b[0m caps \u001b[38;5;241m=\u001b[39m _create_caps(capabilities)\n\u001b[0;32m--> 291\u001b[0m response \u001b[38;5;241m=\u001b[39m \u001b[38;5;28;43mself\u001b[39;49m\u001b[38;5;241;43m.\u001b[39;49m\u001b[43mexecute\u001b[49m\u001b[43m(\u001b[49m\u001b[43mCommand\u001b[49m\u001b[38;5;241;43m.\u001b[39;49m\u001b[43mNEW_SESSION\u001b[49m\u001b[43m,\u001b[49m\u001b[43m \u001b[49m\u001b[43mcaps\u001b[49m\u001b[43m)\u001b[49m[\u001b[38;5;124m\"\u001b[39m\u001b[38;5;124mvalue\u001b[39m\u001b[38;5;124m\"\u001b[39m]\n\u001b[1;32m    292\u001b[0m \u001b[38;5;28mself\u001b[39m\u001b[38;5;241m.\u001b[39msession_id \u001b[38;5;241m=\u001b[39m response\u001b[38;5;241m.\u001b[39mget(\u001b[38;5;124m\"\u001b[39m\u001b[38;5;124msessionId\u001b[39m\u001b[38;5;124m\"\u001b[39m)\n\u001b[1;32m    293\u001b[0m \u001b[38;5;28mself\u001b[39m\u001b[38;5;241m.\u001b[39mcaps \u001b[38;5;241m=\u001b[39m response\u001b[38;5;241m.\u001b[39mget(\u001b[38;5;124m\"\u001b[39m\u001b[38;5;124mcapabilities\u001b[39m\u001b[38;5;124m\"\u001b[39m)\n",
      "File \u001b[0;32m~/.local/lib/python3.10/site-packages/selenium/webdriver/remote/webdriver.py:344\u001b[0m, in \u001b[0;36mWebDriver.execute\u001b[0;34m(self, driver_command, params)\u001b[0m\n\u001b[1;32m    341\u001b[0m     \u001b[38;5;28;01melif\u001b[39;00m \u001b[38;5;124m\"\u001b[39m\u001b[38;5;124msessionId\u001b[39m\u001b[38;5;124m\"\u001b[39m \u001b[38;5;129;01mnot\u001b[39;00m \u001b[38;5;129;01min\u001b[39;00m params:\n\u001b[1;32m    342\u001b[0m         params[\u001b[38;5;124m\"\u001b[39m\u001b[38;5;124msessionId\u001b[39m\u001b[38;5;124m\"\u001b[39m] \u001b[38;5;241m=\u001b[39m \u001b[38;5;28mself\u001b[39m\u001b[38;5;241m.\u001b[39msession_id\n\u001b[0;32m--> 344\u001b[0m response \u001b[38;5;241m=\u001b[39m \u001b[38;5;28;43mself\u001b[39;49m\u001b[38;5;241;43m.\u001b[39;49m\u001b[43mcommand_executor\u001b[49m\u001b[38;5;241;43m.\u001b[39;49m\u001b[43mexecute\u001b[49m\u001b[43m(\u001b[49m\u001b[43mdriver_command\u001b[49m\u001b[43m,\u001b[49m\u001b[43m \u001b[49m\u001b[43mparams\u001b[49m\u001b[43m)\u001b[49m\n\u001b[1;32m    345\u001b[0m \u001b[38;5;28;01mif\u001b[39;00m response:\n\u001b[1;32m    346\u001b[0m     \u001b[38;5;28mself\u001b[39m\u001b[38;5;241m.\u001b[39merror_handler\u001b[38;5;241m.\u001b[39mcheck_response(response)\n",
      "File \u001b[0;32m~/.local/lib/python3.10/site-packages/selenium/webdriver/remote/remote_connection.py:290\u001b[0m, in \u001b[0;36mRemoteConnection.execute\u001b[0;34m(self, command, params)\u001b[0m\n\u001b[1;32m    288\u001b[0m data \u001b[38;5;241m=\u001b[39m utils\u001b[38;5;241m.\u001b[39mdump_json(params)\n\u001b[1;32m    289\u001b[0m url \u001b[38;5;241m=\u001b[39m \u001b[38;5;124mf\u001b[39m\u001b[38;5;124m\"\u001b[39m\u001b[38;5;132;01m{\u001b[39;00m\u001b[38;5;28mself\u001b[39m\u001b[38;5;241m.\u001b[39m_url\u001b[38;5;132;01m}\u001b[39;00m\u001b[38;5;132;01m{\u001b[39;00mpath\u001b[38;5;132;01m}\u001b[39;00m\u001b[38;5;124m\"\u001b[39m\n\u001b[0;32m--> 290\u001b[0m \u001b[38;5;28;01mreturn\u001b[39;00m \u001b[38;5;28;43mself\u001b[39;49m\u001b[38;5;241;43m.\u001b[39;49m\u001b[43m_request\u001b[49m\u001b[43m(\u001b[49m\u001b[43mcommand_info\u001b[49m\u001b[43m[\u001b[49m\u001b[38;5;241;43m0\u001b[39;49m\u001b[43m]\u001b[49m\u001b[43m,\u001b[49m\u001b[43m \u001b[49m\u001b[43murl\u001b[49m\u001b[43m,\u001b[49m\u001b[43m \u001b[49m\u001b[43mbody\u001b[49m\u001b[38;5;241;43m=\u001b[39;49m\u001b[43mdata\u001b[49m\u001b[43m)\u001b[49m\n",
      "File \u001b[0;32m~/.local/lib/python3.10/site-packages/selenium/webdriver/remote/remote_connection.py:311\u001b[0m, in \u001b[0;36mRemoteConnection._request\u001b[0;34m(self, method, url, body)\u001b[0m\n\u001b[1;32m    308\u001b[0m     body \u001b[38;5;241m=\u001b[39m \u001b[38;5;28;01mNone\u001b[39;00m\n\u001b[1;32m    310\u001b[0m \u001b[38;5;28;01mif\u001b[39;00m \u001b[38;5;28mself\u001b[39m\u001b[38;5;241m.\u001b[39mkeep_alive:\n\u001b[0;32m--> 311\u001b[0m     response \u001b[38;5;241m=\u001b[39m \u001b[38;5;28;43mself\u001b[39;49m\u001b[38;5;241;43m.\u001b[39;49m\u001b[43m_conn\u001b[49m\u001b[38;5;241;43m.\u001b[39;49m\u001b[43mrequest\u001b[49m\u001b[43m(\u001b[49m\u001b[43mmethod\u001b[49m\u001b[43m,\u001b[49m\u001b[43m \u001b[49m\u001b[43murl\u001b[49m\u001b[43m,\u001b[49m\u001b[43m \u001b[49m\u001b[43mbody\u001b[49m\u001b[38;5;241;43m=\u001b[39;49m\u001b[43mbody\u001b[49m\u001b[43m,\u001b[49m\u001b[43m \u001b[49m\u001b[43mheaders\u001b[49m\u001b[38;5;241;43m=\u001b[39;49m\u001b[43mheaders\u001b[49m\u001b[43m)\u001b[49m\n\u001b[1;32m    312\u001b[0m     statuscode \u001b[38;5;241m=\u001b[39m response\u001b[38;5;241m.\u001b[39mstatus\n\u001b[1;32m    313\u001b[0m \u001b[38;5;28;01melse\u001b[39;00m:\n",
      "File \u001b[0;32m~/.local/lib/python3.10/site-packages/urllib3/request.py:78\u001b[0m, in \u001b[0;36mRequestMethods.request\u001b[0;34m(self, method, url, fields, headers, **urlopen_kw)\u001b[0m\n\u001b[1;32m     74\u001b[0m     \u001b[38;5;28;01mreturn\u001b[39;00m \u001b[38;5;28mself\u001b[39m\u001b[38;5;241m.\u001b[39mrequest_encode_url(\n\u001b[1;32m     75\u001b[0m         method, url, fields\u001b[38;5;241m=\u001b[39mfields, headers\u001b[38;5;241m=\u001b[39mheaders, \u001b[38;5;241m*\u001b[39m\u001b[38;5;241m*\u001b[39murlopen_kw\n\u001b[1;32m     76\u001b[0m     )\n\u001b[1;32m     77\u001b[0m \u001b[38;5;28;01melse\u001b[39;00m:\n\u001b[0;32m---> 78\u001b[0m     \u001b[38;5;28;01mreturn\u001b[39;00m \u001b[38;5;28;43mself\u001b[39;49m\u001b[38;5;241;43m.\u001b[39;49m\u001b[43mrequest_encode_body\u001b[49m\u001b[43m(\u001b[49m\n\u001b[1;32m     79\u001b[0m \u001b[43m        \u001b[49m\u001b[43mmethod\u001b[49m\u001b[43m,\u001b[49m\u001b[43m \u001b[49m\u001b[43murl\u001b[49m\u001b[43m,\u001b[49m\u001b[43m \u001b[49m\u001b[43mfields\u001b[49m\u001b[38;5;241;43m=\u001b[39;49m\u001b[43mfields\u001b[49m\u001b[43m,\u001b[49m\u001b[43m \u001b[49m\u001b[43mheaders\u001b[49m\u001b[38;5;241;43m=\u001b[39;49m\u001b[43mheaders\u001b[49m\u001b[43m,\u001b[49m\u001b[43m \u001b[49m\u001b[38;5;241;43m*\u001b[39;49m\u001b[38;5;241;43m*\u001b[39;49m\u001b[43murlopen_kw\u001b[49m\n\u001b[1;32m     80\u001b[0m \u001b[43m    \u001b[49m\u001b[43m)\u001b[49m\n",
      "File \u001b[0;32m~/.local/lib/python3.10/site-packages/urllib3/request.py:170\u001b[0m, in \u001b[0;36mRequestMethods.request_encode_body\u001b[0;34m(self, method, url, fields, headers, encode_multipart, multipart_boundary, **urlopen_kw)\u001b[0m\n\u001b[1;32m    167\u001b[0m extra_kw[\u001b[38;5;124m\"\u001b[39m\u001b[38;5;124mheaders\u001b[39m\u001b[38;5;124m\"\u001b[39m]\u001b[38;5;241m.\u001b[39mupdate(headers)\n\u001b[1;32m    168\u001b[0m extra_kw\u001b[38;5;241m.\u001b[39mupdate(urlopen_kw)\n\u001b[0;32m--> 170\u001b[0m \u001b[38;5;28;01mreturn\u001b[39;00m \u001b[38;5;28;43mself\u001b[39;49m\u001b[38;5;241;43m.\u001b[39;49m\u001b[43murlopen\u001b[49m\u001b[43m(\u001b[49m\u001b[43mmethod\u001b[49m\u001b[43m,\u001b[49m\u001b[43m \u001b[49m\u001b[43murl\u001b[49m\u001b[43m,\u001b[49m\u001b[43m \u001b[49m\u001b[38;5;241;43m*\u001b[39;49m\u001b[38;5;241;43m*\u001b[39;49m\u001b[43mextra_kw\u001b[49m\u001b[43m)\u001b[49m\n",
      "File \u001b[0;32m~/.local/lib/python3.10/site-packages/urllib3/poolmanager.py:376\u001b[0m, in \u001b[0;36mPoolManager.urlopen\u001b[0;34m(self, method, url, redirect, **kw)\u001b[0m\n\u001b[1;32m    374\u001b[0m     response \u001b[38;5;241m=\u001b[39m conn\u001b[38;5;241m.\u001b[39murlopen(method, url, \u001b[38;5;241m*\u001b[39m\u001b[38;5;241m*\u001b[39mkw)\n\u001b[1;32m    375\u001b[0m \u001b[38;5;28;01melse\u001b[39;00m:\n\u001b[0;32m--> 376\u001b[0m     response \u001b[38;5;241m=\u001b[39m \u001b[43mconn\u001b[49m\u001b[38;5;241;43m.\u001b[39;49m\u001b[43murlopen\u001b[49m\u001b[43m(\u001b[49m\u001b[43mmethod\u001b[49m\u001b[43m,\u001b[49m\u001b[43m \u001b[49m\u001b[43mu\u001b[49m\u001b[38;5;241;43m.\u001b[39;49m\u001b[43mrequest_uri\u001b[49m\u001b[43m,\u001b[49m\u001b[43m \u001b[49m\u001b[38;5;241;43m*\u001b[39;49m\u001b[38;5;241;43m*\u001b[39;49m\u001b[43mkw\u001b[49m\u001b[43m)\u001b[49m\n\u001b[1;32m    378\u001b[0m redirect_location \u001b[38;5;241m=\u001b[39m redirect \u001b[38;5;129;01mand\u001b[39;00m response\u001b[38;5;241m.\u001b[39mget_redirect_location()\n\u001b[1;32m    379\u001b[0m \u001b[38;5;28;01mif\u001b[39;00m \u001b[38;5;129;01mnot\u001b[39;00m redirect_location:\n",
      "File \u001b[0;32m~/.local/lib/python3.10/site-packages/urllib3/connectionpool.py:703\u001b[0m, in \u001b[0;36mHTTPConnectionPool.urlopen\u001b[0;34m(self, method, url, body, headers, retries, redirect, assert_same_host, timeout, pool_timeout, release_conn, chunked, body_pos, **response_kw)\u001b[0m\n\u001b[1;32m    700\u001b[0m     \u001b[38;5;28mself\u001b[39m\u001b[38;5;241m.\u001b[39m_prepare_proxy(conn)\n\u001b[1;32m    702\u001b[0m \u001b[38;5;66;03m# Make the request on the httplib connection object.\u001b[39;00m\n\u001b[0;32m--> 703\u001b[0m httplib_response \u001b[38;5;241m=\u001b[39m \u001b[38;5;28;43mself\u001b[39;49m\u001b[38;5;241;43m.\u001b[39;49m\u001b[43m_make_request\u001b[49m\u001b[43m(\u001b[49m\n\u001b[1;32m    704\u001b[0m \u001b[43m    \u001b[49m\u001b[43mconn\u001b[49m\u001b[43m,\u001b[49m\n\u001b[1;32m    705\u001b[0m \u001b[43m    \u001b[49m\u001b[43mmethod\u001b[49m\u001b[43m,\u001b[49m\n\u001b[1;32m    706\u001b[0m \u001b[43m    \u001b[49m\u001b[43murl\u001b[49m\u001b[43m,\u001b[49m\n\u001b[1;32m    707\u001b[0m \u001b[43m    \u001b[49m\u001b[43mtimeout\u001b[49m\u001b[38;5;241;43m=\u001b[39;49m\u001b[43mtimeout_obj\u001b[49m\u001b[43m,\u001b[49m\n\u001b[1;32m    708\u001b[0m \u001b[43m    \u001b[49m\u001b[43mbody\u001b[49m\u001b[38;5;241;43m=\u001b[39;49m\u001b[43mbody\u001b[49m\u001b[43m,\u001b[49m\n\u001b[1;32m    709\u001b[0m \u001b[43m    \u001b[49m\u001b[43mheaders\u001b[49m\u001b[38;5;241;43m=\u001b[39;49m\u001b[43mheaders\u001b[49m\u001b[43m,\u001b[49m\n\u001b[1;32m    710\u001b[0m \u001b[43m    \u001b[49m\u001b[43mchunked\u001b[49m\u001b[38;5;241;43m=\u001b[39;49m\u001b[43mchunked\u001b[49m\u001b[43m,\u001b[49m\n\u001b[1;32m    711\u001b[0m \u001b[43m\u001b[49m\u001b[43m)\u001b[49m\n\u001b[1;32m    713\u001b[0m \u001b[38;5;66;03m# If we're going to release the connection in ``finally:``, then\u001b[39;00m\n\u001b[1;32m    714\u001b[0m \u001b[38;5;66;03m# the response doesn't need to know about the connection. Otherwise\u001b[39;00m\n\u001b[1;32m    715\u001b[0m \u001b[38;5;66;03m# it will also try to release it and we'll have a double-release\u001b[39;00m\n\u001b[1;32m    716\u001b[0m \u001b[38;5;66;03m# mess.\u001b[39;00m\n\u001b[1;32m    717\u001b[0m response_conn \u001b[38;5;241m=\u001b[39m conn \u001b[38;5;28;01mif\u001b[39;00m \u001b[38;5;129;01mnot\u001b[39;00m release_conn \u001b[38;5;28;01melse\u001b[39;00m \u001b[38;5;28;01mNone\u001b[39;00m\n",
      "File \u001b[0;32m~/.local/lib/python3.10/site-packages/urllib3/connectionpool.py:449\u001b[0m, in \u001b[0;36mHTTPConnectionPool._make_request\u001b[0;34m(self, conn, method, url, timeout, chunked, **httplib_request_kw)\u001b[0m\n\u001b[1;32m    444\u001b[0m             httplib_response \u001b[38;5;241m=\u001b[39m conn\u001b[38;5;241m.\u001b[39mgetresponse()\n\u001b[1;32m    445\u001b[0m         \u001b[38;5;28;01mexcept\u001b[39;00m \u001b[38;5;167;01mBaseException\u001b[39;00m \u001b[38;5;28;01mas\u001b[39;00m e:\n\u001b[1;32m    446\u001b[0m             \u001b[38;5;66;03m# Remove the TypeError from the exception chain in\u001b[39;00m\n\u001b[1;32m    447\u001b[0m             \u001b[38;5;66;03m# Python 3 (including for exceptions like SystemExit).\u001b[39;00m\n\u001b[1;32m    448\u001b[0m             \u001b[38;5;66;03m# Otherwise it looks like a bug in the code.\u001b[39;00m\n\u001b[0;32m--> 449\u001b[0m             \u001b[43msix\u001b[49m\u001b[38;5;241;43m.\u001b[39;49m\u001b[43mraise_from\u001b[49m\u001b[43m(\u001b[49m\u001b[43me\u001b[49m\u001b[43m,\u001b[49m\u001b[43m \u001b[49m\u001b[38;5;28;43;01mNone\u001b[39;49;00m\u001b[43m)\u001b[49m\n\u001b[1;32m    450\u001b[0m \u001b[38;5;28;01mexcept\u001b[39;00m (SocketTimeout, BaseSSLError, SocketError) \u001b[38;5;28;01mas\u001b[39;00m e:\n\u001b[1;32m    451\u001b[0m     \u001b[38;5;28mself\u001b[39m\u001b[38;5;241m.\u001b[39m_raise_timeout(err\u001b[38;5;241m=\u001b[39me, url\u001b[38;5;241m=\u001b[39murl, timeout_value\u001b[38;5;241m=\u001b[39mread_timeout)\n",
      "File \u001b[0;32m<string>:3\u001b[0m, in \u001b[0;36mraise_from\u001b[0;34m(value, from_value)\u001b[0m\n",
      "File \u001b[0;32m~/.local/lib/python3.10/site-packages/urllib3/connectionpool.py:444\u001b[0m, in \u001b[0;36mHTTPConnectionPool._make_request\u001b[0;34m(self, conn, method, url, timeout, chunked, **httplib_request_kw)\u001b[0m\n\u001b[1;32m    441\u001b[0m \u001b[38;5;28;01mexcept\u001b[39;00m \u001b[38;5;167;01mTypeError\u001b[39;00m:\n\u001b[1;32m    442\u001b[0m     \u001b[38;5;66;03m# Python 3\u001b[39;00m\n\u001b[1;32m    443\u001b[0m     \u001b[38;5;28;01mtry\u001b[39;00m:\n\u001b[0;32m--> 444\u001b[0m         httplib_response \u001b[38;5;241m=\u001b[39m \u001b[43mconn\u001b[49m\u001b[38;5;241;43m.\u001b[39;49m\u001b[43mgetresponse\u001b[49m\u001b[43m(\u001b[49m\u001b[43m)\u001b[49m\n\u001b[1;32m    445\u001b[0m     \u001b[38;5;28;01mexcept\u001b[39;00m \u001b[38;5;167;01mBaseException\u001b[39;00m \u001b[38;5;28;01mas\u001b[39;00m e:\n\u001b[1;32m    446\u001b[0m         \u001b[38;5;66;03m# Remove the TypeError from the exception chain in\u001b[39;00m\n\u001b[1;32m    447\u001b[0m         \u001b[38;5;66;03m# Python 3 (including for exceptions like SystemExit).\u001b[39;00m\n\u001b[1;32m    448\u001b[0m         \u001b[38;5;66;03m# Otherwise it looks like a bug in the code.\u001b[39;00m\n\u001b[1;32m    449\u001b[0m         six\u001b[38;5;241m.\u001b[39mraise_from(e, \u001b[38;5;28;01mNone\u001b[39;00m)\n",
      "File \u001b[0;32m/usr/lib/python3.10/http/client.py:1375\u001b[0m, in \u001b[0;36mHTTPConnection.getresponse\u001b[0;34m(self)\u001b[0m\n\u001b[1;32m   1373\u001b[0m \u001b[38;5;28;01mtry\u001b[39;00m:\n\u001b[1;32m   1374\u001b[0m     \u001b[38;5;28;01mtry\u001b[39;00m:\n\u001b[0;32m-> 1375\u001b[0m         \u001b[43mresponse\u001b[49m\u001b[38;5;241;43m.\u001b[39;49m\u001b[43mbegin\u001b[49m\u001b[43m(\u001b[49m\u001b[43m)\u001b[49m\n\u001b[1;32m   1376\u001b[0m     \u001b[38;5;28;01mexcept\u001b[39;00m \u001b[38;5;167;01mConnectionError\u001b[39;00m:\n\u001b[1;32m   1377\u001b[0m         \u001b[38;5;28mself\u001b[39m\u001b[38;5;241m.\u001b[39mclose()\n",
      "File \u001b[0;32m/usr/lib/python3.10/http/client.py:318\u001b[0m, in \u001b[0;36mHTTPResponse.begin\u001b[0;34m(self)\u001b[0m\n\u001b[1;32m    316\u001b[0m \u001b[38;5;66;03m# read until we get a non-100 response\u001b[39;00m\n\u001b[1;32m    317\u001b[0m \u001b[38;5;28;01mwhile\u001b[39;00m \u001b[38;5;28;01mTrue\u001b[39;00m:\n\u001b[0;32m--> 318\u001b[0m     version, status, reason \u001b[38;5;241m=\u001b[39m \u001b[38;5;28;43mself\u001b[39;49m\u001b[38;5;241;43m.\u001b[39;49m\u001b[43m_read_status\u001b[49m\u001b[43m(\u001b[49m\u001b[43m)\u001b[49m\n\u001b[1;32m    319\u001b[0m     \u001b[38;5;28;01mif\u001b[39;00m status \u001b[38;5;241m!=\u001b[39m CONTINUE:\n\u001b[1;32m    320\u001b[0m         \u001b[38;5;28;01mbreak\u001b[39;00m\n",
      "File \u001b[0;32m/usr/lib/python3.10/http/client.py:279\u001b[0m, in \u001b[0;36mHTTPResponse._read_status\u001b[0;34m(self)\u001b[0m\n\u001b[1;32m    278\u001b[0m \u001b[38;5;28;01mdef\u001b[39;00m \u001b[38;5;21m_read_status\u001b[39m(\u001b[38;5;28mself\u001b[39m):\n\u001b[0;32m--> 279\u001b[0m     line \u001b[38;5;241m=\u001b[39m \u001b[38;5;28mstr\u001b[39m(\u001b[38;5;28;43mself\u001b[39;49m\u001b[38;5;241;43m.\u001b[39;49m\u001b[43mfp\u001b[49m\u001b[38;5;241;43m.\u001b[39;49m\u001b[43mreadline\u001b[49m\u001b[43m(\u001b[49m\u001b[43m_MAXLINE\u001b[49m\u001b[43m \u001b[49m\u001b[38;5;241;43m+\u001b[39;49m\u001b[43m \u001b[49m\u001b[38;5;241;43m1\u001b[39;49m\u001b[43m)\u001b[49m, \u001b[38;5;124m\"\u001b[39m\u001b[38;5;124miso-8859-1\u001b[39m\u001b[38;5;124m\"\u001b[39m)\n\u001b[1;32m    280\u001b[0m     \u001b[38;5;28;01mif\u001b[39;00m \u001b[38;5;28mlen\u001b[39m(line) \u001b[38;5;241m>\u001b[39m _MAXLINE:\n\u001b[1;32m    281\u001b[0m         \u001b[38;5;28;01mraise\u001b[39;00m LineTooLong(\u001b[38;5;124m\"\u001b[39m\u001b[38;5;124mstatus line\u001b[39m\u001b[38;5;124m\"\u001b[39m)\n",
      "File \u001b[0;32m/usr/lib/python3.10/socket.py:705\u001b[0m, in \u001b[0;36mSocketIO.readinto\u001b[0;34m(self, b)\u001b[0m\n\u001b[1;32m    703\u001b[0m \u001b[38;5;28;01mwhile\u001b[39;00m \u001b[38;5;28;01mTrue\u001b[39;00m:\n\u001b[1;32m    704\u001b[0m     \u001b[38;5;28;01mtry\u001b[39;00m:\n\u001b[0;32m--> 705\u001b[0m         \u001b[38;5;28;01mreturn\u001b[39;00m \u001b[38;5;28;43mself\u001b[39;49m\u001b[38;5;241;43m.\u001b[39;49m\u001b[43m_sock\u001b[49m\u001b[38;5;241;43m.\u001b[39;49m\u001b[43mrecv_into\u001b[49m\u001b[43m(\u001b[49m\u001b[43mb\u001b[49m\u001b[43m)\u001b[49m\n\u001b[1;32m    706\u001b[0m     \u001b[38;5;28;01mexcept\u001b[39;00m timeout:\n\u001b[1;32m    707\u001b[0m         \u001b[38;5;28mself\u001b[39m\u001b[38;5;241m.\u001b[39m_timeout_occurred \u001b[38;5;241m=\u001b[39m \u001b[38;5;28;01mTrue\u001b[39;00m\n",
      "\u001b[0;31mKeyboardInterrupt\u001b[0m: "
     ]
    }
   ],
   "source": [
    "driver = webdriver.Firefox()\n",
    "\n",
    "# Navigate to a website\n",
    "driver.get(\"https://www.flashscore.com/golf/pga-tour/wgc-dell-technologies-match-play/standings/#/GzSXhozK/table\")\n"
   ]
  },
  {
   "cell_type": "code",
   "execution_count": null,
   "id": "e5649962",
   "metadata": {},
   "outputs": [],
   "source": [
    "# wait until element staleness\n",
    "wait.until(EC.staleness_of(initial_element))\n",
    "\n",
    "\n",
    "# ZOOM ADJUSTMENTS\n",
    "driver.execute_script(\"document.body.style.zoom='50%'\")\n",
    "\n",
    "# find option and get not empty option\n",
    "options = driver.find_elements(By.XPATH, '//li[label[text()=\"LIS : LIS PENDENS\"] ]')\n",
    "# filter options\n",
    "option = [option for option in options if option.text.strip() != ''][0] \n",
    "# send escape key\n",
    "webdriver.ActionChains(driver).send_keys(Keys.ESCAPE).perform()\n",
    "\n",
    "\n",
    "################################################ WAIT DRIVER COMMAND #####################################################\n",
    "wait = WebDriverWait(driver, 10)\n",
    "row = wait.until(EC.presence_of_all_elements_located((By.XPATH, xpath_expression)))\n",
    "\n",
    "# way to find a form with specid div text, only get one element.\n",
    "form = driver.find_elements(By.XPATH, '//form[.//div/div[text()=\"Document Type\"]]')\n",
    "\n",
    "##################### wait until block ####################################\n",
    "###################### diferencia usando contains ##########################################\n",
    "xpath_expression = '//button[@id=\"acceptDataDisclaimer\" and text()=\"Agree\"]' # \n",
    "xpath_expression = '//button[contains(@id,\"acceptDataDisclaimer\") and contains(text(),\"Agree\")]' # \n",
    "############################################################################################\n",
    "# block with combinations of conditions\n",
    "xpath_expression = \"//table[contains(., 'Owner(s)')]\"\n",
    "xpath_expression = '//fieldset[legend[contains(text(), \"Return Address\")]]'  # expression with condition about inside tag\n",
    "xpath_expression = f\"//*[contains(@class, 'input-group') and .//*[@id='OwnerName']]\"\n",
    "search_block = driver.find_element(By.XPATH, xpath_expression)\n",
    "\n",
    "CLASS_SEARCH =  \"//input[contains(@class, 'ui-autocomplete-input') and contains(., '{}')]\".format(option)\n",
    "wait = WebDriverWait(driver, 10)\n",
    "element = wait.until(EC.element_to_be_clickable((By.XPATH, CLASS_SEARCH)))\n",
    "element = wait.until(EC.visibility_of_element_located((By.CLASS_NAME, \"my-element\")))\n",
    "options = wait.until(EC.presence_of_all_elements_located((By.XPATH, xpath_expression)))\n",
    "wait.until(EC.title_contains(\"New Page Title\"))\n",
    "wait.until(EC.alert_is_present())\n",
    "element = wait.until(EC.text_to_be_present_in_element((By.ID, \"myElement\"), \"Expected Text\"))\n",
    "\n",
    "# Send key delete \n",
    "box_text.send_keys(Keys.BACKSPACE*len(box_text.text))\n",
    "# command line to send ESCAPE KEY\n",
    "webdriver.ActionChains(driver).send_keys(Keys.ESCAPE).perform()\n",
    "\n",
    "# Page down pag up\n",
    "webdriver.ActionChains(driver).send_keys(Keys.PAGE_DOWN).perform()\n",
    "webdriver.ActionChains(driver).send_keys(Keys.PAGE_UP).perform()\n",
    "\n",
    "# not working\n",
    "webdriver.ActionChains(driver).send_keys(Keys.CONTROL + Keys.SUBTRACT).perform()\n",
    "\n"
   ]
  },
  {
   "cell_type": "code",
   "execution_count": null,
   "id": "88d98387",
   "metadata": {},
   "outputs": [],
   "source": [
    "\n",
    "\t{\"EXTRAC_NEWS\": \"weekly|dia_semana|15:30:00\",\n",
    "\t    \"CREATE_LEAGUES\": \"daily|10:30:30\",\n",
    "\t    \"CREATE_TEAMS\": \"monthly|dia_del_mes_1-31|09:00:15\",\n",
    "\t    \"GET_RESULTS\": \"time|3, o fraccion\", \"# correr cada 3 minutos\",\n",
    "\t    \"GET_FIXTURES\": \"time|3, o fraccion\", \"# correr cada 3 minutos\",\n",
    "\t    \"GET_RESULTS\": \"time|3, o fraccion\", \"# correr cada 3 minutos\"\n",
    "\t    // \"section5\": \"seconds|15|09:00:15\"}"
   ]
  }
 ],
 "metadata": {
  "kernelspec": {
   "display_name": "whatsappbot",
   "language": "python",
   "name": "whatsappbot"
  },
  "language_info": {
   "codemirror_mode": {
    "name": "ipython",
    "version": 3
   },
   "file_extension": ".py",
   "mimetype": "text/x-python",
   "name": "python",
   "nbconvert_exporter": "python",
   "pygments_lexer": "ipython3",
   "version": "3.10.12"
  }
 },
 "nbformat": 4,
 "nbformat_minor": 5
}
