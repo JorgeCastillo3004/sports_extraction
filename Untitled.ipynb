{
 "cells": [
  {
   "cell_type": "code",
   "execution_count": 20,
   "id": "cced860a",
   "metadata": {},
   "outputs": [],
   "source": [
    "list_results = [('TENNIS', 'ATP - SINGLES', 'AUSTRALIA', 'Alex De Minaur', 'pcceetgkzrmuniqv99830'), ('TENNIS', 'ATP - SINGLES', 'SERBIA', 'Novak Djokovic', 'pjzcywvbjzvddqct02904'), ('TENNIS', 'ATP - SINGLES', 'SPAIN', 'Roberto Bautista-Agut', 'eququwbiqygymwva90826'), ('TENNIS', 'ATP - SINGLES', 'USA', 'Tommy Paul', 'eqrmkapqcxihibfb01882'), ('TENNIS', 'ATP - SINGLES', 'WORLD', 'Andrey Rublev', 'upynwyzzuufujvbo91144'), ('TENNIS', 'ATP - SINGLES', 'DENMARK', 'Holger Rune', 'mcdminhmnvtaefiy99954'), ('TENNIS', 'ATP - SINGLES', 'USA', 'Ben Shelton', 'haojfkmurlkmbrtp02761'), ('TENNIS', 'ATP - SINGLES', 'USA', 'Jeffrey John Wolf', 'sfzihryrqesiryhq97853'), ('TENNIS', 'ATP - SINGLES', 'GREECE', 'Stefanos Tsitsipas', 'ayixphpqgvuyldpf99873'), ('TENNIS', 'ATP - SINGLES', 'ITALY', 'Jannik Sinner', 'unizeexpdmoxeeff95595'), ('TENNIS', 'ATP - SINGLES', 'CZECH REPUBLIC', 'Jiri Lehecka', 'gmhwqgqvfgpzkolv92173'), ('TENNIS', 'ATP - SINGLES', 'CANADA', 'Felix Auger-Aliassime', 'xtmndlxocqtvwocl00588'), ('TENNIS', 'ATP - SINGLES', 'JAPAN', 'Yoshihito Nishioka', 'dihfdrtszpdomqcf01841'), ('TENNIS', 'ATP - SINGLES', 'WORLD', 'Karen Khachanov', 'omkpccffqolxekhz98135'), ('TENNIS', 'ATP - SINGLES', 'POLAND', 'Hubert Hurkacz', 'gsuanguyjvtcbiau94849'), ('TENNIS', 'ATP - SINGLES', 'USA', 'Sebastian Korda', 'lpesbxhcwnuotzsi03158'), ('TENNIS', 'ATP - SINGLES', 'BULGARIA', 'Grigor Dimitrov', 'luqwyyrzjypmzvhh05942'), ('TENNIS', 'ATP - SINGLES', 'UNITED KINGDOM', 'Andy Murray', 'kiwzzhajyaoebpif90243'), ('TENNIS', 'ATP - SINGLES', 'AUSTRALIA', 'Alexei Popyrin', 'lukwzohjgalxbcgz94684'), ('TENNIS', 'ATP - SINGLES', 'USA', 'Michael Mmoh', 'gxvoezuqtfhcneuf00012'), ('TENNIS', 'ATP - SINGLES', 'USA', 'Jenson Brooksby', 'lrtcjmmpxkztowsn96814'), ('TENNIS', 'ATP - SINGLES', 'FRANCE', 'Benjamin Bonzi', 'cmzcuwukkftcxwnt93218'), ('TENNIS', 'ATP - SINGLES', 'FRANCE', 'Ugo Humbert', 'flkxnupjlwwnqmsz02889'), ('TENNIS', 'ATP - SINGLES', 'UNITED KINGDOM', 'Daniel Evans', 'hvuvsnepyjbmiffx94772'), ('TENNIS', 'ATP - SINGLES', 'WORLD', 'Daniil Medvedev', 'pvqgbzprhutitcbo97999'), ('TENNIS', 'ATP - SINGLES', 'USA', 'Frances Tiafoe', 'fssgdqdrrayfiker05290'), ('TENNIS', 'ATP - SINGLES', 'CANADA', 'Denis Shapovalov', 'rvyvouealllisdbb99804'), ('TENNIS', 'ATP - SINGLES', 'UNITED KINGDOM', 'Cameron Norrie', 'zdglkcizeswmvphl91392'), ('TENNIS', 'ATP - SINGLES', 'ARGENTINA', 'Francisco Cerundolo', 'rebkwdvvdzinnjsn97614'), ('TENNIS', 'ATP - SINGLES', 'USA', 'Mackenzie McDonald', 'yzyetvdjxeeeuxhv90979'), ('TENNIS', 'ATP - SINGLES', 'NETHERLANDS', 'Tallon Griekspoor', 'qbzymetyhuwvuipt95434'), ('TENNIS', 'ATP - SINGLES', 'HUNGARY', 'Marton Fucsovics', 'jgkogouvugsbddfu96526'), ('TENNIS', 'ATP - SINGLES', 'SOUTH AFRICA', 'Lloyd Harris', 'hztqnmynswexzjyn05571'), ('TENNIS', 'ATP - SINGLES', 'AUSTRALIA', 'Jason Kubler', 'ppojukrcqkzsivhv00545'), ('TENNIS', 'ATP - SINGLES', 'CHINA', 'Juncheng Shang', 'fwvznbobfmsseirg05242'), ('TENNIS', 'ATP - SINGLES', 'SPAIN', 'Rafael Nadal', 'bgghxknowwyjddsy99376'), ('TENNIS', 'ATP - SINGLES', 'SLOVAKIA', 'Alex Molcan', 'xaxrtcrtnqwbojox07829'), ('TENNIS', 'ATP - SINGLES', 'FRANCE', 'Laurent Lokoli', 'gbyzudalaikhpiat91849'), ('TENNIS', 'ATP - SINGLES', 'FRANCE', 'Richard Gasquet', 'wpzmrktjuignkulg96924'), ('TENNIS', 'ATP - SINGLES', 'USA', 'Denis Kudla', 'rozwxfrysrhpzfhk98598'), ('TENNIS', 'ATP - SINGLES', 'WORLD', 'Roman Safiullin', 'elqeybgwwkxsmxte99674'), ('TENNIS', 'ATP - SINGLES', 'AUSTRALIA', 'Max Purcell', 'cnildcbgrvvuvqxd05322'), ('TENNIS', 'ATP - SINGLES', 'FINLAND', 'Emil Ruusuvuori', 'ufczkmqchbjnedow08236'), ('TENNIS', 'ATP - SINGLES', 'CZECH REPUBLIC', 'Dalibor Svrcina', 'oernypnrywlmogje98426'), ('TENNIS', 'ATP - SINGLES', 'AUSTRALIA', 'John Millman', 'toyxylluygtxkjfb04850'), ('TENNIS', 'ATP - SINGLES', 'SPAIN', 'Roberto Carballes Baena', 'gjdzamybevdjsreh94887'), ('TENNIS', 'ATP - SINGLES', 'CZECH REPUBLIC', 'Tomas Machac', 'zymnxcmaxaoflzji91857'), ('TENNIS', 'ATP - SINGLES', 'NORWAY', 'Casper Ruud', 'vjiiqpucckssaafb01780'), ('TENNIS', 'ATP - SINGLES', 'TAIWAN', 'Chun Hsin Tseng', 'prmtwyugxksqqnei07068'), ('TENNIS', 'ATP - SINGLES', 'TAIWAN', 'Yu Hsiou Hsu', 'druzbxrxvectqzzz07272'), ('TENNIS', 'ATP - SINGLES', 'AUSTRALIA', \"Christopher O'Connell\", 'kvbctsonlzzzgcgw06493'), ('TENNIS', 'ATP - SINGLES', 'GERMANY', 'Jan-Lennard Struff', 'jzchsgmdxqcwsqcg01907'), ('TENNIS', 'ATP - SINGLES', 'PERU', 'Juan Pablo Varillas', 'vcmxliytghffuzqm90242'), ('TENNIS', 'ATP - SINGLES', 'GERMANY', 'Alexander Zverev', 'nyakfdkznzkxmasq00652'), ('TENNIS', 'ATP - SINGLES', 'ITALY', 'Matteo Berrettini', 'nirplududhgppnoh97406'), ('TENNIS', 'ATP - SINGLES', 'CHINA', 'Zhizhen Zhang', 'pbbsnrxrefybyqel96847'), ('TENNIS', 'ATP - SINGLES', 'SERBIA', 'Filip Krajinovic', 'kngcbyeqjewgxfzf97367'), ('TENNIS', 'ATP - SINGLES', 'USA', 'Taylor Fritz', 'mxaebrufgayjgeee03492'), ('TENNIS', 'ATP - SINGLES', 'GEORGIA', 'Nikoloz Basilashvili', 'dcatvofdpwethffh90072'), ('TENNIS', 'ATP - SINGLES', 'AUSTRALIA', 'Jordan Thompson', 'dmbqcycuqmhztrad94506'), ('TENNIS', 'ATP - SINGLES', 'SPAIN', 'Pablo Carreno-Busta', 'qbafbyhhepnrqolz90395'), ('TENNIS', 'ATP - SINGLES', 'ARGENTINA', 'Pedro Cachin', 'aqdahxfnxijptxkm92299'), ('TENNIS', 'ATP - SINGLES', 'SPAIN', 'Alejandro Davidovich Fokina', 'lhhmhitqbojectca97701'), ('TENNIS', 'ATP - SINGLES', 'KAZAKHSTAN', 'Alexander Bublik', 'rmbpvglovgrrqifo07081'), ('TENNIS', 'ATP - SINGLES', 'CHILE', 'Nicolas Jarry', 'vjutuffvwdqulhyl09215'), ('TENNIS', 'ATP - SINGLES', 'SERBIA', 'Miomir Kecmanovic', 'sububmvapontjruj96598'), ('TENNIS', 'ATP - SINGLES', 'ITALY', 'Mattia Bellucci', 'kprqibzirpcjfsiz07081'), ('TENNIS', 'ATP - SINGLES', 'BELGIUM', 'Zizou Bergs', 'fumaopmxfxneljyw91634'), ('TENNIS', 'ATP - SINGLES', 'SERBIA', 'Laslo Djere', 'nmmjdvkorsibxblx93360'), ('TENNIS', 'ATP - SINGLES', 'WORLD', 'Aslan Karatsev', 'oliqmshvkhrwtwgw06930'), ('TENNIS', 'ATP - SINGLES', 'ARGENTINA', 'Diego Schwartzman', 'tchmipdtiyjekskn97146'), ('TENNIS', 'ATP - SINGLES', 'UKRAINE', 'Oleksii Krutykh', 'quurxjbvcqvqlxdg02513'), ('TENNIS', 'ATP - SINGLES', 'ARGENTINA', 'Facundo Bagnis', 'lbptprbwhavxygty05645'), ('TENNIS', 'ATP - SINGLES', 'COLOMBIA', 'Daniel Elahi Galan', 'qbvnklihdzyzdojm06514'), ('TENNIS', 'ATP - SINGLES', 'COLOMBIA', 'Daniel Elahi Galan', 'uiqbfmrrcrqoipnv07549'), ('TENNIS', 'ATP - SINGLES', 'COLOMBIA', 'Daniel Elahi Galan', 'slnzauwzpsmecqvy99524'), ('TENNIS', 'ATP - SINGLES', 'FRANCE', 'Jeremy Chardy', 'xztgilijwhwvqpgd01322'), ('TENNIS', 'ATP - SINGLES', 'AUSTRIA', 'Dominic Thiem', 'ojwogeydzmyyesti06200'), ('TENNIS', 'ATP - SINGLES', 'USA', 'Marcos Giron', 'ruxjiiquwjcyjhxh04747'), ('TENNIS', 'ATP - SINGLES', 'ITALY', 'Lorenzo Musetti', 'gawcfgxwxjrzvtsk09549'), ('TENNIS', 'ATP - SINGLES', 'BRAZIL', 'Thiago Monteiro', 'gcihpmwylomcvyas05621'), ('TENNIS', 'ATP - SINGLES', 'FRANCE', 'Constant Lestienne', 'xlejaduliwcsrhpq04179'), ('TENNIS', 'ATP - SINGLES', 'FRANCE', 'Quentin Halys', 'aytucrlcykvlaced01813'), ('TENNIS', 'ATP - SINGLES', 'CANADA', 'Vasek Pospisil', 'muagmouzoxreuphm05576'), ('TENNIS', 'ATP - SINGLES', 'FRANCE', 'Luca van Assche', 'jjdtrdpgufahyfvm07741'), ('TENNIS', 'ATP - SINGLES', 'GERMANY', 'Yannick Hanfmann', 'xjvbqlvdfxyshajl01497'), ('TENNIS', 'ATP - SINGLES', 'AUSTRALIA', 'Rinky Hijikata', 'jgpbxxzbrbarbdyr98388'), ('TENNIS', 'ATP - SINGLES', 'SWITZERLAND', 'Stan Wawrinka', 'avngqwlfkxqhbcoj90402'), ('TENNIS', 'ATP - SINGLES', 'ARGENTINA', 'Federico Coria', 'lrgdgphrlrpawyxf97715'), ('TENNIS', 'ATP - SINGLES', 'USA', 'Christopher Eubanks', 'nntycuqwffdpxzwv91705'), ('TENNIS', 'ATP - SINGLES', 'SOUTH KOREA', 'Soonwoo Kwon', 'ehjzwaixmqlavkdo90536'), ('TENNIS', 'ATP - SINGLES', 'SWITZERLAND', 'Marc-Andrea Huesler', 'tdfqkuhsemmiyieo05252'), ('TENNIS', 'ATP - SINGLES', 'SPAIN', 'Jaume Munar', 'rfvldvvfrligwsdw92250'), ('TENNIS', 'ATP - SINGLES', 'ARGENTINA', 'Sebastian Baez', 'krrkwnrekkbxwzpf95482'), ('TENNIS', 'ATP - SINGLES', 'CROATIA', 'Borna Coric', 'hptvdaamporrjriv01897'), ('TENNIS', 'ATP - SINGLES', 'ITALY', 'Lorenzo Sonego', 'pyhlsuqcgnzstjkf02590'), ('TENNIS', 'ATP - SINGLES', 'PORTUGAL', 'Nuno Borges', 'ouonnxdcouvxqpnu00757'), ('TENNIS', 'ATP - SINGLES', 'MEXICO', 'Ernesto Escobedo', 'ifxyepcgcoukwrzk97603'), ('TENNIS', 'ATP - SINGLES', 'JAPAN', 'Taro Daniel', 'nvowbkkwrzhnvosu03588'), ('TENNIS', 'ATP - SINGLES', 'UNITED KINGDOM', 'Jack Draper', 'zcbvavobgeqvpmgz98648'), ('TENNIS', 'ATP - SINGLES', 'GERMANY', 'Daniel Altmaier', 'frmynflxvbndever91997'), ('TENNIS', 'ATP - SINGLES', 'SPAIN', 'Bernabe Zapata Miralles', 'adsokpisbglaeftt03539'), ('TENNIS', 'ATP - SINGLES', 'USA', 'Brandon Nakashima', 'genisfozyhlmenki07840'), ('TENNIS', 'ATP - SINGLES', 'WORLD', 'Pavel Kotov', 'sikmrzdwsodusaxb09728'), ('TENNIS', 'ATP - SINGLES', 'SERBIA', 'Dusan Lajovic', 'jsiprzctdgdpcleg94702'), ('TENNIS', 'ATP - SINGLES', 'SWEDEN', 'Mikael Ymer', 'cmulikriadmvrvcy96123'), ('TENNIS', 'ATP - SINGLES', 'CHILE', 'Cristian Garin', 'chgkhqflrrutwmxy94231'), ('TENNIS', 'ATP - SINGLES', 'SPAIN', 'Pedro Martinez', 'vscnjyrfrufmmcci96785'), ('TENNIS', 'ATP - SINGLES', 'ARGENTINA', 'Guido Pella', 'awiiersawkeixvqu97035'), ('TENNIS', 'ATP - SINGLES', 'UNITED KINGDOM', 'Kyle Edmund', 'kppbsoexwvuankiy97707'), ('TENNIS', 'ATP - SINGLES', 'ARGENTINA', 'Tomas Martin Etcheverry', 'dsilqejarkshqtmo00677'), ('TENNIS', 'ATP - SINGLES', 'FRANCE', 'Gregoire Barrere', 'xwvjxzcxcvkslumt08743'), ('TENNIS', 'ATP - SINGLES', 'WORLD', 'Ilya Ivashka', 'ponmynslpkwgxzue08679'), ('TENNIS', 'ATP - SINGLES', 'NETHERLANDS', 'Botic Van De Zandschulp', 'niwcbkbnhhhdrweh98749'), ('TENNIS', 'ATP - SINGLES', 'FRANCE', 'Corentin Moutet', 'sgziketxtwsisjvt01751'), ('TENNIS', 'ATP - SINGLES', 'CHINA', 'Yibing Wu', 'esuhmzdnkrnbcypg93881'), ('TENNIS', 'ATP - SINGLES', 'GERMANY', 'Oscar Otte', 'qejehvpjbdnknbmw00473'), ('TENNIS', 'ATP - SINGLES', 'JAPAN', 'Yosuke Watanuki', 'kxfdcxdyfhoykykm96478'), ('TENNIS', 'ATP - SINGLES', 'FRANCE', 'Arthur Rinderknech', 'cgziwlipdzhuxozi08787'), ('TENNIS', 'ATP - SINGLES', 'PORTUGAL', 'Joao Sousa', 'bemxnprwxxcssgcd06884'), ('TENNIS', 'ATP - SINGLES', 'AUSTRALIA', 'Aleksandar Vukic', 'qtzjiyuqsaclwmgs94817'), ('TENNIS', 'ATP - SINGLES', 'USA', 'Brandon Holt', 'zctzzkcrtwltobfc94111'), ('TENNIS', 'ATP - SINGLES', 'USA', 'John Isner', 'emvyagomceyhilyd02935'), ('TENNIS', 'ATP - SINGLES', 'FRANCE', 'Adrian Mannarino', 'pdxohdwngysqzsto05456'), ('TENNIS', 'ATP - SINGLES', 'AUSTRALIA', 'Thanasi Kokkinakis', 'rinzksrtmydgqndo96112'), ('TENNIS', 'ATP - SINGLES', 'ITALY', 'Fabio Fognini', 'mftlvmekmjhocicv07026'), ('TENNIS', 'ATP - SINGLES', 'FRANCE', 'Enzo Couacaud', 'fibudcddgsfzzdfw93085'), ('TENNIS', 'ATP - SINGLES', 'USA', 'Maxime Cressy', 'zednauifwavxcgrh90207'), ('TENNIS', 'ATP - SINGLES', 'SPAIN', 'Albert Ramos-Vinolas', 'pnlzuufxkxrvytqa93549'), ('TENNIS', 'ATP - SINGLES', 'BOLIVIA', 'Hugo Dellien', 'owksgnzcdcudpjnk03098'), ('TENNIS', 'ATP - SINGLES', 'NORWAY', 'Casper Ruud', 'uzriqnmufwbqvnki05881'), ('TENNIS', 'ATP - SINGLES', 'ARGENTINA', 'Francisco Cerundolo', 'zginjgrjzceryyar01692'), ('TENNIS', 'ATP - SINGLES', 'UNITED KINGDOM', 'Daniel Evans', 'lojxxrvwfrsgmlpw92447'), ('TENNIS', 'ATP - SINGLES', 'WORLD', 'Karen Khachanov', 'gtcdwygljduijnkv94897'), ('TENNIS', 'ATP - SINGLES', 'SPAIN', 'Carlos Alcaraz', 'stqsovuyorwppbfz00356'), ('TENNIS', 'ATP - SINGLES', 'SPAIN', 'Roberto Bautista-Agut', 'clwrxttlqarofxgu94753'), ('TENNIS', 'ATP - SINGLES', 'UNITED KINGDOM', 'Cameron Norrie', 'faxwkincoiouywxa07790'), ('TENNIS', 'ATP - SINGLES', 'ITALY', 'Lorenzo Musetti', 'muzucmmpuaeqdbwt02067'), ('TENNIS', 'ATP - SINGLES', 'CANADA', 'Denis Shapovalov', 'ybwqzpyddjlgqmjs95082'), ('TENNIS', 'ATP - SINGLES', 'GREECE', 'Stefanos Tsitsipas', 'zbszqqlmcxjiancl92242'), ('TENNIS', 'ATP - SINGLES', 'SPAIN', 'Alejandro Davidovich Fokina', 'gjvrytgrodvepris96697'), ('TENNIS', 'ATP - SINGLES', 'FINLAND', 'Emil Ruusuvuori', 'wofsqidasjwgyvqu06661'), ('TENNIS', 'ATP - SINGLES', 'JAPAN', 'Yoshihito Nishioka', 'qyxvcmcolshfjjkh92985'), ('TENNIS', 'ATP - SINGLES', 'ITALY', 'Jannik Sinner', 'cuquqkcqecjjerbt94787')]"
   ]
  },
  {
   "cell_type": "code",
   "execution_count": 29,
   "id": "5aaa9521",
   "metadata": {},
   "outputs": [
    {
     "name": "stdout",
     "output_type": "stream",
     "text": [
      "['TENNIS']\n",
      "['ATP - SINGLES']\n"
     ]
    }
   ],
   "source": [
    "dict_duplicates = {}\n",
    "for row in list_results:    \n",
    "    if not row[0] in list(dict_duplicates.keys()):\n",
    "        dict_duplicates[row[0]] = {}\n",
    "    \n",
    "    if not row[1] in list(dict_duplicates[row[0]].keys() ):\n",
    "        dict_duplicates[row[0]][row[1]] = {}\n",
    "    \n",
    "    if not row[2] in list(dict_duplicates[row[0]][row[1]].keys() ):\n",
    "        dict_duplicates[row[0]][row[1]][row[2]] = {}\n",
    "    \n",
    "    if not row[3] in list(dict_duplicates[row[0]][row[1]][row[2]].keys() ):\n",
    "        dict_duplicates[row[0]][row[1]][row[2]][row[3]] = {'team_id':row[4]}\n",
    "        \n",
    "print(list(dict_duplicates.keys()))\n",
    "print(list(dict_duplicates['TENNIS']))\n",
    "# print(list(dict_duplicates.keys()))"
   ]
  },
  {
   "cell_type": "code",
   "execution_count": 33,
   "id": "05fda761",
   "metadata": {},
   "outputs": [
    {
     "data": {
      "text/plain": [
       "{'team_id': 'pcceetgkzrmuniqv99830'}"
      ]
     },
     "execution_count": 33,
     "metadata": {},
     "output_type": "execute_result"
    }
   ],
   "source": [
    "dict_duplicates = {}\n",
    "\n",
    "for row in list_results:\n",
    "    dict_duplicates.setdefault(row[0], {}).setdefault(row[1], {}).setdefault(row[2], {})[row[3]] = {'team_id': row[4]}\n",
    "dict_duplicates\n",
    "\n",
    "dict_duplicates['TENNIS']['ATP - SINGLES']['AUSTRALIA']['Alex De Minaur']"
   ]
  },
  {
   "cell_type": "code",
   "execution_count": 18,
   "id": "d4cb02ff",
   "metadata": {},
   "outputs": [
    {
     "name": "stdout",
     "output_type": "stream",
     "text": [
      "['Alex De Minaur', 'Novak Djokovic', 'Roberto Bautista-Agut', 'Tommy Paul', 'Andrey Rublev', 'Holger Rune', 'Ben Shelton', 'Jeffrey John Wolf', 'Stefanos Tsitsipas', 'Jannik Sinner', 'Jiri Lehecka', 'Felix Auger-Aliassime', 'Yoshihito Nishioka', 'Karen Khachanov', 'Hubert Hurkacz', 'Sebastian Korda', 'Grigor Dimitrov', 'Andy Murray', 'Alexei Popyrin', 'Michael Mmoh', 'Jenson Brooksby', 'Benjamin Bonzi', 'Ugo Humbert', 'Daniel Evans', 'Daniil Medvedev', 'Frances Tiafoe', 'Denis Shapovalov', 'Cameron Norrie', 'Francisco Cerundolo', 'Mackenzie McDonald', 'Tallon Griekspoor', 'Marton Fucsovics', 'Lloyd Harris', 'Jason Kubler', 'Juncheng Shang', 'Rafael Nadal', 'Alex Molcan', 'Laurent Lokoli', 'Richard Gasquet', 'Denis Kudla', 'Roman Safiullin', 'Max Purcell', 'Emil Ruusuvuori', 'Dalibor Svrcina', 'John Millman', 'Roberto Carballes Baena', 'Tomas Machac', 'Casper Ruud', 'Chun Hsin Tseng', 'Yu Hsiou Hsu', \"Christopher O'Connell\", 'Jan-Lennard Struff', 'Juan Pablo Varillas', 'Alexander Zverev', 'Matteo Berrettini', 'Zhizhen Zhang', 'Filip Krajinovic', 'Taylor Fritz', 'Nikoloz Basilashvili', 'Jordan Thompson', 'Pablo Carreno-Busta', 'Pedro Cachin', 'Alejandro Davidovich Fokina', 'Alexander Bublik', 'Nicolas Jarry', 'Miomir Kecmanovic', 'Mattia Bellucci', 'Zizou Bergs', 'Laslo Djere', 'Aslan Karatsev', 'Diego Schwartzman', 'Oleksii Krutykh', 'Facundo Bagnis', 'Daniel Elahi Galan', 'Jeremy Chardy', 'Dominic Thiem', 'Marcos Giron', 'Lorenzo Musetti', 'Thiago Monteiro', 'Constant Lestienne', 'Quentin Halys', 'Vasek Pospisil', 'Luca van Assche', 'Yannick Hanfmann', 'Rinky Hijikata', 'Stan Wawrinka', 'Federico Coria', 'Christopher Eubanks', 'Soonwoo Kwon', 'Marc-Andrea Huesler', 'Jaume Munar', 'Sebastian Baez', 'Borna Coric', 'Lorenzo Sonego', 'Nuno Borges', 'Ernesto Escobedo', 'Taro Daniel', 'Jack Draper', 'Daniel Altmaier', 'Bernabe Zapata Miralles', 'Brandon Nakashima', 'Pavel Kotov', 'Dusan Lajovic', 'Mikael Ymer', 'Cristian Garin', 'Pedro Martinez', 'Guido Pella', 'Kyle Edmund', 'Tomas Martin Etcheverry', 'Gregoire Barrere', 'Ilya Ivashka', 'Botic Van De Zandschulp', 'Corentin Moutet', 'Yibing Wu', 'Oscar Otte', 'Yosuke Watanuki', 'Arthur Rinderknech', 'Joao Sousa', 'Aleksandar Vukic', 'Brandon Holt', 'John Isner', 'Adrian Mannarino', 'Thanasi Kokkinakis', 'Fabio Fognini', 'Enzo Couacaud', 'Maxime Cressy', 'Albert Ramos-Vinolas', 'Hugo Dellien', 'Carlos Alcaraz']\n"
     ]
    }
   ],
   "source": [
    "for main_key in list(dict_duplicates.keys()):\n",
    "    player_list = list(dict_duplicates[main_key].keys())\n",
    "    print(player_list)"
   ]
  },
  {
   "cell_type": "code",
   "execution_count": null,
   "id": "d311b209",
   "metadata": {},
   "outputs": [],
   "source": [
    "SELECT *FROM league;\n",
    "\n",
    "SELECT league_country, league_name, COUNT(*) AS count_duplicates\n",
    "FROM league\n",
    "GROUP BY league_country, league_name\n",
    "HAVING COUNT(*) > 1;\n",
    "\n"
   ]
  },
  {
   "cell_type": "code",
   "execution_count": null,
   "id": "af1de01c",
   "metadata": {},
   "outputs": [],
   "source": []
  },
  {
   "cell_type": "code",
   "execution_count": null,
   "id": "162e1190",
   "metadata": {},
   "outputs": [],
   "source": []
  }
 ],
 "metadata": {
  "kernelspec": {
   "display_name": "whatsappbot",
   "language": "python",
   "name": "whatsappbot"
  },
  "language_info": {
   "codemirror_mode": {
    "name": "ipython",
    "version": 3
   },
   "file_extension": ".py",
   "mimetype": "text/x-python",
   "name": "python",
   "nbconvert_exporter": "python",
   "pygments_lexer": "ipython3",
   "version": "3.10.12"
  }
 },
 "nbformat": 4,
 "nbformat_minor": 5
}
