{
 "cells": [
  {
   "cell_type": "code",
   "execution_count": 20,
   "id": "9a491d1e",
   "metadata": {},
   "outputs": [],
   "source": [
    "list_results = [('TENNIS', 'ATP - SINGLES', 'AUSTRALIA', 'Alex De Minaur', 'pcceetgkzrmuniqv99830'), ('TENNIS', 'ATP - SINGLES', 'SERBIA', 'Novak Djokovic', 'pjzcywvbjzvddqct02904'), ('TENNIS', 'ATP - SINGLES', 'SPAIN', 'Roberto Bautista-Agut', 'eququwbiqygymwva90826'), ('TENNIS', 'ATP - SINGLES', 'USA', 'Tommy Paul', 'eqrmkapqcxihibfb01882'), ('TENNIS', 'ATP - SINGLES', 'WORLD', 'Andrey Rublev', 'upynwyzzuufujvbo91144'), ('TENNIS', 'ATP - SINGLES', 'DENMARK', 'Holger Rune', 'mcdminhmnvtaefiy99954'), ('TENNIS', 'ATP - SINGLES', 'USA', 'Ben Shelton', 'haojfkmurlkmbrtp02761'), ('TENNIS', 'ATP - SINGLES', 'USA', 'Jeffrey John Wolf', 'sfzihryrqesiryhq97853'), ('TENNIS', 'ATP - SINGLES', 'GREECE', 'Stefanos Tsitsipas', 'ayixphpqgvuyldpf99873'), ('TENNIS', 'ATP - SINGLES', 'ITALY', 'Jannik Sinner', 'unizeexpdmoxeeff95595'), ('TENNIS', 'ATP - SINGLES', 'CZECH REPUBLIC', 'Jiri Lehecka', 'gmhwqgqvfgpzkolv92173'), ('TENNIS', 'ATP - SINGLES', 'CANADA', 'Felix Auger-Aliassime', 'xtmndlxocqtvwocl00588'), ('TENNIS', 'ATP - SINGLES', 'JAPAN', 'Yoshihito Nishioka', 'dihfdrtszpdomqcf01841'), ('TENNIS', 'ATP - SINGLES', 'WORLD', 'Karen Khachanov', 'omkpccffqolxekhz98135'), ('TENNIS', 'ATP - SINGLES', 'POLAND', 'Hubert Hurkacz', 'gsuanguyjvtcbiau94849'), ('TENNIS', 'ATP - SINGLES', 'USA', 'Sebastian Korda', 'lpesbxhcwnuotzsi03158'), ('TENNIS', 'ATP - SINGLES', 'BULGARIA', 'Grigor Dimitrov', 'luqwyyrzjypmzvhh05942'), ('TENNIS', 'ATP - SINGLES', 'UNITED KINGDOM', 'Andy Murray', 'kiwzzhajyaoebpif90243'), ('TENNIS', 'ATP - SINGLES', 'AUSTRALIA', 'Alexei Popyrin', 'lukwzohjgalxbcgz94684'), ('TENNIS', 'ATP - SINGLES', 'USA', 'Michael Mmoh', 'gxvoezuqtfhcneuf00012'), ('TENNIS', 'ATP - SINGLES', 'USA', 'Jenson Brooksby', 'lrtcjmmpxkztowsn96814'), ('TENNIS', 'ATP - SINGLES', 'FRANCE', 'Benjamin Bonzi', 'cmzcuwukkftcxwnt93218'), ('TENNIS', 'ATP - SINGLES', 'FRANCE', 'Ugo Humbert', 'flkxnupjlwwnqmsz02889'), ('TENNIS', 'ATP - SINGLES', 'UNITED KINGDOM', 'Daniel Evans', 'hvuvsnepyjbmiffx94772'), ('TENNIS', 'ATP - SINGLES', 'WORLD', 'Daniil Medvedev', 'pvqgbzprhutitcbo97999'), ('TENNIS', 'ATP - SINGLES', 'USA', 'Frances Tiafoe', 'fssgdqdrrayfiker05290'), ('TENNIS', 'ATP - SINGLES', 'CANADA', 'Denis Shapovalov', 'rvyvouealllisdbb99804'), ('TENNIS', 'ATP - SINGLES', 'UNITED KINGDOM', 'Cameron Norrie', 'zdglkcizeswmvphl91392'), ('TENNIS', 'ATP - SINGLES', 'ARGENTINA', 'Francisco Cerundolo', 'rebkwdvvdzinnjsn97614'), ('TENNIS', 'ATP - SINGLES', 'USA', 'Mackenzie McDonald', 'yzyetvdjxeeeuxhv90979'), ('TENNIS', 'ATP - SINGLES', 'NETHERLANDS', 'Tallon Griekspoor', 'qbzymetyhuwvuipt95434'), ('TENNIS', 'ATP - SINGLES', 'HUNGARY', 'Marton Fucsovics', 'jgkogouvugsbddfu96526'), ('TENNIS', 'ATP - SINGLES', 'SOUTH AFRICA', 'Lloyd Harris', 'hztqnmynswexzjyn05571'), ('TENNIS', 'ATP - SINGLES', 'AUSTRALIA', 'Jason Kubler', 'ppojukrcqkzsivhv00545'), ('TENNIS', 'ATP - SINGLES', 'CHINA', 'Juncheng Shang', 'fwvznbobfmsseirg05242'), ('TENNIS', 'ATP - SINGLES', 'SPAIN', 'Rafael Nadal', 'bgghxknowwyjddsy99376'), ('TENNIS', 'ATP - SINGLES', 'SLOVAKIA', 'Alex Molcan', 'xaxrtcrtnqwbojox07829'), ('TENNIS', 'ATP - SINGLES', 'FRANCE', 'Laurent Lokoli', 'gbyzudalaikhpiat91849'), ('TENNIS', 'ATP - SINGLES', 'FRANCE', 'Richard Gasquet', 'wpzmrktjuignkulg96924'), ('TENNIS', 'ATP - SINGLES', 'USA', 'Denis Kudla', 'rozwxfrysrhpzfhk98598'), ('TENNIS', 'ATP - SINGLES', 'WORLD', 'Roman Safiullin', 'elqeybgwwkxsmxte99674'), ('TENNIS', 'ATP - SINGLES', 'AUSTRALIA', 'Max Purcell', 'cnildcbgrvvuvqxd05322'), ('TENNIS', 'ATP - SINGLES', 'FINLAND', 'Emil Ruusuvuori', 'ufczkmqchbjnedow08236'), ('TENNIS', 'ATP - SINGLES', 'CZECH REPUBLIC', 'Dalibor Svrcina', 'oernypnrywlmogje98426'), ('TENNIS', 'ATP - SINGLES', 'AUSTRALIA', 'John Millman', 'toyxylluygtxkjfb04850'), ('TENNIS', 'ATP - SINGLES', 'SPAIN', 'Roberto Carballes Baena', 'gjdzamybevdjsreh94887'), ('TENNIS', 'ATP - SINGLES', 'CZECH REPUBLIC', 'Tomas Machac', 'zymnxcmaxaoflzji91857'), ('TENNIS', 'ATP - SINGLES', 'NORWAY', 'Casper Ruud', 'vjiiqpucckssaafb01780'), ('TENNIS', 'ATP - SINGLES', 'TAIWAN', 'Chun Hsin Tseng', 'prmtwyugxksqqnei07068'), ('TENNIS', 'ATP - SINGLES', 'TAIWAN', 'Yu Hsiou Hsu', 'druzbxrxvectqzzz07272'), ('TENNIS', 'ATP - SINGLES', 'AUSTRALIA', \"Christopher O'Connell\", 'kvbctsonlzzzgcgw06493'), ('TENNIS', 'ATP - SINGLES', 'GERMANY', 'Jan-Lennard Struff', 'jzchsgmdxqcwsqcg01907'), ('TENNIS', 'ATP - SINGLES', 'PERU', 'Juan Pablo Varillas', 'vcmxliytghffuzqm90242'), ('TENNIS', 'ATP - SINGLES', 'GERMANY', 'Alexander Zverev', 'nyakfdkznzkxmasq00652'), ('TENNIS', 'ATP - SINGLES', 'ITALY', 'Matteo Berrettini', 'nirplududhgppnoh97406'), ('TENNIS', 'ATP - SINGLES', 'CHINA', 'Zhizhen Zhang', 'pbbsnrxrefybyqel96847'), ('TENNIS', 'ATP - SINGLES', 'SERBIA', 'Filip Krajinovic', 'kngcbyeqjewgxfzf97367'), ('TENNIS', 'ATP - SINGLES', 'USA', 'Taylor Fritz', 'mxaebrufgayjgeee03492'), ('TENNIS', 'ATP - SINGLES', 'GEORGIA', 'Nikoloz Basilashvili', 'dcatvofdpwethffh90072'), ('TENNIS', 'ATP - SINGLES', 'AUSTRALIA', 'Jordan Thompson', 'dmbqcycuqmhztrad94506'), ('TENNIS', 'ATP - SINGLES', 'SPAIN', 'Pablo Carreno-Busta', 'qbafbyhhepnrqolz90395'), ('TENNIS', 'ATP - SINGLES', 'ARGENTINA', 'Pedro Cachin', 'aqdahxfnxijptxkm92299'), ('TENNIS', 'ATP - SINGLES', 'SPAIN', 'Alejandro Davidovich Fokina', 'lhhmhitqbojectca97701'), ('TENNIS', 'ATP - SINGLES', 'KAZAKHSTAN', 'Alexander Bublik', 'rmbpvglovgrrqifo07081'), ('TENNIS', 'ATP - SINGLES', 'CHILE', 'Nicolas Jarry', 'vjutuffvwdqulhyl09215'), ('TENNIS', 'ATP - SINGLES', 'SERBIA', 'Miomir Kecmanovic', 'sububmvapontjruj96598'), ('TENNIS', 'ATP - SINGLES', 'ITALY', 'Mattia Bellucci', 'kprqibzirpcjfsiz07081'), ('TENNIS', 'ATP - SINGLES', 'BELGIUM', 'Zizou Bergs', 'fumaopmxfxneljyw91634'), ('TENNIS', 'ATP - SINGLES', 'SERBIA', 'Laslo Djere', 'nmmjdvkorsibxblx93360'), ('TENNIS', 'ATP - SINGLES', 'WORLD', 'Aslan Karatsev', 'oliqmshvkhrwtwgw06930'), ('TENNIS', 'ATP - SINGLES', 'ARGENTINA', 'Diego Schwartzman', 'tchmipdtiyjekskn97146'), ('TENNIS', 'ATP - SINGLES', 'UKRAINE', 'Oleksii Krutykh', 'quurxjbvcqvqlxdg02513'), ('TENNIS', 'ATP - SINGLES', 'ARGENTINA', 'Facundo Bagnis', 'lbptprbwhavxygty05645'), ('TENNIS', 'ATP - SINGLES', 'COLOMBIA', 'Daniel Elahi Galan', 'qbvnklihdzyzdojm06514'), ('TENNIS', 'ATP - SINGLES', 'COLOMBIA', 'Daniel Elahi Galan', 'uiqbfmrrcrqoipnv07549'), ('TENNIS', 'ATP - SINGLES', 'COLOMBIA', 'Daniel Elahi Galan', 'slnzauwzpsmecqvy99524'), ('TENNIS', 'ATP - SINGLES', 'FRANCE', 'Jeremy Chardy', 'xztgilijwhwvqpgd01322'), ('TENNIS', 'ATP - SINGLES', 'AUSTRIA', 'Dominic Thiem', 'ojwogeydzmyyesti06200'), ('TENNIS', 'ATP - SINGLES', 'USA', 'Marcos Giron', 'ruxjiiquwjcyjhxh04747'), ('TENNIS', 'ATP - SINGLES', 'ITALY', 'Lorenzo Musetti', 'gawcfgxwxjrzvtsk09549'), ('TENNIS', 'ATP - SINGLES', 'BRAZIL', 'Thiago Monteiro', 'gcihpmwylomcvyas05621'), ('TENNIS', 'ATP - SINGLES', 'FRANCE', 'Constant Lestienne', 'xlejaduliwcsrhpq04179'), ('TENNIS', 'ATP - SINGLES', 'FRANCE', 'Quentin Halys', 'aytucrlcykvlaced01813'), ('TENNIS', 'ATP - SINGLES', 'CANADA', 'Vasek Pospisil', 'muagmouzoxreuphm05576'), ('TENNIS', 'ATP - SINGLES', 'FRANCE', 'Luca van Assche', 'jjdtrdpgufahyfvm07741'), ('TENNIS', 'ATP - SINGLES', 'GERMANY', 'Yannick Hanfmann', 'xjvbqlvdfxyshajl01497'), ('TENNIS', 'ATP - SINGLES', 'AUSTRALIA', 'Rinky Hijikata', 'jgpbxxzbrbarbdyr98388'), ('TENNIS', 'ATP - SINGLES', 'SWITZERLAND', 'Stan Wawrinka', 'avngqwlfkxqhbcoj90402'), ('TENNIS', 'ATP - SINGLES', 'ARGENTINA', 'Federico Coria', 'lrgdgphrlrpawyxf97715'), ('TENNIS', 'ATP - SINGLES', 'USA', 'Christopher Eubanks', 'nntycuqwffdpxzwv91705'), ('TENNIS', 'ATP - SINGLES', 'SOUTH KOREA', 'Soonwoo Kwon', 'ehjzwaixmqlavkdo90536'), ('TENNIS', 'ATP - SINGLES', 'SWITZERLAND', 'Marc-Andrea Huesler', 'tdfqkuhsemmiyieo05252'), ('TENNIS', 'ATP - SINGLES', 'SPAIN', 'Jaume Munar', 'rfvldvvfrligwsdw92250'), ('TENNIS', 'ATP - SINGLES', 'ARGENTINA', 'Sebastian Baez', 'krrkwnrekkbxwzpf95482'), ('TENNIS', 'ATP - SINGLES', 'CROATIA', 'Borna Coric', 'hptvdaamporrjriv01897'), ('TENNIS', 'ATP - SINGLES', 'ITALY', 'Lorenzo Sonego', 'pyhlsuqcgnzstjkf02590'), ('TENNIS', 'ATP - SINGLES', 'PORTUGAL', 'Nuno Borges', 'ouonnxdcouvxqpnu00757'), ('TENNIS', 'ATP - SINGLES', 'MEXICO', 'Ernesto Escobedo', 'ifxyepcgcoukwrzk97603'), ('TENNIS', 'ATP - SINGLES', 'JAPAN', 'Taro Daniel', 'nvowbkkwrzhnvosu03588'), ('TENNIS', 'ATP - SINGLES', 'UNITED KINGDOM', 'Jack Draper', 'zcbvavobgeqvpmgz98648'), ('TENNIS', 'ATP - SINGLES', 'GERMANY', 'Daniel Altmaier', 'frmynflxvbndever91997'), ('TENNIS', 'ATP - SINGLES', 'SPAIN', 'Bernabe Zapata Miralles', 'adsokpisbglaeftt03539'), ('TENNIS', 'ATP - SINGLES', 'USA', 'Brandon Nakashima', 'genisfozyhlmenki07840'), ('TENNIS', 'ATP - SINGLES', 'WORLD', 'Pavel Kotov', 'sikmrzdwsodusaxb09728'), ('TENNIS', 'ATP - SINGLES', 'SERBIA', 'Dusan Lajovic', 'jsiprzctdgdpcleg94702'), ('TENNIS', 'ATP - SINGLES', 'SWEDEN', 'Mikael Ymer', 'cmulikriadmvrvcy96123'), ('TENNIS', 'ATP - SINGLES', 'CHILE', 'Cristian Garin', 'chgkhqflrrutwmxy94231'), ('TENNIS', 'ATP - SINGLES', 'SPAIN', 'Pedro Martinez', 'vscnjyrfrufmmcci96785'), ('TENNIS', 'ATP - SINGLES', 'ARGENTINA', 'Guido Pella', 'awiiersawkeixvqu97035'), ('TENNIS', 'ATP - SINGLES', 'UNITED KINGDOM', 'Kyle Edmund', 'kppbsoexwvuankiy97707'), ('TENNIS', 'ATP - SINGLES', 'ARGENTINA', 'Tomas Martin Etcheverry', 'dsilqejarkshqtmo00677'), ('TENNIS', 'ATP - SINGLES', 'FRANCE', 'Gregoire Barrere', 'xwvjxzcxcvkslumt08743'), ('TENNIS', 'ATP - SINGLES', 'WORLD', 'Ilya Ivashka', 'ponmynslpkwgxzue08679'), ('TENNIS', 'ATP - SINGLES', 'NETHERLANDS', 'Botic Van De Zandschulp', 'niwcbkbnhhhdrweh98749'), ('TENNIS', 'ATP - SINGLES', 'FRANCE', 'Corentin Moutet', 'sgziketxtwsisjvt01751'), ('TENNIS', 'ATP - SINGLES', 'CHINA', 'Yibing Wu', 'esuhmzdnkrnbcypg93881'), ('TENNIS', 'ATP - SINGLES', 'GERMANY', 'Oscar Otte', 'qejehvpjbdnknbmw00473'), ('TENNIS', 'ATP - SINGLES', 'JAPAN', 'Yosuke Watanuki', 'kxfdcxdyfhoykykm96478'), ('TENNIS', 'ATP - SINGLES', 'FRANCE', 'Arthur Rinderknech', 'cgziwlipdzhuxozi08787'), ('TENNIS', 'ATP - SINGLES', 'PORTUGAL', 'Joao Sousa', 'bemxnprwxxcssgcd06884'), ('TENNIS', 'ATP - SINGLES', 'AUSTRALIA', 'Aleksandar Vukic', 'qtzjiyuqsaclwmgs94817'), ('TENNIS', 'ATP - SINGLES', 'USA', 'Brandon Holt', 'zctzzkcrtwltobfc94111'), ('TENNIS', 'ATP - SINGLES', 'USA', 'John Isner', 'emvyagomceyhilyd02935'), ('TENNIS', 'ATP - SINGLES', 'FRANCE', 'Adrian Mannarino', 'pdxohdwngysqzsto05456'), ('TENNIS', 'ATP - SINGLES', 'AUSTRALIA', 'Thanasi Kokkinakis', 'rinzksrtmydgqndo96112'), ('TENNIS', 'ATP - SINGLES', 'ITALY', 'Fabio Fognini', 'mftlvmekmjhocicv07026'), ('TENNIS', 'ATP - SINGLES', 'FRANCE', 'Enzo Couacaud', 'fibudcddgsfzzdfw93085'), ('TENNIS', 'ATP - SINGLES', 'USA', 'Maxime Cressy', 'zednauifwavxcgrh90207'), ('TENNIS', 'ATP - SINGLES', 'SPAIN', 'Albert Ramos-Vinolas', 'pnlzuufxkxrvytqa93549'), ('TENNIS', 'ATP - SINGLES', 'BOLIVIA', 'Hugo Dellien', 'owksgnzcdcudpjnk03098'), ('TENNIS', 'ATP - SINGLES', 'NORWAY', 'Casper Ruud', 'uzriqnmufwbqvnki05881'), ('TENNIS', 'ATP - SINGLES', 'ARGENTINA', 'Francisco Cerundolo', 'zginjgrjzceryyar01692'), ('TENNIS', 'ATP - SINGLES', 'UNITED KINGDOM', 'Daniel Evans', 'lojxxrvwfrsgmlpw92447'), ('TENNIS', 'ATP - SINGLES', 'WORLD', 'Karen Khachanov', 'gtcdwygljduijnkv94897'), ('TENNIS', 'ATP - SINGLES', 'SPAIN', 'Carlos Alcaraz', 'stqsovuyorwppbfz00356'), ('TENNIS', 'ATP - SINGLES', 'SPAIN', 'Roberto Bautista-Agut', 'clwrxttlqarofxgu94753'), ('TENNIS', 'ATP - SINGLES', 'UNITED KINGDOM', 'Cameron Norrie', 'faxwkincoiouywxa07790'), ('TENNIS', 'ATP - SINGLES', 'ITALY', 'Lorenzo Musetti', 'muzucmmpuaeqdbwt02067'), ('TENNIS', 'ATP - SINGLES', 'CANADA', 'Denis Shapovalov', 'ybwqzpyddjlgqmjs95082'), ('TENNIS', 'ATP - SINGLES', 'GREECE', 'Stefanos Tsitsipas', 'zbszqqlmcxjiancl92242'), ('TENNIS', 'ATP - SINGLES', 'SPAIN', 'Alejandro Davidovich Fokina', 'gjvrytgrodvepris96697'), ('TENNIS', 'ATP - SINGLES', 'FINLAND', 'Emil Ruusuvuori', 'wofsqidasjwgyvqu06661'), ('TENNIS', 'ATP - SINGLES', 'JAPAN', 'Yoshihito Nishioka', 'qyxvcmcolshfjjkh92985'), ('TENNIS', 'ATP - SINGLES', 'ITALY', 'Jannik Sinner', 'cuquqkcqecjjerbt94787')]"
   ]
  },
  {
   "cell_type": "code",
   "execution_count": 29,
   "id": "223762d9",
   "metadata": {},
   "outputs": [
    {
     "name": "stdout",
     "output_type": "stream",
     "text": [
      "['TENNIS']\n",
      "['ATP - SINGLES']\n"
     ]
    }
   ],
   "source": [
    "dict_duplicates = {}\n",
    "for row in list_results:    \n",
    "    if not row[0] in list(dict_duplicates.keys()):\n",
    "        dict_duplicates[row[0]] = {}\n",
    "    \n",
    "    if not row[1] in list(dict_duplicates[row[0]].keys() ):\n",
    "        dict_duplicates[row[0]][row[1]] = {}\n",
    "    \n",
    "    if not row[2] in list(dict_duplicates[row[0]][row[1]].keys() ):\n",
    "        dict_duplicates[row[0]][row[1]][row[2]] = {}\n",
    "    \n",
    "    if not row[3] in list(dict_duplicates[row[0]][row[1]][row[2]].keys() ):\n",
    "        dict_duplicates[row[0]][row[1]][row[2]][row[3]] = {'team_id':row[4]}\n",
    "        \n",
    "print(list(dict_duplicates.keys()))\n",
    "print(list(dict_duplicates['TENNIS']))\n",
    "# print(list(dict_duplicates.keys()))"
   ]
  },
  {
   "cell_type": "code",
   "execution_count": 33,
   "id": "6204b135",
   "metadata": {},
   "outputs": [
    {
     "data": {
      "text/plain": [
       "{'team_id': 'pcceetgkzrmuniqv99830'}"
      ]
     },
     "execution_count": 33,
     "metadata": {},
     "output_type": "execute_result"
    }
   ],
   "source": [
    "dict_duplicates = {}\n",
    "\n",
    "for row in list_results:\n",
    "    dict_duplicates.setdefault(row[0], {}).setdefault(row[1], {}).setdefault(row[2], {})[row[3]] = {'team_id': row[4]}\n",
    "dict_duplicates\n",
    "\n",
    "dict_duplicates['TENNIS']['ATP - SINGLES']['AUSTRALIA']['Alex De Minaur']"
   ]
  },
  {
   "cell_type": "code",
   "execution_count": 37,
   "id": "77862bfc",
   "metadata": {},
   "outputs": [
    {
     "name": "stdout",
     "output_type": "stream",
     "text": [
      "dict_keys(['ARGENTINA'])\n"
     ]
    },
    {
     "data": {
      "text/plain": [
       "['Quimsa',\n",
       " 'Olimpico',\n",
       " 'Platense',\n",
       " 'Instituto de Cordoba',\n",
       " 'Obras Sanitarias',\n",
       " 'Boca Juniors',\n",
       " 'San Lorenzo',\n",
       " 'Regatas',\n",
       " 'Obera TC',\n",
       " 'Zarate',\n",
       " 'San Martin',\n",
       " 'Gimnasia',\n",
       " 'Riachuelo',\n",
       " 'Independiente de Oliva',\n",
       " 'Ferro',\n",
       " 'Penarol',\n",
       " 'Comunicaciones Mercedes',\n",
       " 'La Union',\n",
       " 'Union De Santa Fe',\n",
       " 'Argentino']"
      ]
     },
     "execution_count": 37,
     "metadata": {},
     "output_type": "execute_result"
    }
   ],
   "source": [
    "dict_team_db = {'ARGENTINA': {'Quimsa': {'team_id': 'qbihkkjvtwzxpavm02576'}, 'Olimpico': {'team_id': 'kuuvmheqofkovmlw98815'}, 'Platense': {'team_id': 'dybtjnfcvrnwaabs98225'}, 'Instituto de Cordoba': {'team_id': 'bgxrzrzyqdqglbxm94128'}, 'Obras Sanitarias': {'team_id': 'rhnqpysevdsnxeqv06635'}, 'Boca Juniors': {'team_id': 'qrlfhthcftwlzzij00369'}, 'San Lorenzo': {'team_id': 'jjcfgpfoxvvnmjgq08329'}, 'Regatas': {'team_id': 'oocvpxdhkpefnzhx93313'}, 'Obera TC': {'team_id': 'dmeiykpynuehsjrx07661'}, 'Zarate': {'team_id': 'qwszvyxubeongvqh00688'}, 'San Martin': {'team_id': 'unbwvjbqxihchxms90911'}, 'Gimnasia': {'team_id': 'ssxngaxeqqxxvbjm06131'}, 'Riachuelo': {'team_id': 'udjwrgamdgbtiqog99756'}, 'Independiente de Oliva': {'team_id': 'iryoiacvkwqazxmi03800'}, 'Ferro': {'team_id': 'qzmiegknoprlaiba93095'}, 'Penarol': {'team_id': 'bgachllgihwfepgx09874'}, 'Comunicaciones Mercedes': {'team_id': 'jmfrjxrznksdcrtd03368'}, 'La Union': {'team_id': 'bwfmnrqpursbvuhw95103'}, 'Union De Santa Fe': {'team_id': 'ebawxhxdesfsfjit09365'}, 'Argentino': {'team_id': 'pyjrfrababltbzuk97783'}}}\n",
    "\n",
    "print(dict_team_db.keys())\n",
    "list(dict_team_db['ARGENTINA'].keys())"
   ]
  },
  {
   "cell_type": "code",
   "execution_count": null,
   "id": "343f921f",
   "metadata": {},
   "outputs": [],
   "source": [
    "SELECT *FROM league;\n",
    "\n",
    "SELECT league_country, league_name, COUNT(*) AS count_duplicates\n",
    "FROM league\n",
    "GROUP BY league_country, league_name\n",
    "HAVING COUNT(*) > 1;\n",
    "\n"
   ]
  },
  {
   "cell_type": "code",
   "execution_count": null,
   "id": "97107d31",
   "metadata": {},
   "outputs": [],
   "source": []
  },
  {
   "cell_type": "code",
   "execution_count": null,
   "id": "0b544acd",
   "metadata": {},
   "outputs": [],
   "source": []
  }
 ],
 "metadata": {
  "kernelspec": {
   "display_name": "whatsappbot",
   "language": "python",
   "name": "whatsappbot"
  },
  "language_info": {
   "codemirror_mode": {
    "name": "ipython",
    "version": 3
   },
   "file_extension": ".py",
   "mimetype": "text/x-python",
   "name": "python",
   "nbconvert_exporter": "python",
   "pygments_lexer": "ipython3",
   "version": "3.10.12"
  }
 },
 "nbformat": 4,
 "nbformat_minor": 5
}
