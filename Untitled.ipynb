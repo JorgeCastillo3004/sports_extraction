{
 "cells": [
  {
   "cell_type": "code",
   "execution_count": 20,
   "id": "53819ac8",
   "metadata": {},
   "outputs": [],
   "source": [
    "list_results = [('TENNIS', 'ATP - SINGLES', 'AUSTRALIA', 'Alex De Minaur', 'pcceetgkzrmuniqv99830'), ('TENNIS', 'ATP - SINGLES', 'SERBIA', 'Novak Djokovic', 'pjzcywvbjzvddqct02904'), ('TENNIS', 'ATP - SINGLES', 'SPAIN', 'Roberto Bautista-Agut', 'eququwbiqygymwva90826'), ('TENNIS', 'ATP - SINGLES', 'USA', 'Tommy Paul', 'eqrmkapqcxihibfb01882'), ('TENNIS', 'ATP - SINGLES', 'WORLD', 'Andrey Rublev', 'upynwyzzuufujvbo91144'), ('TENNIS', 'ATP - SINGLES', 'DENMARK', 'Holger Rune', 'mcdminhmnvtaefiy99954'), ('TENNIS', 'ATP - SINGLES', 'USA', 'Ben Shelton', 'haojfkmurlkmbrtp02761'), ('TENNIS', 'ATP - SINGLES', 'USA', 'Jeffrey John Wolf', 'sfzihryrqesiryhq97853'), ('TENNIS', 'ATP - SINGLES', 'GREECE', 'Stefanos Tsitsipas', 'ayixphpqgvuyldpf99873'), ('TENNIS', 'ATP - SINGLES', 'ITALY', 'Jannik Sinner', 'unizeexpdmoxeeff95595'), ('TENNIS', 'ATP - SINGLES', 'CZECH REPUBLIC', 'Jiri Lehecka', 'gmhwqgqvfgpzkolv92173'), ('TENNIS', 'ATP - SINGLES', 'CANADA', 'Felix Auger-Aliassime', 'xtmndlxocqtvwocl00588'), ('TENNIS', 'ATP - SINGLES', 'JAPAN', 'Yoshihito Nishioka', 'dihfdrtszpdomqcf01841'), ('TENNIS', 'ATP - SINGLES', 'WORLD', 'Karen Khachanov', 'omkpccffqolxekhz98135'), ('TENNIS', 'ATP - SINGLES', 'POLAND', 'Hubert Hurkacz', 'gsuanguyjvtcbiau94849'), ('TENNIS', 'ATP - SINGLES', 'USA', 'Sebastian Korda', 'lpesbxhcwnuotzsi03158'), ('TENNIS', 'ATP - SINGLES', 'BULGARIA', 'Grigor Dimitrov', 'luqwyyrzjypmzvhh05942'), ('TENNIS', 'ATP - SINGLES', 'UNITED KINGDOM', 'Andy Murray', 'kiwzzhajyaoebpif90243'), ('TENNIS', 'ATP - SINGLES', 'AUSTRALIA', 'Alexei Popyrin', 'lukwzohjgalxbcgz94684'), ('TENNIS', 'ATP - SINGLES', 'USA', 'Michael Mmoh', 'gxvoezuqtfhcneuf00012'), ('TENNIS', 'ATP - SINGLES', 'USA', 'Jenson Brooksby', 'lrtcjmmpxkztowsn96814'), ('TENNIS', 'ATP - SINGLES', 'FRANCE', 'Benjamin Bonzi', 'cmzcuwukkftcxwnt93218'), ('TENNIS', 'ATP - SINGLES', 'FRANCE', 'Ugo Humbert', 'flkxnupjlwwnqmsz02889'), ('TENNIS', 'ATP - SINGLES', 'UNITED KINGDOM', 'Daniel Evans', 'hvuvsnepyjbmiffx94772'), ('TENNIS', 'ATP - SINGLES', 'WORLD', 'Daniil Medvedev', 'pvqgbzprhutitcbo97999'), ('TENNIS', 'ATP - SINGLES', 'USA', 'Frances Tiafoe', 'fssgdqdrrayfiker05290'), ('TENNIS', 'ATP - SINGLES', 'CANADA', 'Denis Shapovalov', 'rvyvouealllisdbb99804'), ('TENNIS', 'ATP - SINGLES', 'UNITED KINGDOM', 'Cameron Norrie', 'zdglkcizeswmvphl91392'), ('TENNIS', 'ATP - SINGLES', 'ARGENTINA', 'Francisco Cerundolo', 'rebkwdvvdzinnjsn97614'), ('TENNIS', 'ATP - SINGLES', 'USA', 'Mackenzie McDonald', 'yzyetvdjxeeeuxhv90979'), ('TENNIS', 'ATP - SINGLES', 'NETHERLANDS', 'Tallon Griekspoor', 'qbzymetyhuwvuipt95434'), ('TENNIS', 'ATP - SINGLES', 'HUNGARY', 'Marton Fucsovics', 'jgkogouvugsbddfu96526'), ('TENNIS', 'ATP - SINGLES', 'SOUTH AFRICA', 'Lloyd Harris', 'hztqnmynswexzjyn05571'), ('TENNIS', 'ATP - SINGLES', 'AUSTRALIA', 'Jason Kubler', 'ppojukrcqkzsivhv00545'), ('TENNIS', 'ATP - SINGLES', 'CHINA', 'Juncheng Shang', 'fwvznbobfmsseirg05242'), ('TENNIS', 'ATP - SINGLES', 'SPAIN', 'Rafael Nadal', 'bgghxknowwyjddsy99376'), ('TENNIS', 'ATP - SINGLES', 'SLOVAKIA', 'Alex Molcan', 'xaxrtcrtnqwbojox07829'), ('TENNIS', 'ATP - SINGLES', 'FRANCE', 'Laurent Lokoli', 'gbyzudalaikhpiat91849'), ('TENNIS', 'ATP - SINGLES', 'FRANCE', 'Richard Gasquet', 'wpzmrktjuignkulg96924'), ('TENNIS', 'ATP - SINGLES', 'USA', 'Denis Kudla', 'rozwxfrysrhpzfhk98598'), ('TENNIS', 'ATP - SINGLES', 'WORLD', 'Roman Safiullin', 'elqeybgwwkxsmxte99674'), ('TENNIS', 'ATP - SINGLES', 'AUSTRALIA', 'Max Purcell', 'cnildcbgrvvuvqxd05322'), ('TENNIS', 'ATP - SINGLES', 'FINLAND', 'Emil Ruusuvuori', 'ufczkmqchbjnedow08236'), ('TENNIS', 'ATP - SINGLES', 'CZECH REPUBLIC', 'Dalibor Svrcina', 'oernypnrywlmogje98426'), ('TENNIS', 'ATP - SINGLES', 'AUSTRALIA', 'John Millman', 'toyxylluygtxkjfb04850'), ('TENNIS', 'ATP - SINGLES', 'SPAIN', 'Roberto Carballes Baena', 'gjdzamybevdjsreh94887'), ('TENNIS', 'ATP - SINGLES', 'CZECH REPUBLIC', 'Tomas Machac', 'zymnxcmaxaoflzji91857'), ('TENNIS', 'ATP - SINGLES', 'NORWAY', 'Casper Ruud', 'vjiiqpucckssaafb01780'), ('TENNIS', 'ATP - SINGLES', 'TAIWAN', 'Chun Hsin Tseng', 'prmtwyugxksqqnei07068'), ('TENNIS', 'ATP - SINGLES', 'TAIWAN', 'Yu Hsiou Hsu', 'druzbxrxvectqzzz07272'), ('TENNIS', 'ATP - SINGLES', 'AUSTRALIA', \"Christopher O'Connell\", 'kvbctsonlzzzgcgw06493'), ('TENNIS', 'ATP - SINGLES', 'GERMANY', 'Jan-Lennard Struff', 'jzchsgmdxqcwsqcg01907'), ('TENNIS', 'ATP - SINGLES', 'PERU', 'Juan Pablo Varillas', 'vcmxliytghffuzqm90242'), ('TENNIS', 'ATP - SINGLES', 'GERMANY', 'Alexander Zverev', 'nyakfdkznzkxmasq00652'), ('TENNIS', 'ATP - SINGLES', 'ITALY', 'Matteo Berrettini', 'nirplududhgppnoh97406'), ('TENNIS', 'ATP - SINGLES', 'CHINA', 'Zhizhen Zhang', 'pbbsnrxrefybyqel96847'), ('TENNIS', 'ATP - SINGLES', 'SERBIA', 'Filip Krajinovic', 'kngcbyeqjewgxfzf97367'), ('TENNIS', 'ATP - SINGLES', 'USA', 'Taylor Fritz', 'mxaebrufgayjgeee03492'), ('TENNIS', 'ATP - SINGLES', 'GEORGIA', 'Nikoloz Basilashvili', 'dcatvofdpwethffh90072'), ('TENNIS', 'ATP - SINGLES', 'AUSTRALIA', 'Jordan Thompson', 'dmbqcycuqmhztrad94506'), ('TENNIS', 'ATP - SINGLES', 'SPAIN', 'Pablo Carreno-Busta', 'qbafbyhhepnrqolz90395'), ('TENNIS', 'ATP - SINGLES', 'ARGENTINA', 'Pedro Cachin', 'aqdahxfnxijptxkm92299'), ('TENNIS', 'ATP - SINGLES', 'SPAIN', 'Alejandro Davidovich Fokina', 'lhhmhitqbojectca97701'), ('TENNIS', 'ATP - SINGLES', 'KAZAKHSTAN', 'Alexander Bublik', 'rmbpvglovgrrqifo07081'), ('TENNIS', 'ATP - SINGLES', 'CHILE', 'Nicolas Jarry', 'vjutuffvwdqulhyl09215'), ('TENNIS', 'ATP - SINGLES', 'SERBIA', 'Miomir Kecmanovic', 'sububmvapontjruj96598'), ('TENNIS', 'ATP - SINGLES', 'ITALY', 'Mattia Bellucci', 'kprqibzirpcjfsiz07081'), ('TENNIS', 'ATP - SINGLES', 'BELGIUM', 'Zizou Bergs', 'fumaopmxfxneljyw91634'), ('TENNIS', 'ATP - SINGLES', 'SERBIA', 'Laslo Djere', 'nmmjdvkorsibxblx93360'), ('TENNIS', 'ATP - SINGLES', 'WORLD', 'Aslan Karatsev', 'oliqmshvkhrwtwgw06930'), ('TENNIS', 'ATP - SINGLES', 'ARGENTINA', 'Diego Schwartzman', 'tchmipdtiyjekskn97146'), ('TENNIS', 'ATP - SINGLES', 'UKRAINE', 'Oleksii Krutykh', 'quurxjbvcqvqlxdg02513'), ('TENNIS', 'ATP - SINGLES', 'ARGENTINA', 'Facundo Bagnis', 'lbptprbwhavxygty05645'), ('TENNIS', 'ATP - SINGLES', 'COLOMBIA', 'Daniel Elahi Galan', 'qbvnklihdzyzdojm06514'), ('TENNIS', 'ATP - SINGLES', 'COLOMBIA', 'Daniel Elahi Galan', 'uiqbfmrrcrqoipnv07549'), ('TENNIS', 'ATP - SINGLES', 'COLOMBIA', 'Daniel Elahi Galan', 'slnzauwzpsmecqvy99524'), ('TENNIS', 'ATP - SINGLES', 'FRANCE', 'Jeremy Chardy', 'xztgilijwhwvqpgd01322'), ('TENNIS', 'ATP - SINGLES', 'AUSTRIA', 'Dominic Thiem', 'ojwogeydzmyyesti06200'), ('TENNIS', 'ATP - SINGLES', 'USA', 'Marcos Giron', 'ruxjiiquwjcyjhxh04747'), ('TENNIS', 'ATP - SINGLES', 'ITALY', 'Lorenzo Musetti', 'gawcfgxwxjrzvtsk09549'), ('TENNIS', 'ATP - SINGLES', 'BRAZIL', 'Thiago Monteiro', 'gcihpmwylomcvyas05621'), ('TENNIS', 'ATP - SINGLES', 'FRANCE', 'Constant Lestienne', 'xlejaduliwcsrhpq04179'), ('TENNIS', 'ATP - SINGLES', 'FRANCE', 'Quentin Halys', 'aytucrlcykvlaced01813'), ('TENNIS', 'ATP - SINGLES', 'CANADA', 'Vasek Pospisil', 'muagmouzoxreuphm05576'), ('TENNIS', 'ATP - SINGLES', 'FRANCE', 'Luca van Assche', 'jjdtrdpgufahyfvm07741'), ('TENNIS', 'ATP - SINGLES', 'GERMANY', 'Yannick Hanfmann', 'xjvbqlvdfxyshajl01497'), ('TENNIS', 'ATP - SINGLES', 'AUSTRALIA', 'Rinky Hijikata', 'jgpbxxzbrbarbdyr98388'), ('TENNIS', 'ATP - SINGLES', 'SWITZERLAND', 'Stan Wawrinka', 'avngqwlfkxqhbcoj90402'), ('TENNIS', 'ATP - SINGLES', 'ARGENTINA', 'Federico Coria', 'lrgdgphrlrpawyxf97715'), ('TENNIS', 'ATP - SINGLES', 'USA', 'Christopher Eubanks', 'nntycuqwffdpxzwv91705'), ('TENNIS', 'ATP - SINGLES', 'SOUTH KOREA', 'Soonwoo Kwon', 'ehjzwaixmqlavkdo90536'), ('TENNIS', 'ATP - SINGLES', 'SWITZERLAND', 'Marc-Andrea Huesler', 'tdfqkuhsemmiyieo05252'), ('TENNIS', 'ATP - SINGLES', 'SPAIN', 'Jaume Munar', 'rfvldvvfrligwsdw92250'), ('TENNIS', 'ATP - SINGLES', 'ARGENTINA', 'Sebastian Baez', 'krrkwnrekkbxwzpf95482'), ('TENNIS', 'ATP - SINGLES', 'CROATIA', 'Borna Coric', 'hptvdaamporrjriv01897'), ('TENNIS', 'ATP - SINGLES', 'ITALY', 'Lorenzo Sonego', 'pyhlsuqcgnzstjkf02590'), ('TENNIS', 'ATP - SINGLES', 'PORTUGAL', 'Nuno Borges', 'ouonnxdcouvxqpnu00757'), ('TENNIS', 'ATP - SINGLES', 'MEXICO', 'Ernesto Escobedo', 'ifxyepcgcoukwrzk97603'), ('TENNIS', 'ATP - SINGLES', 'JAPAN', 'Taro Daniel', 'nvowbkkwrzhnvosu03588'), ('TENNIS', 'ATP - SINGLES', 'UNITED KINGDOM', 'Jack Draper', 'zcbvavobgeqvpmgz98648'), ('TENNIS', 'ATP - SINGLES', 'GERMANY', 'Daniel Altmaier', 'frmynflxvbndever91997'), ('TENNIS', 'ATP - SINGLES', 'SPAIN', 'Bernabe Zapata Miralles', 'adsokpisbglaeftt03539'), ('TENNIS', 'ATP - SINGLES', 'USA', 'Brandon Nakashima', 'genisfozyhlmenki07840'), ('TENNIS', 'ATP - SINGLES', 'WORLD', 'Pavel Kotov', 'sikmrzdwsodusaxb09728'), ('TENNIS', 'ATP - SINGLES', 'SERBIA', 'Dusan Lajovic', 'jsiprzctdgdpcleg94702'), ('TENNIS', 'ATP - SINGLES', 'SWEDEN', 'Mikael Ymer', 'cmulikriadmvrvcy96123'), ('TENNIS', 'ATP - SINGLES', 'CHILE', 'Cristian Garin', 'chgkhqflrrutwmxy94231'), ('TENNIS', 'ATP - SINGLES', 'SPAIN', 'Pedro Martinez', 'vscnjyrfrufmmcci96785'), ('TENNIS', 'ATP - SINGLES', 'ARGENTINA', 'Guido Pella', 'awiiersawkeixvqu97035'), ('TENNIS', 'ATP - SINGLES', 'UNITED KINGDOM', 'Kyle Edmund', 'kppbsoexwvuankiy97707'), ('TENNIS', 'ATP - SINGLES', 'ARGENTINA', 'Tomas Martin Etcheverry', 'dsilqejarkshqtmo00677'), ('TENNIS', 'ATP - SINGLES', 'FRANCE', 'Gregoire Barrere', 'xwvjxzcxcvkslumt08743'), ('TENNIS', 'ATP - SINGLES', 'WORLD', 'Ilya Ivashka', 'ponmynslpkwgxzue08679'), ('TENNIS', 'ATP - SINGLES', 'NETHERLANDS', 'Botic Van De Zandschulp', 'niwcbkbnhhhdrweh98749'), ('TENNIS', 'ATP - SINGLES', 'FRANCE', 'Corentin Moutet', 'sgziketxtwsisjvt01751'), ('TENNIS', 'ATP - SINGLES', 'CHINA', 'Yibing Wu', 'esuhmzdnkrnbcypg93881'), ('TENNIS', 'ATP - SINGLES', 'GERMANY', 'Oscar Otte', 'qejehvpjbdnknbmw00473'), ('TENNIS', 'ATP - SINGLES', 'JAPAN', 'Yosuke Watanuki', 'kxfdcxdyfhoykykm96478'), ('TENNIS', 'ATP - SINGLES', 'FRANCE', 'Arthur Rinderknech', 'cgziwlipdzhuxozi08787'), ('TENNIS', 'ATP - SINGLES', 'PORTUGAL', 'Joao Sousa', 'bemxnprwxxcssgcd06884'), ('TENNIS', 'ATP - SINGLES', 'AUSTRALIA', 'Aleksandar Vukic', 'qtzjiyuqsaclwmgs94817'), ('TENNIS', 'ATP - SINGLES', 'USA', 'Brandon Holt', 'zctzzkcrtwltobfc94111'), ('TENNIS', 'ATP - SINGLES', 'USA', 'John Isner', 'emvyagomceyhilyd02935'), ('TENNIS', 'ATP - SINGLES', 'FRANCE', 'Adrian Mannarino', 'pdxohdwngysqzsto05456'), ('TENNIS', 'ATP - SINGLES', 'AUSTRALIA', 'Thanasi Kokkinakis', 'rinzksrtmydgqndo96112'), ('TENNIS', 'ATP - SINGLES', 'ITALY', 'Fabio Fognini', 'mftlvmekmjhocicv07026'), ('TENNIS', 'ATP - SINGLES', 'FRANCE', 'Enzo Couacaud', 'fibudcddgsfzzdfw93085'), ('TENNIS', 'ATP - SINGLES', 'USA', 'Maxime Cressy', 'zednauifwavxcgrh90207'), ('TENNIS', 'ATP - SINGLES', 'SPAIN', 'Albert Ramos-Vinolas', 'pnlzuufxkxrvytqa93549'), ('TENNIS', 'ATP - SINGLES', 'BOLIVIA', 'Hugo Dellien', 'owksgnzcdcudpjnk03098'), ('TENNIS', 'ATP - SINGLES', 'NORWAY', 'Casper Ruud', 'uzriqnmufwbqvnki05881'), ('TENNIS', 'ATP - SINGLES', 'ARGENTINA', 'Francisco Cerundolo', 'zginjgrjzceryyar01692'), ('TENNIS', 'ATP - SINGLES', 'UNITED KINGDOM', 'Daniel Evans', 'lojxxrvwfrsgmlpw92447'), ('TENNIS', 'ATP - SINGLES', 'WORLD', 'Karen Khachanov', 'gtcdwygljduijnkv94897'), ('TENNIS', 'ATP - SINGLES', 'SPAIN', 'Carlos Alcaraz', 'stqsovuyorwppbfz00356'), ('TENNIS', 'ATP - SINGLES', 'SPAIN', 'Roberto Bautista-Agut', 'clwrxttlqarofxgu94753'), ('TENNIS', 'ATP - SINGLES', 'UNITED KINGDOM', 'Cameron Norrie', 'faxwkincoiouywxa07790'), ('TENNIS', 'ATP - SINGLES', 'ITALY', 'Lorenzo Musetti', 'muzucmmpuaeqdbwt02067'), ('TENNIS', 'ATP - SINGLES', 'CANADA', 'Denis Shapovalov', 'ybwqzpyddjlgqmjs95082'), ('TENNIS', 'ATP - SINGLES', 'GREECE', 'Stefanos Tsitsipas', 'zbszqqlmcxjiancl92242'), ('TENNIS', 'ATP - SINGLES', 'SPAIN', 'Alejandro Davidovich Fokina', 'gjvrytgrodvepris96697'), ('TENNIS', 'ATP - SINGLES', 'FINLAND', 'Emil Ruusuvuori', 'wofsqidasjwgyvqu06661'), ('TENNIS', 'ATP - SINGLES', 'JAPAN', 'Yoshihito Nishioka', 'qyxvcmcolshfjjkh92985'), ('TENNIS', 'ATP - SINGLES', 'ITALY', 'Jannik Sinner', 'cuquqkcqecjjerbt94787')]"
   ]
  },
  {
   "cell_type": "code",
   "execution_count": 29,
   "id": "a2d0299b",
   "metadata": {},
   "outputs": [
    {
     "name": "stdout",
     "output_type": "stream",
     "text": [
      "['TENNIS']\n",
      "['ATP - SINGLES']\n"
     ]
    }
   ],
   "source": [
    "dict_duplicates = {}\n",
    "for row in list_results:    \n",
    "    if not row[0] in list(dict_duplicates.keys()):\n",
    "        dict_duplicates[row[0]] = {}\n",
    "    \n",
    "    if not row[1] in list(dict_duplicates[row[0]].keys() ):\n",
    "        dict_duplicates[row[0]][row[1]] = {}\n",
    "    \n",
    "    if not row[2] in list(dict_duplicates[row[0]][row[1]].keys() ):\n",
    "        dict_duplicates[row[0]][row[1]][row[2]] = {}\n",
    "    \n",
    "    if not row[3] in list(dict_duplicates[row[0]][row[1]][row[2]].keys() ):\n",
    "        dict_duplicates[row[0]][row[1]][row[2]][row[3]] = {'team_id':row[4]}\n",
    "        \n",
    "print(list(dict_duplicates.keys()))\n",
    "print(list(dict_duplicates['TENNIS']))\n",
    "# print(list(dict_duplicates.keys()))"
   ]
  },
  {
   "cell_type": "code",
   "execution_count": 31,
   "id": "efd2a897",
   "metadata": {},
   "outputs": [
    {
     "data": {
      "text/plain": [
       "{'TENNIS': {'ATP - SINGLES': {'AUSTRALIA': {'Alex De Minaur': {'team_id': 'pcceetgkzrmuniqv99830'},\n",
       "    'Alexei Popyrin': {'team_id': 'lukwzohjgalxbcgz94684'},\n",
       "    'Jason Kubler': {'team_id': 'ppojukrcqkzsivhv00545'},\n",
       "    'Max Purcell': {'team_id': 'cnildcbgrvvuvqxd05322'},\n",
       "    'John Millman': {'team_id': 'toyxylluygtxkjfb04850'},\n",
       "    \"Christopher O'Connell\": {'team_id': 'kvbctsonlzzzgcgw06493'},\n",
       "    'Jordan Thompson': {'team_id': 'dmbqcycuqmhztrad94506'},\n",
       "    'Rinky Hijikata': {'team_id': 'jgpbxxzbrbarbdyr98388'},\n",
       "    'Aleksandar Vukic': {'team_id': 'qtzjiyuqsaclwmgs94817'},\n",
       "    'Thanasi Kokkinakis': {'team_id': 'rinzksrtmydgqndo96112'}},\n",
       "   'SERBIA': {'Novak Djokovic': {'team_id': 'pjzcywvbjzvddqct02904'},\n",
       "    'Filip Krajinovic': {'team_id': 'kngcbyeqjewgxfzf97367'},\n",
       "    'Miomir Kecmanovic': {'team_id': 'sububmvapontjruj96598'},\n",
       "    'Laslo Djere': {'team_id': 'nmmjdvkorsibxblx93360'},\n",
       "    'Dusan Lajovic': {'team_id': 'jsiprzctdgdpcleg94702'}},\n",
       "   'SPAIN': {'Roberto Bautista-Agut': {'team_id': 'clwrxttlqarofxgu94753'},\n",
       "    'Rafael Nadal': {'team_id': 'bgghxknowwyjddsy99376'},\n",
       "    'Roberto Carballes Baena': {'team_id': 'gjdzamybevdjsreh94887'},\n",
       "    'Pablo Carreno-Busta': {'team_id': 'qbafbyhhepnrqolz90395'},\n",
       "    'Alejandro Davidovich Fokina': {'team_id': 'gjvrytgrodvepris96697'},\n",
       "    'Jaume Munar': {'team_id': 'rfvldvvfrligwsdw92250'},\n",
       "    'Bernabe Zapata Miralles': {'team_id': 'adsokpisbglaeftt03539'},\n",
       "    'Pedro Martinez': {'team_id': 'vscnjyrfrufmmcci96785'},\n",
       "    'Albert Ramos-Vinolas': {'team_id': 'pnlzuufxkxrvytqa93549'},\n",
       "    'Carlos Alcaraz': {'team_id': 'stqsovuyorwppbfz00356'}},\n",
       "   'USA': {'Tommy Paul': {'team_id': 'eqrmkapqcxihibfb01882'},\n",
       "    'Ben Shelton': {'team_id': 'haojfkmurlkmbrtp02761'},\n",
       "    'Jeffrey John Wolf': {'team_id': 'sfzihryrqesiryhq97853'},\n",
       "    'Sebastian Korda': {'team_id': 'lpesbxhcwnuotzsi03158'},\n",
       "    'Michael Mmoh': {'team_id': 'gxvoezuqtfhcneuf00012'},\n",
       "    'Jenson Brooksby': {'team_id': 'lrtcjmmpxkztowsn96814'},\n",
       "    'Frances Tiafoe': {'team_id': 'fssgdqdrrayfiker05290'},\n",
       "    'Mackenzie McDonald': {'team_id': 'yzyetvdjxeeeuxhv90979'},\n",
       "    'Denis Kudla': {'team_id': 'rozwxfrysrhpzfhk98598'},\n",
       "    'Taylor Fritz': {'team_id': 'mxaebrufgayjgeee03492'},\n",
       "    'Marcos Giron': {'team_id': 'ruxjiiquwjcyjhxh04747'},\n",
       "    'Christopher Eubanks': {'team_id': 'nntycuqwffdpxzwv91705'},\n",
       "    'Brandon Nakashima': {'team_id': 'genisfozyhlmenki07840'},\n",
       "    'Brandon Holt': {'team_id': 'zctzzkcrtwltobfc94111'},\n",
       "    'John Isner': {'team_id': 'emvyagomceyhilyd02935'},\n",
       "    'Maxime Cressy': {'team_id': 'zednauifwavxcgrh90207'}},\n",
       "   'WORLD': {'Andrey Rublev': {'team_id': 'upynwyzzuufujvbo91144'},\n",
       "    'Karen Khachanov': {'team_id': 'gtcdwygljduijnkv94897'},\n",
       "    'Daniil Medvedev': {'team_id': 'pvqgbzprhutitcbo97999'},\n",
       "    'Roman Safiullin': {'team_id': 'elqeybgwwkxsmxte99674'},\n",
       "    'Aslan Karatsev': {'team_id': 'oliqmshvkhrwtwgw06930'},\n",
       "    'Pavel Kotov': {'team_id': 'sikmrzdwsodusaxb09728'},\n",
       "    'Ilya Ivashka': {'team_id': 'ponmynslpkwgxzue08679'}},\n",
       "   'DENMARK': {'Holger Rune': {'team_id': 'mcdminhmnvtaefiy99954'}},\n",
       "   'GREECE': {'Stefanos Tsitsipas': {'team_id': 'zbszqqlmcxjiancl92242'}},\n",
       "   'ITALY': {'Jannik Sinner': {'team_id': 'cuquqkcqecjjerbt94787'},\n",
       "    'Matteo Berrettini': {'team_id': 'nirplududhgppnoh97406'},\n",
       "    'Mattia Bellucci': {'team_id': 'kprqibzirpcjfsiz07081'},\n",
       "    'Lorenzo Musetti': {'team_id': 'muzucmmpuaeqdbwt02067'},\n",
       "    'Lorenzo Sonego': {'team_id': 'pyhlsuqcgnzstjkf02590'},\n",
       "    'Fabio Fognini': {'team_id': 'mftlvmekmjhocicv07026'}},\n",
       "   'CZECH REPUBLIC': {'Jiri Lehecka': {'team_id': 'gmhwqgqvfgpzkolv92173'},\n",
       "    'Dalibor Svrcina': {'team_id': 'oernypnrywlmogje98426'},\n",
       "    'Tomas Machac': {'team_id': 'zymnxcmaxaoflzji91857'}},\n",
       "   'CANADA': {'Felix Auger-Aliassime': {'team_id': 'xtmndlxocqtvwocl00588'},\n",
       "    'Denis Shapovalov': {'team_id': 'ybwqzpyddjlgqmjs95082'},\n",
       "    'Vasek Pospisil': {'team_id': 'muagmouzoxreuphm05576'}},\n",
       "   'JAPAN': {'Yoshihito Nishioka': {'team_id': 'qyxvcmcolshfjjkh92985'},\n",
       "    'Taro Daniel': {'team_id': 'nvowbkkwrzhnvosu03588'},\n",
       "    'Yosuke Watanuki': {'team_id': 'kxfdcxdyfhoykykm96478'}},\n",
       "   'POLAND': {'Hubert Hurkacz': {'team_id': 'gsuanguyjvtcbiau94849'}},\n",
       "   'BULGARIA': {'Grigor Dimitrov': {'team_id': 'luqwyyrzjypmzvhh05942'}},\n",
       "   'UNITED KINGDOM': {'Andy Murray': {'team_id': 'kiwzzhajyaoebpif90243'},\n",
       "    'Daniel Evans': {'team_id': 'lojxxrvwfrsgmlpw92447'},\n",
       "    'Cameron Norrie': {'team_id': 'faxwkincoiouywxa07790'},\n",
       "    'Jack Draper': {'team_id': 'zcbvavobgeqvpmgz98648'},\n",
       "    'Kyle Edmund': {'team_id': 'kppbsoexwvuankiy97707'}},\n",
       "   'FRANCE': {'Benjamin Bonzi': {'team_id': 'cmzcuwukkftcxwnt93218'},\n",
       "    'Ugo Humbert': {'team_id': 'flkxnupjlwwnqmsz02889'},\n",
       "    'Laurent Lokoli': {'team_id': 'gbyzudalaikhpiat91849'},\n",
       "    'Richard Gasquet': {'team_id': 'wpzmrktjuignkulg96924'},\n",
       "    'Jeremy Chardy': {'team_id': 'xztgilijwhwvqpgd01322'},\n",
       "    'Constant Lestienne': {'team_id': 'xlejaduliwcsrhpq04179'},\n",
       "    'Quentin Halys': {'team_id': 'aytucrlcykvlaced01813'},\n",
       "    'Luca van Assche': {'team_id': 'jjdtrdpgufahyfvm07741'},\n",
       "    'Gregoire Barrere': {'team_id': 'xwvjxzcxcvkslumt08743'},\n",
       "    'Corentin Moutet': {'team_id': 'sgziketxtwsisjvt01751'},\n",
       "    'Arthur Rinderknech': {'team_id': 'cgziwlipdzhuxozi08787'},\n",
       "    'Adrian Mannarino': {'team_id': 'pdxohdwngysqzsto05456'},\n",
       "    'Enzo Couacaud': {'team_id': 'fibudcddgsfzzdfw93085'}},\n",
       "   'ARGENTINA': {'Francisco Cerundolo': {'team_id': 'zginjgrjzceryyar01692'},\n",
       "    'Pedro Cachin': {'team_id': 'aqdahxfnxijptxkm92299'},\n",
       "    'Diego Schwartzman': {'team_id': 'tchmipdtiyjekskn97146'},\n",
       "    'Facundo Bagnis': {'team_id': 'lbptprbwhavxygty05645'},\n",
       "    'Federico Coria': {'team_id': 'lrgdgphrlrpawyxf97715'},\n",
       "    'Sebastian Baez': {'team_id': 'krrkwnrekkbxwzpf95482'},\n",
       "    'Guido Pella': {'team_id': 'awiiersawkeixvqu97035'},\n",
       "    'Tomas Martin Etcheverry': {'team_id': 'dsilqejarkshqtmo00677'}},\n",
       "   'NETHERLANDS': {'Tallon Griekspoor': {'team_id': 'qbzymetyhuwvuipt95434'},\n",
       "    'Botic Van De Zandschulp': {'team_id': 'niwcbkbnhhhdrweh98749'}},\n",
       "   'HUNGARY': {'Marton Fucsovics': {'team_id': 'jgkogouvugsbddfu96526'}},\n",
       "   'SOUTH AFRICA': {'Lloyd Harris': {'team_id': 'hztqnmynswexzjyn05571'}},\n",
       "   'CHINA': {'Juncheng Shang': {'team_id': 'fwvznbobfmsseirg05242'},\n",
       "    'Zhizhen Zhang': {'team_id': 'pbbsnrxrefybyqel96847'},\n",
       "    'Yibing Wu': {'team_id': 'esuhmzdnkrnbcypg93881'}},\n",
       "   'SLOVAKIA': {'Alex Molcan': {'team_id': 'xaxrtcrtnqwbojox07829'}},\n",
       "   'FINLAND': {'Emil Ruusuvuori': {'team_id': 'wofsqidasjwgyvqu06661'}},\n",
       "   'NORWAY': {'Casper Ruud': {'team_id': 'uzriqnmufwbqvnki05881'}},\n",
       "   'TAIWAN': {'Chun Hsin Tseng': {'team_id': 'prmtwyugxksqqnei07068'},\n",
       "    'Yu Hsiou Hsu': {'team_id': 'druzbxrxvectqzzz07272'}},\n",
       "   'GERMANY': {'Jan-Lennard Struff': {'team_id': 'jzchsgmdxqcwsqcg01907'},\n",
       "    'Alexander Zverev': {'team_id': 'nyakfdkznzkxmasq00652'},\n",
       "    'Yannick Hanfmann': {'team_id': 'xjvbqlvdfxyshajl01497'},\n",
       "    'Daniel Altmaier': {'team_id': 'frmynflxvbndever91997'},\n",
       "    'Oscar Otte': {'team_id': 'qejehvpjbdnknbmw00473'}},\n",
       "   'PERU': {'Juan Pablo Varillas': {'team_id': 'vcmxliytghffuzqm90242'}},\n",
       "   'GEORGIA': {'Nikoloz Basilashvili': {'team_id': 'dcatvofdpwethffh90072'}},\n",
       "   'KAZAKHSTAN': {'Alexander Bublik': {'team_id': 'rmbpvglovgrrqifo07081'}},\n",
       "   'CHILE': {'Nicolas Jarry': {'team_id': 'vjutuffvwdqulhyl09215'},\n",
       "    'Cristian Garin': {'team_id': 'chgkhqflrrutwmxy94231'}},\n",
       "   'BELGIUM': {'Zizou Bergs': {'team_id': 'fumaopmxfxneljyw91634'}},\n",
       "   'UKRAINE': {'Oleksii Krutykh': {'team_id': 'quurxjbvcqvqlxdg02513'}},\n",
       "   'COLOMBIA': {'Daniel Elahi Galan': {'team_id': 'slnzauwzpsmecqvy99524'}},\n",
       "   'AUSTRIA': {'Dominic Thiem': {'team_id': 'ojwogeydzmyyesti06200'}},\n",
       "   'BRAZIL': {'Thiago Monteiro': {'team_id': 'gcihpmwylomcvyas05621'}},\n",
       "   'SWITZERLAND': {'Stan Wawrinka': {'team_id': 'avngqwlfkxqhbcoj90402'},\n",
       "    'Marc-Andrea Huesler': {'team_id': 'tdfqkuhsemmiyieo05252'}},\n",
       "   'SOUTH KOREA': {'Soonwoo Kwon': {'team_id': 'ehjzwaixmqlavkdo90536'}},\n",
       "   'CROATIA': {'Borna Coric': {'team_id': 'hptvdaamporrjriv01897'}},\n",
       "   'PORTUGAL': {'Nuno Borges': {'team_id': 'ouonnxdcouvxqpnu00757'},\n",
       "    'Joao Sousa': {'team_id': 'bemxnprwxxcssgcd06884'}},\n",
       "   'MEXICO': {'Ernesto Escobedo': {'team_id': 'ifxyepcgcoukwrzk97603'}},\n",
       "   'SWEDEN': {'Mikael Ymer': {'team_id': 'cmulikriadmvrvcy96123'}},\n",
       "   'BOLIVIA': {'Hugo Dellien': {'team_id': 'owksgnzcdcudpjnk03098'}}}}}"
      ]
     },
     "execution_count": 31,
     "metadata": {},
     "output_type": "execute_result"
    }
   ],
   "source": [
    "dict_duplicates = {}\n",
    "\n",
    "for row in list_results:\n",
    "    dict_duplicates.setdefault(row[0], {}).setdefault(row[1], {}).setdefault(row[2], {})[row[3]] = {'team_id': row[4]}\n",
    "dict_duplicates"
   ]
  },
  {
   "cell_type": "code",
   "execution_count": 18,
   "id": "4f263257",
   "metadata": {},
   "outputs": [
    {
     "name": "stdout",
     "output_type": "stream",
     "text": [
      "['Alex De Minaur', 'Novak Djokovic', 'Roberto Bautista-Agut', 'Tommy Paul', 'Andrey Rublev', 'Holger Rune', 'Ben Shelton', 'Jeffrey John Wolf', 'Stefanos Tsitsipas', 'Jannik Sinner', 'Jiri Lehecka', 'Felix Auger-Aliassime', 'Yoshihito Nishioka', 'Karen Khachanov', 'Hubert Hurkacz', 'Sebastian Korda', 'Grigor Dimitrov', 'Andy Murray', 'Alexei Popyrin', 'Michael Mmoh', 'Jenson Brooksby', 'Benjamin Bonzi', 'Ugo Humbert', 'Daniel Evans', 'Daniil Medvedev', 'Frances Tiafoe', 'Denis Shapovalov', 'Cameron Norrie', 'Francisco Cerundolo', 'Mackenzie McDonald', 'Tallon Griekspoor', 'Marton Fucsovics', 'Lloyd Harris', 'Jason Kubler', 'Juncheng Shang', 'Rafael Nadal', 'Alex Molcan', 'Laurent Lokoli', 'Richard Gasquet', 'Denis Kudla', 'Roman Safiullin', 'Max Purcell', 'Emil Ruusuvuori', 'Dalibor Svrcina', 'John Millman', 'Roberto Carballes Baena', 'Tomas Machac', 'Casper Ruud', 'Chun Hsin Tseng', 'Yu Hsiou Hsu', \"Christopher O'Connell\", 'Jan-Lennard Struff', 'Juan Pablo Varillas', 'Alexander Zverev', 'Matteo Berrettini', 'Zhizhen Zhang', 'Filip Krajinovic', 'Taylor Fritz', 'Nikoloz Basilashvili', 'Jordan Thompson', 'Pablo Carreno-Busta', 'Pedro Cachin', 'Alejandro Davidovich Fokina', 'Alexander Bublik', 'Nicolas Jarry', 'Miomir Kecmanovic', 'Mattia Bellucci', 'Zizou Bergs', 'Laslo Djere', 'Aslan Karatsev', 'Diego Schwartzman', 'Oleksii Krutykh', 'Facundo Bagnis', 'Daniel Elahi Galan', 'Jeremy Chardy', 'Dominic Thiem', 'Marcos Giron', 'Lorenzo Musetti', 'Thiago Monteiro', 'Constant Lestienne', 'Quentin Halys', 'Vasek Pospisil', 'Luca van Assche', 'Yannick Hanfmann', 'Rinky Hijikata', 'Stan Wawrinka', 'Federico Coria', 'Christopher Eubanks', 'Soonwoo Kwon', 'Marc-Andrea Huesler', 'Jaume Munar', 'Sebastian Baez', 'Borna Coric', 'Lorenzo Sonego', 'Nuno Borges', 'Ernesto Escobedo', 'Taro Daniel', 'Jack Draper', 'Daniel Altmaier', 'Bernabe Zapata Miralles', 'Brandon Nakashima', 'Pavel Kotov', 'Dusan Lajovic', 'Mikael Ymer', 'Cristian Garin', 'Pedro Martinez', 'Guido Pella', 'Kyle Edmund', 'Tomas Martin Etcheverry', 'Gregoire Barrere', 'Ilya Ivashka', 'Botic Van De Zandschulp', 'Corentin Moutet', 'Yibing Wu', 'Oscar Otte', 'Yosuke Watanuki', 'Arthur Rinderknech', 'Joao Sousa', 'Aleksandar Vukic', 'Brandon Holt', 'John Isner', 'Adrian Mannarino', 'Thanasi Kokkinakis', 'Fabio Fognini', 'Enzo Couacaud', 'Maxime Cressy', 'Albert Ramos-Vinolas', 'Hugo Dellien', 'Carlos Alcaraz']\n"
     ]
    }
   ],
   "source": [
    "for main_key in list(dict_duplicates.keys()):\n",
    "    player_list = list(dict_duplicates[main_key].keys())\n",
    "    print(player_list)"
   ]
  },
  {
   "cell_type": "code",
   "execution_count": null,
   "id": "edbfefb9",
   "metadata": {},
   "outputs": [],
   "source": [
    "SELECT *FROM league;\n",
    "\n",
    "SELECT league_country, league_name, COUNT(*) AS count_duplicates\n",
    "FROM league\n",
    "GROUP BY league_country, league_name\n",
    "HAVING COUNT(*) > 1;\n",
    "\n"
   ]
  },
  {
   "cell_type": "code",
   "execution_count": null,
   "id": "9d88faf9",
   "metadata": {},
   "outputs": [],
   "source": []
  },
  {
   "cell_type": "code",
   "execution_count": null,
   "id": "57f3b16e",
   "metadata": {},
   "outputs": [],
   "source": []
  }
 ],
 "metadata": {
  "kernelspec": {
   "display_name": "whatsappbot",
   "language": "python",
   "name": "whatsappbot"
  },
  "language_info": {
   "codemirror_mode": {
    "name": "ipython",
    "version": 3
   },
   "file_extension": ".py",
   "mimetype": "text/x-python",
   "name": "python",
   "nbconvert_exporter": "python",
   "pygments_lexer": "ipython3",
   "version": "3.10.12"
  }
 },
 "nbformat": 4,
 "nbformat_minor": 5
}
