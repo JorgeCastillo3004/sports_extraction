{
 "cells": [
  {
   "cell_type": "code",
   "execution_count": 70,
   "id": "f0af7de8",
   "metadata": {},
   "outputs": [
    {
     "name": "stdout",
     "output_type": "stream",
     "text": [
      "The autoreload extension is already loaded. To reload it, use:\n",
      "  %reload_ext autoreload\n"
     ]
    }
   ],
   "source": [
    "from selenium.webdriver.support import expected_conditions as EC\n",
    "from selenium.webdriver.support.ui import WebDriverWait\n",
    "from selenium.webdriver.chrome.options import Options\n",
    "from selenium.webdriver.chrome.service import Service\n",
    "from selenium.webdriver.support.ui import Select\n",
    "from selenium.webdriver.common.keys import Keys\n",
    "from selenium.webdriver.common.by import By\n",
    "import chromedriver_autoinstaller\n",
    "from selenium import webdriver\n",
    "from datetime import datetime\n",
    "import pandas as pd\n",
    "import random\n",
    "import time\n",
    "import json\n",
    "import re\n",
    "import os\n",
    "from selenium.webdriver.support.ui import Select\n",
    "from datetime import date, timedelta\n",
    "import string\n",
    "\n",
    "from common_functions import *\n",
    "from data_base import *\n",
    "from milestone1 import *\n",
    "from milestone2 import *\n",
    "from milestone3 import *\n",
    "from milestone4 import *\n",
    "from milestone6 import *\n",
    "from milestone7 import *\n",
    "# from main import *\n",
    "\n",
    "# Load the autoreload extension\n",
    "%load_ext autoreload\n",
    "\n",
    "\n",
    "# Enable autoreload for all modules\n",
    "%autoreload 2\n",
    "\n",
    "\n",
    "# from flashcore_extraction import *"
   ]
  },
  {
   "cell_type": "code",
   "execution_count": 40,
   "id": "a9fcee15",
   "metadata": {},
   "outputs": [],
   "source": [
    "from IPython.display import display, Image\n",
    "# Server credentials\n",
    "# Usuario: jignacio@jweglobal.com\n",
    "# Contraseña: Caracas5050@\n",
    "# Server OS: Linux - Debian 12\n",
    "# ssh root@104.156.244.145\n",
    "# 3,uM$2M4BnE.R*f*\n",
    "# User: root\n",
    "driver.quit()\n",
    "# docker exec -it sports_container psql -U wohhu -d sports_db\n",
    "\n",
    "SELECT league_id, COUNT(*) \n",
    "FROM league_team \n",
    "GROUP BY league_id;\n",
    "\n",
    "SELECT COUNT(*) FROM match; ##################### USED TO COUNT THE NUMBER OF RESULTS\n"
   ]
  },
  {
   "cell_type": "markdown",
   "id": "75bf0a9b",
   "metadata": {},
   "source": [
    "### Load flashscore website"
   ]
  },
  {
   "cell_type": "code",
   "execution_count": 3,
   "id": "be827c6d",
   "metadata": {},
   "outputs": [
    {
     "name": "stdout",
     "output_type": "stream",
     "text": [
      "Login... \n",
      "\n"
     ]
    }
   ],
   "source": [
    "driver = launch_navigator('https://www.flashscore.com', False)\n",
    "login(driver, email_= \"jignacio@jweglobal.com\", password_ = \"Caracas5050@\\n\")"
   ]
  },
  {
   "cell_type": "code",
   "execution_count": 72,
   "id": "d71cab21",
   "metadata": {
    "scrolled": true
   },
   "outputs": [
    {
     "name": "stdout",
     "output_type": "stream",
     "text": [
      "######################################################################################################\n",
      "#                                                GOLF                                                #\n",
      "######################################################################################################\n",
      "https://www.flashscore.com/news/golf/\n",
      "max_older_news:  31\n",
      "last_news_saved_sport:  ['McIlroy wants golf to go global with fifth major in Australia and more events in Japan', \"Rickie Fowler reveals he has 'zero plans' to join LIV Golf\", 'Tiger Woods announces end of long-time partnership with Nike', 'Late birdie lifts Chris Kirk to PGA victory at Sentry tournament', 'Chris Kirk climbs to register one-shot PGA Tour lead at The Sentry']\n",
      "news_date:  5 h ago # 2024-01-10 07:11:05.621414 # 5:00:00\n",
      "NEWS TIME:  2024-01-10 07:11:05.621414\n",
      "Duplicate news: \n",
      "0\n",
      "################################################## \n",
      "\n",
      "news_date:  Yesterday 09:59 # 2024-01-09 13:59:00.000005 # 22:12:05.621409\n",
      "NEWS TIME:  2024-01-09 13:59:00.000005\n",
      "Duplicate news: \n",
      "0\n",
      "################################################## \n",
      "\n",
      "news_date:  08.01.2024 13:23 # 2024-01-08 17:23:00.000005 # 1 day, 18:48:05.621409\n",
      "NEWS TIME:  2024-01-08 17:23:00.000005\n",
      "Duplicate news: \n",
      "0\n",
      "################################################## \n",
      "\n",
      "news_date:  08.01.2024 02:35 # 2024-01-08 06:35:00.000005 # 2 days, 5:36:05.621409\n",
      "NEWS TIME:  2024-01-08 06:35:00.000005\n",
      "Duplicate news: \n",
      "0\n",
      "################################################## \n",
      "\n",
      "news_date:  07.01.2024 03:45 # 2024-01-07 07:45:00.000005 # 3 days, 4:26:05.621409\n",
      "NEWS TIME:  2024-01-07 07:45:00.000005\n",
      "Duplicate news: \n",
      "0\n",
      "################################################## \n",
      "\n",
      "news_date:  07.01.2024 02:34 # 2024-01-07 06:34:00.000005 # 3 days, 5:37:05.621409\n",
      "NEWS TIME:  2024-01-07 06:34:00.000005\n",
      "Duplicate news: \n",
      "0\n",
      "################################################## \n",
      "\n",
      "news_date:  06.01.2024 04:12 # 2024-01-06 08:12:00.000005 # 4 days, 3:59:05.621409\n",
      "NEWS TIME:  2024-01-06 08:12:00.000005\n",
      "Duplicate news: \n",
      "0\n",
      "################################################## \n",
      "\n",
      "news_date:  05.01.2024 03:28 # 2024-01-05 07:28:00.000005 # 5 days, 4:43:05.621409\n",
      "NEWS TIME:  2024-01-05 07:28:00.000005\n",
      "Duplicate news: \n",
      "0\n",
      "################################################## \n",
      "\n",
      "news_date:  04.01.2024 16:51 # 2024-01-04 20:51:00.000005 # 5 days, 15:20:05.621409\n",
      "NEWS TIME:  2024-01-04 20:51:00.000005\n",
      "Duplicate news: \n",
      "0\n",
      "################################################## \n",
      "\n",
      "news_date:  04.01.2024 15:25 # 2024-01-04 19:25:00.000005 # 5 days, 16:46:05.621409\n",
      "NEWS TIME:  2024-01-04 19:25:00.000005\n",
      "Duplicate news: \n",
      "0\n",
      "################################################## \n",
      "\n",
      "news_date:  04.01.2024 03:52 # 2024-01-04 07:52:00.000005 # 6 days, 4:19:05.621409\n",
      "NEWS TIME:  2024-01-04 07:52:00.000005\n",
      "Duplicate news: \n",
      "0\n",
      "################################################## \n",
      "\n",
      "news_date:  04.01.2024 02:57 # 2024-01-04 06:57:00.000005 # 6 days, 5:14:05.621409\n",
      "NEWS TIME:  2024-01-04 06:57:00.000005\n",
      "Duplicate news: \n",
      "0\n",
      "################################################## \n",
      "\n",
      "news_date:  03.01.2024 18:37 # 2024-01-03 22:37:00.000005 # 6 days, 13:34:05.621409\n",
      "NEWS TIME:  2024-01-03 22:37:00.000005\n",
      "Duplicate news: \n",
      "0\n",
      "################################################## \n",
      "\n",
      "news_date:  03.01.2024 10:18 # 2024-01-03 14:18:00.000005 # 6 days, 21:53:05.621409\n",
      "NEWS TIME:  2024-01-03 14:18:00.000005\n",
      "Duplicate news: \n",
      "0\n",
      "################################################## \n",
      "\n",
      "news_date:  03.01.2024 04:20 # 2024-01-03 08:20:00.000005 # 7 days, 3:51:05.621409\n",
      "NEWS TIME:  2024-01-03 08:20:00.000005\n",
      "Duplicate news: \n",
      "0\n",
      "################################################## \n",
      "\n",
      "news_date:  01.01.2024 05:50 # 2024-01-01 09:50:00.000005 # 9 days, 2:21:05.621409\n",
      "NEWS TIME:  2024-01-01 09:50:00.000005\n",
      "Duplicate news: \n",
      "0\n",
      "################################################## \n",
      "\n",
      "news_date:  01.01.2024 05:00 # 2024-01-01 09:00:00.000005 # 9 days, 3:11:05.621409\n",
      "NEWS TIME:  2024-01-01 09:00:00.000005\n",
      "Duplicate news: \n",
      "0\n",
      "################################################## \n",
      "\n",
      "news_date:  25.12.2023 12:57 # 2023-12-25 16:57:00.000005 # 15 days, 19:14:05.621409\n",
      "NEWS TIME:  2023-12-25 16:57:00.000005\n",
      "Duplicate news: \n",
      "0\n",
      "################################################## \n",
      "\n",
      "news_date:  19.12.2023 09:09 # 2023-12-19 13:09:00.000005 # 21 days, 23:02:05.621409\n",
      "NEWS TIME:  2023-12-19 13:09:00.000005\n",
      "Duplicate news: \n",
      "0\n",
      "################################################## \n",
      "\n",
      "news_date:  19.12.2023 03:59 # 2023-12-19 07:59:00.000005 # 22 days, 4:12:05.621409\n",
      "NEWS TIME:  2023-12-19 07:59:00.000005\n",
      "Duplicate news: \n",
      "0\n",
      "################################################## \n",
      "\n",
      "news_date:  18.12.2023 02:41 # 2023-12-18 06:41:00.000005 # 23 days, 5:30:05.621409\n",
      "NEWS TIME:  2023-12-18 06:41:00.000005\n",
      "Duplicate news: \n",
      "0\n",
      "################################################## \n",
      "\n",
      "news_date:  17.12.2023 09:47 # 2023-12-17 13:47:00.000005 # 23 days, 22:24:05.621409\n",
      "NEWS TIME:  2023-12-17 13:47:00.000005\n",
      "Duplicate news: \n",
      "0\n",
      "################################################## \n",
      "\n",
      "news_date:  17.12.2023 01:58 # 2023-12-17 05:58:00.000005 # 24 days, 6:13:05.621409\n",
      "NEWS TIME:  2023-12-17 05:58:00.000005\n",
      "Duplicate news: \n",
      "0\n",
      "################################################## \n",
      "\n",
      "news_date:  16.12.2023 09:12 # 2023-12-16 13:12:00.000005 # 24 days, 22:59:05.621409\n",
      "NEWS TIME:  2023-12-16 13:12:00.000005\n",
      "Duplicate news: \n",
      "0\n",
      "################################################## \n",
      "\n",
      "news_date:  14.12.2023 12:00 # 2023-12-14 16:00:00.000005 # 26 days, 20:11:05.621409\n",
      "NEWS TIME:  2023-12-14 16:00:00.000005\n",
      "Duplicate news: \n",
      "0\n",
      "################################################## \n",
      "\n",
      "news_date:  14.12.2023 11:49 # 2023-12-14 15:49:00.000005 # 26 days, 20:22:05.621409\n",
      "NEWS TIME:  2023-12-14 15:49:00.000005\n",
      "Duplicate news: \n",
      "0\n",
      "################################################## \n",
      "\n",
      "NEW LIST:  ['McIlroy wants golf to go global with fifth major in Australia and more events in Japan', \"Rickie Fowler reveals he has 'zero plans' to join LIV Golf\", 'Tiger Woods announces end of long-time partnership with Nike', 'Late birdie lifts Chris Kirk to PGA victory at Sentry tournament', 'Chris Kirk climbs to register one-shot PGA Tour lead at The Sentry']\n",
      "list_upate_news:  0\n"
     ]
    }
   ],
   "source": [
    "main_extract_news(driver, ['GOLF'], MAX_OLDER_DATE_ALLOWED = 31)"
   ]
  },
  {
   "cell_type": "code",
   "execution_count": null,
   "id": "56e890c5",
   "metadata": {},
   "outputs": [],
   "source": []
  },
  {
   "cell_type": "code",
   "execution_count": 55,
   "id": "77664a36",
   "metadata": {},
   "outputs": [
    {
     "name": "stdout",
     "output_type": "stream",
     "text": [
      "Current_date:  2024-01-12 \n",
      "\n",
      "start_time:  1705107712.722865\n",
      "###################################################################################################### \n",
      " #                                         LIVE SECTION: GOLF                                         # \n",
      " ###################################################################################################### \n",
      "\n",
      "0\n",
      "###################################################################################################### \n",
      " #                                        SEARCHING LIVE MATCH                                        # \n",
      " ###################################################################################################### \n",
      "\n",
      "Complete time:  4.189786672592163\n"
     ]
    }
   ],
   "source": [
    "# give_click_on_live(driver)\n",
    "# live_games(driver, [\"FOOTBALL\", \"TENNIS\", \"BASKETBALL\", \"HOCKEY\", \"GOLF\", \"AM._FOOTBALL\",\n",
    "#                     \"BASEBALL\",\"BOXING\", \"MOTORSPORT\", \"VOLLEYBALL\"])\n",
    "\n",
    "live_games(driver, [\"GOLF\"])"
   ]
  },
  {
   "cell_type": "code",
   "execution_count": null,
   "id": "607274df",
   "metadata": {
    "scrolled": true
   },
   "outputs": [],
   "source": []
  },
  {
   "cell_type": "markdown",
   "id": "088df19c",
   "metadata": {},
   "source": [
    "### M3 TEAMS CREATION."
   ]
  },
  {
   "cell_type": "markdown",
   "id": "e4299478",
   "metadata": {},
   "source": [
    "### M4 Getting complete match data."
   ]
  },
  {
   "cell_type": "markdown",
   "id": "7d5b8207",
   "metadata": {},
   "source": [
    "### Check files generated."
   ]
  },
  {
   "cell_type": "code",
   "execution_count": null,
   "id": "2baad2c1",
   "metadata": {},
   "outputs": [],
   "source": [
    "live_games(driver, list_sports)"
   ]
  },
  {
   "cell_type": "code",
   "execution_count": null,
   "id": "0800ae0c",
   "metadata": {},
   "outputs": [],
   "source": []
  },
  {
   "cell_type": "markdown",
   "id": "60bdcb5e",
   "metadata": {},
   "source": [
    "# Test all the cases to extract rounds.\n",
    "\n"
   ]
  },
  {
   "cell_type": "code",
   "execution_count": 71,
   "id": "4eb708a7",
   "metadata": {
    "scrolled": true
   },
   "outputs": [
    {
     "name": "stdout",
     "output_type": "stream",
     "text": [
      "112\n",
      "FINLAND Liiga Standings\n",
      "13.01. 11:00 Jukurit JYP - -\n"
     ]
    },
    {
     "ename": "NameError",
     "evalue": "name 'row' is not defined",
     "output_type": "error",
     "traceback": [
      "\u001b[0;31m---------------------------------------------------------------------------\u001b[0m",
      "\u001b[0;31mNameError\u001b[0m                                 Traceback (most recent call last)",
      "Cell \u001b[0;32mIn [71], line 11\u001b[0m\n\u001b[1;32m      8\u001b[0m list_rounds_ready \u001b[38;5;241m=\u001b[39m []\n\u001b[1;32m      9\u001b[0m start_index \u001b[38;5;241m=\u001b[39m \u001b[38;5;241m0\u001b[39m\n\u001b[0;32m---> 11\u001b[0m start_index, round_enable \u001b[38;5;241m=\u001b[39m extract_info_results_v2(driver, start_index, results_block, section_name, country_league, list_rounds_ready)\n",
      "File \u001b[0;32m~/Work_may_2023/sports_extraction/milestone4.py:141\u001b[0m, in \u001b[0;36mextract_info_results_v2\u001b[0;34m(driver, start_index, results_block, section_name, country_league, list_rounds_ready)\u001b[0m\n\u001b[1;32m    139\u001b[0m \t\tcount \u001b[38;5;241m=\u001b[39m \u001b[38;5;241m0\u001b[39m\n\u001b[1;32m    140\u001b[0m \u001b[38;5;28;01mif\u001b[39;00m \u001b[38;5;124m'\u001b[39m\u001b[38;5;124mClick for match detail!\u001b[39m\u001b[38;5;124m'\u001b[39m \u001b[38;5;129;01min\u001b[39;00m HTML: \u001b[38;5;66;03m# EXTRACT MATHC INFO\u001b[39;00m\n\u001b[0;32m--> 141\u001b[0m \tresult \u001b[38;5;241m=\u001b[39m get_result(\u001b[43mrow\u001b[49m)\n\u001b[1;32m    142\u001b[0m \tall_list_results\u001b[38;5;241m.\u001b[39mappend(result)\n\u001b[1;32m    143\u001b[0m \u001b[38;5;28;01melse\u001b[39;00m:\n",
      "\u001b[0;31mNameError\u001b[0m: name 'row' is not defined"
     ]
    }
   ],
   "source": [
    "url = 'https://www.flashscore.com/football/germany/bundesliga/fixtures/'\n",
    "# url =  'https://www.flashscore.com/hockey/finland/liiga/fixtures/'\n",
    "driver.get(url)\n",
    "\n",
    "ount_sub_section = 0\n",
    "event_number = 0\n",
    "section_name = 'fixtures'\n",
    "xpath_expression = '//div[@class=\"leagues--static event--leagues {}\"]/div/div'.format(section_name)\n",
    "last_procesed_index = 0\n",
    "results_block = confirm_results(driver, section_name, max_count = 10)\n",
    "country_league = 'SPAIN LEAGUE'\t\n",
    "list_rounds_ready = []\n",
    "start_index = 0\n",
    "\n",
    "start_index, round_enable = extract_info_results_v2(driver, start_index, results_block, section_name, country_league, list_rounds_ready)\n"
   ]
  },
  {
   "cell_type": "code",
   "execution_count": null,
   "id": "3f052627",
   "metadata": {},
   "outputs": [],
   "source": [
    "\n"
   ]
  },
  {
   "cell_type": "code",
   "execution_count": null,
   "id": "324635ff",
   "metadata": {},
   "outputs": [],
   "source": []
  },
  {
   "cell_type": "code",
   "execution_count": 14,
   "id": "7363d588",
   "metadata": {
    "scrolled": true
   },
   "outputs": [
    {
     "name": "stdout",
     "output_type": "stream",
     "text": [
      "Current_date:  2024-01-11\n",
      "0\n",
      "0\n",
      "3\n",
      "{'match_id': 'bokp95273', 'match_date': '', 'start_time': '', 'end_time': '', 'name': 'Olimpia Milano-Crvena zvezda', 'home': 'Olimpia Milano', 'visitor': 'Crvena zvezda', 'home_result': '58', 'visitor_result': '66', 'place': '', 'league_name': 'Euroleague', 'league_country': 'EUROPE'}\n",
      "Type y to continue s to stop: a\n",
      "{'match_id': 'ziqz05937', 'match_date': '', 'start_time': '', 'end_time': '', 'name': 'Real Madrid-Valencia', 'home': 'Real Madrid', 'visitor': 'Valencia', 'home_result': '57', 'visitor_result': '53', 'place': '', 'league_name': 'Euroleague', 'league_country': 'EUROPE'}\n",
      "Type y to continue s to stop: a\n",
      "{'match_id': 'rdsr94887', 'match_date': '', 'start_time': '', 'end_time': '', 'name': 'Cleveland Cavaliers-Brooklyn Nets', 'home': 'Cleveland Cavaliers', 'visitor': 'Brooklyn Nets', 'home_result': '98', 'visitor_result': '87', 'place': '', 'league_name': 'NBA', 'league_country': 'USA'}\n",
      "Type y to continue s to stop: a\n"
     ]
    }
   ],
   "source": [
    "live_games(driver, [\"FOOTBALL\", \"HOCKEY\", \"BASKETBALL\"])"
   ]
  },
  {
   "cell_type": "code",
   "execution_count": 18,
   "id": "a2f8d10b",
   "metadata": {},
   "outputs": [
    {
     "name": "stdout",
     "output_type": "stream",
     "text": [
      "Continue process: FOOTBALL\n",
      "Continue process: HOCKEY\n",
      "Continue process: BASKETBALL\n"
     ]
    }
   ],
   "source": [
    "list_sports = [\"FOOTBALL\", \"HOCKEY\", \"BASKETBALL\"]\n",
    "\n",
    "sport_point = 'HOCKEY'\n",
    "\n",
    "for sport_name in list_sports:\n",
    "    \n",
    "    if sport_name != sport_point:\n",
    "        pass;\n",
    "    print(\"Continue process:\", sport_name)"
   ]
  },
  {
   "cell_type": "markdown",
   "id": "0e78fcd4",
   "metadata": {},
   "source": [
    "# Navegar en todos los resultados encontrados y completar informacion."
   ]
  },
  {
   "cell_type": "code",
   "execution_count": null,
   "id": "e5649962",
   "metadata": {},
   "outputs": [],
   "source": [
    "# wait until element staleness\n",
    "wait.until(EC.staleness_of(initial_element))\n",
    "\n",
    "\n",
    "# ZOOM ADJUSTMENTS\n",
    "driver.execute_script(\"document.body.style.zoom='50%'\")\n",
    "\n",
    "# find option and get not empty option\n",
    "options = driver.find_elements(By.XPATH, '//li[label[text()=\"LIS : LIS PENDENS\"] ]')\n",
    "# filter options\n",
    "option = [option for option in options if option.text.strip() != ''][0] \n",
    "# send escape key\n",
    "webdriver.ActionChains(driver).send_keys(Keys.ESCAPE).perform()\n",
    "\n",
    "\n",
    "################################################ WAIT DRIVER COMMAND #####################################################\n",
    "wait = WebDriverWait(driver, 10)\n",
    "row = wait.until(EC.presence_of_all_elements_located((By.XPATH, xpath_expression)))\n",
    "\n",
    "# way to find a form with specid div text, only get one element.\n",
    "form = driver.find_elements(By.XPATH, '//form[.//div/div[text()=\"Document Type\"]]')\n",
    "\n",
    "##################### wait until block ####################################\n",
    "###################### diferencia usando contains ##########################################\n",
    "xpath_expression = '//button[@id=\"acceptDataDisclaimer\" and text()=\"Agree\"]' # \n",
    "xpath_expression = '//button[contains(@id,\"acceptDataDisclaimer\") and contains(text(),\"Agree\")]' # \n",
    "############################################################################################\n",
    "# block with combinations of conditions\n",
    "xpath_expression = \"//table[contains(., 'Owner(s)')]\"\n",
    "xpath_expression = '//fieldset[legend[contains(text(), \"Return Address\")]]'  # expression with condition about inside tag\n",
    "xpath_expression = f\"//*[contains(@class, 'input-group') and .//*[@id='OwnerName']]\"\n",
    "search_block = driver.find_element(By.XPATH, xpath_expression)\n",
    "\n",
    "CLASS_SEARCH =  \"//input[contains(@class, 'ui-autocomplete-input') and contains(., '{}')]\".format(option)\n",
    "wait = WebDriverWait(driver, 10)\n",
    "element = wait.until(EC.element_to_be_clickable((By.XPATH, CLASS_SEARCH)))\n",
    "element = wait.until(EC.visibility_of_element_located((By.CLASS_NAME, \"my-element\")))\n",
    "options = wait.until(EC.presence_of_all_elements_located((By.XPATH, xpath_expression)))\n",
    "wait.until(EC.title_contains(\"New Page Title\"))\n",
    "wait.until(EC.alert_is_present())\n",
    "element = wait.until(EC.text_to_be_present_in_element((By.ID, \"myElement\"), \"Expected Text\"))\n",
    "\n",
    "# Send key delete \n",
    "box_text.send_keys(Keys.BACKSPACE*len(box_text.text))\n",
    "# command line to send ESCAPE KEY\n",
    "webdriver.ActionChains(driver).send_keys(Keys.ESCAPE).perform()\n",
    "\n",
    "# Page down pag up\n",
    "webdriver.ActionChains(driver).send_keys(Keys.PAGE_DOWN).perform()\n",
    "webdriver.ActionChains(driver).send_keys(Keys.PAGE_UP).perform()\n",
    "\n",
    "# not working\n",
    "webdriver.ActionChains(driver).send_keys(Keys.CONTROL + Keys.SUBTRACT).perform()\n",
    "\n"
   ]
  },
  {
   "cell_type": "code",
   "execution_count": null,
   "id": "88d98387",
   "metadata": {},
   "outputs": [],
   "source": [
    "\n",
    "\t{\"EXTRAC_NEWS\": \"weekly|dia_semana|15:30:00\",\n",
    "\t    \"CREATE_LEAGUES\": \"daily|10:30:30\",\n",
    "\t    \"CREATE_TEAMS\": \"monthly|dia_del_mes_1-31|09:00:15\",\n",
    "\t    \"GET_RESULTS\": \"time|3, o fraccion\", \"# correr cada 3 minutos\",\n",
    "\t    \"GET_FIXTURES\": \"time|3, o fraccion\", \"# correr cada 3 minutos\",\n",
    "\t    \"GET_RESULTS\": \"time|3, o fraccion\", \"# correr cada 3 minutos\"\n",
    "\t    // \"section5\": \"seconds|15|09:00:15\"}"
   ]
  }
 ],
 "metadata": {
  "kernelspec": {
   "display_name": "whatsappbot",
   "language": "python",
   "name": "whatsappbot"
  },
  "language_info": {
   "codemirror_mode": {
    "name": "ipython",
    "version": 3
   },
   "file_extension": ".py",
   "mimetype": "text/x-python",
   "name": "python",
   "nbconvert_exporter": "python",
   "pygments_lexer": "ipython3",
   "version": "3.10.12"
  }
 },
 "nbformat": 4,
 "nbformat_minor": 5
}
